{
 "cells": [
  {
   "cell_type": "markdown",
   "metadata": {},
   "source": [
    "### **Lista 7**\n",
    "##### Rafał Głodek\n",
    "***"
   ]
  },
  {
   "cell_type": "code",
   "execution_count": 1,
   "metadata": {},
   "outputs": [],
   "source": [
    "import numpy as np"
   ]
  },
  {
   "cell_type": "markdown",
   "metadata": {},
   "source": [
    "$$\n",
    "y_{n+1} = y_{n} + h(x_n^2 - 4y_{n})\n",
    "$$"
   ]
  },
  {
   "cell_type": "code",
   "execution_count": 45,
   "metadata": {},
   "outputs": [],
   "source": [
    "def euler(y_0, f, n, x):\n",
    "    y = y_0\n",
    "    xs = np.linspace(0, x, n+1)\n",
    "    h = xs[1] - xs[0]\n",
    "    for i in range(n):\n",
    "        y = y + h * f(y, xs[i])\n",
    "    return y\n"
   ]
  },
  {
   "cell_type": "code",
   "execution_count": 46,
   "metadata": {},
   "outputs": [],
   "source": [
    "def f1(y, x):\n",
    "    return x**2 - 4*y"
   ]
  },
  {
   "cell_type": "code",
   "execution_count": 47,
   "metadata": {},
   "outputs": [
    {
     "name": "stdout",
     "output_type": "stream",
     "text": [
      "0.88\n"
     ]
    }
   ],
   "source": [
    "print(euler(1, f1, 1, 0.03))"
   ]
  },
  {
   "cell_type": "code",
   "execution_count": 48,
   "metadata": {},
   "outputs": [
    {
     "name": "stdout",
     "output_type": "stream",
     "text": [
      "0.883603375\n"
     ]
    }
   ],
   "source": [
    "print(euler(1, f1, 2, 0.03))"
   ]
  },
  {
   "cell_type": "code",
   "execution_count": 49,
   "metadata": {},
   "outputs": [
    {
     "name": "stdout",
     "output_type": "stream",
     "text": [
      "0.8852986406921876\n"
     ]
    }
   ],
   "source": [
    "print(euler(1, f1, 4, 0.03))"
   ]
  },
  {
   "cell_type": "code",
   "execution_count": 13,
   "metadata": {},
   "outputs": [
    {
     "name": "stdout",
     "output_type": "stream",
     "text": [
      "0.8869291730697463\n"
     ]
    }
   ],
   "source": [
    "analitical_solution = lambda x: 31/32 * np.exp(-4*x) + 1/4 * x**2 - 1/8 * x + 1/32\n",
    "print(analitical_solution((0.03)))"
   ]
  },
  {
   "cell_type": "code",
   "execution_count": 50,
   "metadata": {},
   "outputs": [],
   "source": [
    "def runge_kutta_2nd_order(y_0, f, n, x):\n",
    "    y = y_0 \n",
    "    xs = np.linspace(0, x, n+1)\n",
    "    h = xs[1] - xs[0]\n",
    "    for i in range(n):\n",
    "        y = y + h * f(xs[i] + 1/2 * h, y + 1/2 * h * f(xs[i], y))\n",
    "    return y"
   ]
  },
  {
   "cell_type": "code",
   "execution_count": 51,
   "metadata": {},
   "outputs": [
    {
     "name": "stdout",
     "output_type": "stream",
     "text": [
      "1.0290946097700677\n"
     ]
    }
   ],
   "source": [
    "print(runge_kutta_2nd_order(1, f1, 2, 0.03))"
   ]
  },
  {
   "cell_type": "code",
   "execution_count": null,
   "metadata": {},
   "outputs": [],
   "source": []
  }
 ],
 "metadata": {
  "kernelspec": {
   "display_name": "Python 3",
   "language": "python",
   "name": "python3"
  },
  "language_info": {
   "codemirror_mode": {
    "name": "ipython",
    "version": 3
   },
   "file_extension": ".py",
   "mimetype": "text/x-python",
   "name": "python",
   "nbconvert_exporter": "python",
   "pygments_lexer": "ipython3",
   "version": "3.13.0"
  }
 },
 "nbformat": 4,
 "nbformat_minor": 2
}
