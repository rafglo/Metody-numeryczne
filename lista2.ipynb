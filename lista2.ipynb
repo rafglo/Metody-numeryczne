{
 "cells": [
  {
   "cell_type": "code",
   "execution_count": 2,
   "metadata": {},
   "outputs": [],
   "source": [
    "import numpy as np\n",
    "import scipy"
   ]
  },
  {
   "cell_type": "code",
   "execution_count": 10,
   "metadata": {},
   "outputs": [],
   "source": [
    "def swap_rows(mat, i, j):\n",
    "    n = len(mat[0])\n",
    "    for k in range(n):\n",
    "        temp = mat[i][k]\n",
    "        mat[i][k] = mat[j][k]\n",
    "        mat[j][k] = temp"
   ]
  },
  {
   "cell_type": "code",
   "execution_count": 42,
   "metadata": {},
   "outputs": [],
   "source": [
    "mat = [[1,2,3,6], [4,5,6,7],[2,3,4,9]]\n"
   ]
  },
  {
   "cell_type": "code",
   "execution_count": 25,
   "metadata": {},
   "outputs": [
    {
     "name": "stdout",
     "output_type": "stream",
     "text": [
      "[1 1 1 2]\n"
     ]
    }
   ],
   "source": [
    "print(np.argmax(mat, axis=0))"
   ]
  },
  {
   "cell_type": "code",
   "execution_count": 45,
   "metadata": {},
   "outputs": [],
   "source": [
    "def gauss(mat):\n",
    "    mat = np.array(mat)\n",
    "    m = len(mat)\n",
    "    n = len(mat[0])\n",
    "    h = 0\n",
    "    k = 0\n",
    "    while h < m and k < n:\n",
    "        i_max = np.argmax(np.abs(mat[h:, k])) + h\n",
    "        if mat[i_max, k] == 0:\n",
    "            k += 1\n",
    "        else:\n",
    "            if i_max != h:\n",
    "                swap_rows(mat, h, i_max)\n",
    "            for i in range(h+1, m):\n",
    "                f = mat[i, k] / mat[h, k]\n",
    "                mat[i, k] = 0\n",
    "                for j in range(k+1, n):\n",
    "                    mat[i,j] = mat[i,j] - mat[h,j] * f\n",
    "            h += 1\n",
    "            k += 1\n",
    "    return mat\n",
    "            \n",
    "    \n",
    "            \n"
   ]
  },
  {
   "cell_type": "code",
   "execution_count": 46,
   "metadata": {},
   "outputs": [
    {
     "name": "stdout",
     "output_type": "stream",
     "text": [
      "[[4 5 6 7]\n",
      " [0 0 1 4]\n",
      " [0 0 0 1]]\n"
     ]
    }
   ],
   "source": [
    "print(gauss(mat))"
   ]
  },
  {
   "cell_type": "code",
   "execution_count": null,
   "metadata": {},
   "outputs": [],
   "source": [
    "def rozwiazanie(mat):\n",
    "    m = len(mat)\n",
    "    n = len(mat[0])"
   ]
  },
  {
   "cell_type": "markdown",
   "metadata": {},
   "source": [
    "Zadanie 4"
   ]
  },
  {
   "cell_type": "code",
   "execution_count": 48,
   "metadata": {},
   "outputs": [],
   "source": [
    "A = np.array([\n",
    "    [0, 0, 2, 1, 2],\n",
    "    [0, 1, 0, 2, -1],\n",
    "    [1, 2, 0, -2, 0],\n",
    "    [0, 0, 0, -1, 1],\n",
    "    [0, 1, -1, 1, -1]\n",
    "])\n",
    "\n",
    "b = np.array([1, 1, -4, -2, -1])\n",
    "\n",
    "augmented_matrix = np.column_stack((A, b))"
   ]
  },
  {
   "cell_type": "code",
   "execution_count": 49,
   "metadata": {},
   "outputs": [
    {
     "name": "stdout",
     "output_type": "stream",
     "text": [
      "[[ 1  2  0 -2  0 -4]\n",
      " [ 0  1  0  2 -1  1]\n",
      " [ 0  0  2  1  2  1]\n",
      " [ 0  0  0 -1  1 -2]\n",
      " [ 0  0  0  0  1 -1]]\n"
     ]
    }
   ],
   "source": [
    "print(gauss(augmented_matrix))"
   ]
  },
  {
   "cell_type": "code",
   "execution_count": null,
   "metadata": {},
   "outputs": [],
   "source": []
  }
 ],
 "metadata": {
  "kernelspec": {
   "display_name": "Python 3",
   "language": "python",
   "name": "python3"
  },
  "language_info": {
   "codemirror_mode": {
    "name": "ipython",
    "version": 3
   },
   "file_extension": ".py",
   "mimetype": "text/x-python",
   "name": "python",
   "nbconvert_exporter": "python",
   "pygments_lexer": "ipython3",
   "version": "3.13.0"
  }
 },
 "nbformat": 4,
 "nbformat_minor": 2
}
