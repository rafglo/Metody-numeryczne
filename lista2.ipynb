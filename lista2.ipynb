{
 "cells": [
  {
   "cell_type": "code",
   "execution_count": 2,
   "metadata": {},
   "outputs": [],
   "source": [
    "import numpy as np\n",
    "import scipy"
   ]
  },
  {
   "cell_type": "markdown",
   "metadata": {},
   "source": [
    "Zad 1"
   ]
  },
  {
   "cell_type": "markdown",
   "metadata": {},
   "source": [
    "a) $det(A) = 0$ -> macierz osobliwa\n",
    "\n",
    "b) $det(A) = \\frac{58867}{1000000} = 0.058867$\n",
    "$$\n",
    "A^{-1} = \n",
    "\\begin{bmatrix}\n",
    "\\frac{145500}{1369} & \\frac{290000}{1369} & \\frac{-145200}{1369}\\\\\n",
    "100 & 200 & -100 \\\\\n",
    "\\frac{-4902900}{58867} & \\frac{-9821500}{58867} & \\frac{4921300}{58867} \\\\\n",
    "\\end{bmatrix}\n",
    "$$\n",
    "Weźmy $p=q=1$\n",
    "\n",
    "Czyli $||A||_{1,1} = \\max_{1<i<n} \\sum_{j=1}^n|a_{ij}|$\n",
    "\n",
    "$\n",
    "||A|| = \\max(4.63, 6.16, 11.12)\n",
    "$\n",
    "\n",
    "$\n",
    "||A^{-1}|| = \\max(424.18, \\dots, \\dots) \\ge 424.18\n",
    "$\n",
    "\n",
    "Więc $K_{11} = ||A^{-1}|| \\cdot ||A|| \\ge 11.12 \\cdot 424.18 >> 1 $\n",
    "\n",
    "A zatem jest to macierz źle uwarunkowana\n",
    "\n",
    "c) $det(A) = 4$\n",
    "\n",
    "$$\n",
    "A^{-1} = \n",
    "\\begin{bmatrix}\n",
    "\\frac{3}{4} & \\frac{1}{2} & \\frac{1}{4}\\\\\n",
    "\\frac{1}{2}  & 1 & \\frac{1}{2}  \\\\\n",
    "\\frac{1}{4} & \\frac{1}{2} & \\frac{3}{4} \\\\\n",
    "\\end{bmatrix}\n",
    "$$\n",
    "\n",
    "$\n",
    "||A|| = \\max(3, 4, 3) = 4\n",
    "$\n",
    "\n",
    "$\n",
    "||A^{-1}|| = \\max(1.5, 2, 1.5)\n",
    "$\n",
    "\n",
    "Więc $K_{11} = 8$\n",
    "\n",
    "Zatem macierz jest dość dobrze uwarunkowana.\n",
    "\n",
    "d) $det(A) = 0$ -> macierz osobliwa"
   ]
  },
  {
   "cell_type": "markdown",
   "metadata": {},
   "source": [
    "Zadanie 2"
   ]
  },
  {
   "cell_type": "markdown",
   "metadata": {},
   "source": [
    "$A = LU$\n",
    "\n",
    "Więc\n",
    "\n",
    "$det(A) = det(L) \\cdot det(U)$"
   ]
  },
  {
   "cell_type": "code",
   "execution_count": 3,
   "metadata": {},
   "outputs": [],
   "source": [
    "def swap_rows(mat, i, j):\n",
    "    n = len(mat[0])\n",
    "    for k in range(n):\n",
    "        temp = mat[i][k]\n",
    "        mat[i][k] = mat[j][k]\n",
    "        mat[j][k] = temp"
   ]
  },
  {
   "cell_type": "code",
   "execution_count": 4,
   "metadata": {},
   "outputs": [],
   "source": [
    "def rozwiazanie(mat):\n",
    "    m = len(mat)\n",
    "    n = len(mat[0])\n",
    "    wyniki = np.zeros(m)\n",
    "    for i in range(m-1,-1,-1):\n",
    "        wyniki[i] = mat[i][m]\n",
    "        for j in range(i+1,m):\n",
    "            wyniki[i] -= mat[i][j] * wyniki[j]\n",
    "        wyniki[i] = (wyniki[i]/mat[i][i])\n",
    "    return wyniki\n"
   ]
  },
  {
   "cell_type": "code",
   "execution_count": 5,
   "metadata": {},
   "outputs": [],
   "source": [
    "def gauss(mat):\n",
    "    swap_count = 0\n",
    "    mat = np.array(mat, dtype=float)\n",
    "    m = len(mat)\n",
    "    n = len(mat[0])\n",
    "    h = 0\n",
    "    k = 0\n",
    "    while h < m and k < n:\n",
    "        i_max = np.argmax(np.abs(mat[h:, k])) + h\n",
    "        if mat[i_max, k] == 0:\n",
    "            k += 1\n",
    "        else:\n",
    "            if i_max != h:\n",
    "                swap_rows(mat, h, i_max)\n",
    "                swap_count += 1\n",
    "            for i in range(h+1, m):\n",
    "                f = mat[i, k] / mat[h, k]\n",
    "                mat[i, k] = 0\n",
    "                for j in range(k+1, n):\n",
    "                    mat[i,j] = mat[i,j] - mat[h,j] * f\n",
    "            h += 1\n",
    "            k += 1\n",
    "    return mat, swap_count\n",
    "            \n",
    "    \n",
    "            \n"
   ]
  },
  {
   "cell_type": "code",
   "execution_count": 6,
   "metadata": {},
   "outputs": [],
   "source": [
    "def determinant_of_triangular_matrix(mat, swap_count):\n",
    "    n = len(mat)\n",
    "    wynik = 1\n",
    "    for i in range(n):\n",
    "        wynik *= mat[i][i]\n",
    "    return wynik * (-1) ** swap_count"
   ]
  },
  {
   "cell_type": "code",
   "execution_count": 7,
   "metadata": {},
   "outputs": [],
   "source": [
    "def gauss_jordan(mat):\n",
    "    swap_count = 0\n",
    "    mat = np.array(mat, dtype=float)\n",
    "    m = len(mat)\n",
    "    n = len(mat[0])\n",
    "    h = 0\n",
    "    k = 0\n",
    "    while h < m and k < n:\n",
    "        i_max = np.argmax(np.abs(mat[h:, k])) + h\n",
    "        if mat[i_max, k] == 0:\n",
    "            k += 1\n",
    "        else:\n",
    "            if i_max != h:\n",
    "                swap_rows(mat, h, i_max)\n",
    "                swap_count += 1\n",
    "            for i in range(h+1, m):\n",
    "                f = mat[i, k] / mat[h, k]\n",
    "                mat[i, k] = 0\n",
    "                for j in range(k+1, n):\n",
    "                    mat[i,j] = mat[i,j] - mat[h,j] * f\n",
    "            h += 1\n",
    "            k += 1\n",
    "    for i in range(m-1, -1, -1):\n",
    "        j = np.argmax(np.abs(mat[i]))\n",
    "        mat[i] /= mat[i][j]\n",
    "        for k in range(i-1, -1, -1):\n",
    "            mat[k] -= mat[i] * mat[k][j]\n",
    "    return mat, swap_count\n",
    "            \n"
   ]
  },
  {
   "cell_type": "code",
   "execution_count": 8,
   "metadata": {},
   "outputs": [],
   "source": [
    "def inversing(mat):\n",
    "    mat = np.array(mat, dtype=float)\n",
    "    m = len(mat)\n",
    "    n = len(mat[0])\n",
    "    if m != n:\n",
    "        raise(ValueError(\"Macierz musi byc kwadratowa\"))\n",
    "    if determinant_of_triangular_matrix(gauss(mat)[0], gauss(mat)[1]) == 0:\n",
    "        raise(ValueError(\"Macierz jest osobliwa i nie ma odwrotności\"))\n",
    "    h = 0\n",
    "    mat_inv = np.eye(m)\n",
    "    while h < m:\n",
    "        i_max = np.argmax(np.abs(mat[h:, h])) + h\n",
    "        if mat[i_max, h] == 0:\n",
    "            raise(ValueError(\"Macierz jest osobliwa i nie ma odwrotności\"))\n",
    "        else:\n",
    "            if i_max != h:\n",
    "                swap_rows(mat, h, i_max)\n",
    "                swap_rows(mat_inv, h, i_max)\n",
    "\n",
    "            for i in range(h+1, m):\n",
    "                f = mat[i, h] / mat[h, h]\n",
    "                mat[i, h] = 0\n",
    "                mat_inv[i] -= mat_inv[h] * f\n",
    "                for j in range(h+1, n):\n",
    "                    mat[i,j] -= mat[h,j] * f\n",
    "            h += 1\n",
    "    for i in range(n - 1, -1, -1):\n",
    "        mat_inv[i] /= mat[i, i]\n",
    "        mat[i] /= mat[i, i]  \n",
    "        for k in range(i):\n",
    "            mat_inv[k] -= mat_inv[i] * mat[k, i]\n",
    "            mat[k] -= mat[i] * mat[k,i]\n",
    "    return mat_inv, mat\n",
    "            \n"
   ]
  },
  {
   "cell_type": "markdown",
   "metadata": {},
   "source": [
    "Zadanie 4"
   ]
  },
  {
   "cell_type": "code",
   "execution_count": 142,
   "metadata": {},
   "outputs": [],
   "source": [
    "A = np.array([\n",
    "    [0, 0, 2, 1, 2],\n",
    "    [0, 1, 0, 2, -1],\n",
    "    [1, 2, 0, -2, 0],\n",
    "    [0, 0, 0, -1, 1],\n",
    "    [0, 1, -1, 1, -1]\n",
    "])\n",
    "\n",
    "b = np.array([1, 1, -4, -2, -1])\n",
    "\n",
    "augmented_matrix = np.column_stack((A, b))"
   ]
  },
  {
   "cell_type": "code",
   "execution_count": 143,
   "metadata": {},
   "outputs": [
    {
     "name": "stdout",
     "output_type": "stream",
     "text": [
      "(array([[ 1. ,  2. ,  0. , -2. ,  0. , -4. ],\n",
      "       [ 0. ,  1. ,  0. ,  2. , -1. ,  1. ],\n",
      "       [ 0. ,  0. ,  2. ,  1. ,  2. ,  1. ],\n",
      "       [ 0. ,  0. ,  0. , -1. ,  1. , -2. ],\n",
      "       [ 0. ,  0. ,  0. ,  0. ,  0.5, -0.5]]), 1)\n",
      "[ 2. -2.  1.  1. -1.]\n"
     ]
    }
   ],
   "source": [
    "print(gauss(augmented_matrix))\n",
    "print(rozwiazanie(gauss(augmented_matrix)[0]))"
   ]
  },
  {
   "cell_type": "markdown",
   "metadata": {},
   "source": [
    "Zadanie 5"
   ]
  },
  {
   "cell_type": "code",
   "execution_count": 144,
   "metadata": {},
   "outputs": [],
   "source": [
    "A = np.array([\n",
    "    [1, 0, 0, 0, 0],\n",
    "    [1, 1, 1, 1, 1],\n",
    "    [1, 3, 9, 27, 81],\n",
    "    [1, 5, 25, 125, 625],\n",
    "    [1, 6, 36, 216, 1296]\n",
    "])\n",
    "\n",
    "b = np.array([-1, 1, 3, 2, -2])\n",
    "\n",
    "augmented_matrix = np.column_stack((A, b))"
   ]
  },
  {
   "cell_type": "code",
   "execution_count": 146,
   "metadata": {},
   "outputs": [
    {
     "name": "stdout",
     "output_type": "stream",
     "text": [
      "[-1.          2.68333333 -0.875       0.21666667 -0.025     ]\n"
     ]
    }
   ],
   "source": [
    "print(rozwiazanie(gauss(augmented_matrix)[0]))"
   ]
  },
  {
   "cell_type": "markdown",
   "metadata": {},
   "source": [
    "Zadanie 6"
   ]
  },
  {
   "cell_type": "code",
   "execution_count": 147,
   "metadata": {},
   "outputs": [],
   "source": [
    "A = np.array([\n",
    "    [3.5, 2.77, -0.76, 1.8],\n",
    "    [-1.8, 2.68, 3.44, -0.09],\n",
    "    [0.27, 5.07, 6.9, 1.61],\n",
    "    [1.71, 5.45, 2.68, 1.71],\n",
    "], dtype=float)\n",
    "\n",
    "b = np.array([7.31, 4.23, 13.85, 11.55])\n",
    "\n",
    "augmented_matrix = np.column_stack((A, b))"
   ]
  },
  {
   "cell_type": "code",
   "execution_count": 148,
   "metadata": {},
   "outputs": [
    {
     "name": "stdout",
     "output_type": "stream",
     "text": [
      "[1. 1. 1. 1.]\n"
     ]
    }
   ],
   "source": [
    "x = rozwiazanie(gauss(augmented_matrix)[0])\n",
    "print(x)"
   ]
  },
  {
   "cell_type": "code",
   "execution_count": 149,
   "metadata": {},
   "outputs": [
    {
     "name": "stdout",
     "output_type": "stream",
     "text": [
      "det(A) = -0.22579734000000884\n"
     ]
    }
   ],
   "source": [
    "print(f\"det(A) = {determinant_of_triangular_matrix(gauss(A)[0], gauss(A)[1])}\")"
   ]
  },
  {
   "cell_type": "code",
   "execution_count": 150,
   "metadata": {},
   "outputs": [
    {
     "name": "stdout",
     "output_type": "stream",
     "text": [
      "Ax = [ 7.31  4.23 13.85 11.55]\n"
     ]
    }
   ],
   "source": [
    "Ax = np.dot(A, x)\n",
    "print(f\"Ax = {Ax}\")"
   ]
  },
  {
   "cell_type": "code",
   "execution_count": 151,
   "metadata": {},
   "outputs": [
    {
     "name": "stdout",
     "output_type": "stream",
     "text": [
      "r = [8.88178420e-16 0.00000000e+00 1.77635684e-15 1.77635684e-15]\n"
     ]
    }
   ],
   "source": [
    "r = b - Ax\n",
    "print(f\"r = {r}\")"
   ]
  },
  {
   "cell_type": "markdown",
   "metadata": {},
   "source": [
    "Na podstawie wektora reszt można wywnioskować, że wszystkie wyniki są obliczone z dużą dokładnością (błąd jest mały, rzędu $10^{-15}$ i $10^{-16}$). Rozwiązanie $x_2$ jest najbardziej dokadne."
   ]
  },
  {
   "cell_type": "markdown",
   "metadata": {},
   "source": [
    "Zadanie 7"
   ]
  },
  {
   "cell_type": "code",
   "execution_count": 83,
   "metadata": {},
   "outputs": [],
   "source": [
    "A = np.array([\n",
    "    [10, -2, -1, 2, 3, 1, -4, 7],\n",
    "    [5, 11, 3, 10, -3, 3, 3, -4],\n",
    "    [7, 12, 1, 5, 3, -12, 2, 3],\n",
    "    [8, 7, -2, 1, 3, 2, 2, 4],\n",
    "    [2, -15, -1, 1, 4, -1, 8, 3],\n",
    "    [4, 2, 9, 1, 12, -1, 4, 1],\n",
    "    [-1, 4, -7, -1, 1, 1, -1, -3],\n",
    "    [-1, 3, 4, 1, 3, -4, 7, 6]\n",
    "], dtype=float)\n",
    "\n",
    "b = np.array([0, 12, -5, 3, -25, -26, 9, -7])\n",
    "\n",
    "augmented_matrix = np.column_stack((A, b))"
   ]
  },
  {
   "cell_type": "code",
   "execution_count": 84,
   "metadata": {},
   "outputs": [
    {
     "name": "stdout",
     "output_type": "stream",
     "text": [
      "[-1.  1. -1.  1. -1.  1. -1.  1.]\n"
     ]
    }
   ],
   "source": [
    "x = rozwiazanie(gauss(augmented_matrix)[0])\n",
    "print(x)"
   ]
  },
  {
   "cell_type": "markdown",
   "metadata": {},
   "source": [
    "Zadanie 8"
   ]
  },
  {
   "cell_type": "code",
   "execution_count": 16,
   "metadata": {},
   "outputs": [],
   "source": [
    "def inversing(mat):\n",
    "    mat = np.array(mat, dtype=float)\n",
    "    m = len(mat)\n",
    "    n = len(mat[0])\n",
    "    if m != n:\n",
    "        raise(ValueError(\"Macierz musi byc kwadratowa\"))\n",
    "    if np.isclose(determinant_of_triangular_matrix(gauss(mat)[0], gauss(mat)[1]), 0):\n",
    "        raise(ValueError(\"Macierz jest osobliwa i nie ma odwrotności\"))\n",
    "    h = 0\n",
    "    mat_inv = np.eye(m)\n",
    "    while h < m:\n",
    "        i_max = np.argmax(np.abs(mat[h:, h])) + h\n",
    "        if mat[i_max, h] == 0:\n",
    "            raise(ValueError(\"Macierz jest osobliwa i nie ma odwrotności\"))\n",
    "        else:\n",
    "            if i_max != h:\n",
    "                swap_rows(mat, h, i_max)\n",
    "                swap_rows(mat_inv, h, i_max)\n",
    "\n",
    "            for i in range(h+1, m):\n",
    "                f = mat[i, h] / mat[h, h]\n",
    "                mat[i, h] = 0\n",
    "                mat_inv[i] -= mat_inv[h] * f\n",
    "                for j in range(h+1, n):\n",
    "                    mat[i,j] -= mat[h,j] * f\n",
    "            h += 1\n",
    "    for i in range(n - 1, -1, -1):\n",
    "        mat_inv[i] /= mat[i, i]\n",
    "        mat[i] /= mat[i, i]  \n",
    "        for k in range(i):\n",
    "            mat_inv[k] -= mat_inv[i] * mat[k, i]\n",
    "            mat[k] -= mat[i] * mat[k,i]\n",
    "    return mat_inv\n",
    "            \n"
   ]
  },
  {
   "cell_type": "code",
   "execution_count": 134,
   "metadata": {},
   "outputs": [],
   "source": [
    "A = np.array([\n",
    "    [2, -1, 0, 0, 0, 0],\n",
    "    [-1, 2, -1, 0, 0, 0],\n",
    "    [0, -1, 2, -1, 0, 0],\n",
    "    [0, 0, -1, 2, -1, 0],\n",
    "    [0, 0, 0, -1, 2, -1],\n",
    "    [0, 0, 0, 0, -1, 5]\n",
    "], dtype=float)\n"
   ]
  },
  {
   "cell_type": "code",
   "execution_count": 135,
   "metadata": {},
   "outputs": [
    {
     "name": "stdout",
     "output_type": "stream",
     "text": [
      "[[0.84 0.68 0.52 0.36 0.2  0.04]\n",
      " [0.68 1.36 1.04 0.72 0.4  0.08]\n",
      " [0.52 1.04 1.56 1.08 0.6  0.12]\n",
      " [0.36 0.72 1.08 1.44 0.8  0.16]\n",
      " [0.2  0.4  0.6  0.8  1.   0.2 ]\n",
      " [0.04 0.08 0.12 0.16 0.2  0.24]]\n"
     ]
    }
   ],
   "source": [
    "print((inversing(A)))"
   ]
  },
  {
   "cell_type": "markdown",
   "metadata": {},
   "source": [
    "Nie jest trójdiagonalna"
   ]
  },
  {
   "cell_type": "markdown",
   "metadata": {},
   "source": [
    "Zadanie 9"
   ]
  },
  {
   "cell_type": "code",
   "execution_count": 9,
   "metadata": {},
   "outputs": [],
   "source": [
    "A = np.array([\n",
    "    [1, 3, -9, 6, 4],\n",
    "    [2, -1, 6, 7, 1],\n",
    "    [3, 2, -3, 15, 5],\n",
    "    [8, -1, 1, 4, 2],\n",
    "    [11, 1, -2, 18, 7]\n",
    "], dtype=float)\n"
   ]
  },
  {
   "cell_type": "code",
   "execution_count": 17,
   "metadata": {},
   "outputs": [
    {
     "ename": "ValueError",
     "evalue": "Macierz jest osobliwa i nie ma odwrotności",
     "output_type": "error",
     "traceback": [
      "\u001b[1;31m---------------------------------------------------------------------------\u001b[0m",
      "\u001b[1;31mValueError\u001b[0m                                Traceback (most recent call last)",
      "Cell \u001b[1;32mIn[17], line 1\u001b[0m\n\u001b[1;32m----> 1\u001b[0m \u001b[38;5;28mprint\u001b[39m((\u001b[43minversing\u001b[49m\u001b[43m(\u001b[49m\u001b[43mA\u001b[49m\u001b[43m)\u001b[49m))\n",
      "Cell \u001b[1;32mIn[16], line 8\u001b[0m, in \u001b[0;36minversing\u001b[1;34m(mat)\u001b[0m\n\u001b[0;32m      6\u001b[0m     \u001b[38;5;28;01mraise\u001b[39;00m(\u001b[38;5;167;01mValueError\u001b[39;00m(\u001b[38;5;124m\"\u001b[39m\u001b[38;5;124mMacierz musi byc kwadratowa\u001b[39m\u001b[38;5;124m\"\u001b[39m))\n\u001b[0;32m      7\u001b[0m \u001b[38;5;28;01mif\u001b[39;00m np\u001b[38;5;241m.\u001b[39misclose(determinant_of_triangular_matrix(gauss(mat)[\u001b[38;5;241m0\u001b[39m], gauss(mat)[\u001b[38;5;241m1\u001b[39m]), \u001b[38;5;241m0\u001b[39m):\n\u001b[1;32m----> 8\u001b[0m     \u001b[38;5;28;01mraise\u001b[39;00m(\u001b[38;5;167;01mValueError\u001b[39;00m(\u001b[38;5;124m\"\u001b[39m\u001b[38;5;124mMacierz jest osobliwa i nie ma odwrotności\u001b[39m\u001b[38;5;124m\"\u001b[39m))\n\u001b[0;32m      9\u001b[0m h \u001b[38;5;241m=\u001b[39m \u001b[38;5;241m0\u001b[39m\n\u001b[0;32m     10\u001b[0m mat_inv \u001b[38;5;241m=\u001b[39m np\u001b[38;5;241m.\u001b[39meye(m)\n",
      "\u001b[1;31mValueError\u001b[0m: Macierz jest osobliwa i nie ma odwrotności"
     ]
    }
   ],
   "source": [
    "print((inversing(A)))"
   ]
  },
  {
   "cell_type": "code",
   "execution_count": 13,
   "metadata": {},
   "outputs": [
    {
     "name": "stdout",
     "output_type": "stream",
     "text": [
      "5.928590951498336e-14\n"
     ]
    }
   ],
   "source": [
    "print(determinant_of_triangular_matrix(gauss(A)[0], gauss(A)[1]))"
   ]
  },
  {
   "cell_type": "code",
   "execution_count": 139,
   "metadata": {},
   "outputs": [
    {
     "name": "stdout",
     "output_type": "stream",
     "text": [
      "1.9761969838327938e-14\n"
     ]
    }
   ],
   "source": [
    "print(np.linalg.det(A))"
   ]
  },
  {
   "cell_type": "markdown",
   "metadata": {},
   "source": [
    "Wyznacznik tej macierzy powinien być równy zero, lecz przez pewne przybliżenia wykonywane przez komputer - nie jest. Liczona zatem jest macierz odwrotna z macierzy osobliwej, która jest nieodwracalna. Wynik nie jest prawdziwy."
   ]
  }
 ],
 "metadata": {
  "kernelspec": {
   "display_name": "Python 3",
   "language": "python",
   "name": "python3"
  },
  "language_info": {
   "codemirror_mode": {
    "name": "ipython",
    "version": 3
   },
   "file_extension": ".py",
   "mimetype": "text/x-python",
   "name": "python",
   "nbconvert_exporter": "python",
   "pygments_lexer": "ipython3",
   "version": "3.13.0"
  }
 },
 "nbformat": 4,
 "nbformat_minor": 2
}
