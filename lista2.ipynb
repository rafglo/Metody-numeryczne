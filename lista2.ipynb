{
 "cells": [
  {
   "cell_type": "code",
   "execution_count": 2,
   "metadata": {},
   "outputs": [],
   "source": [
    "import numpy as np\n",
    "import scipy"
   ]
  },
  {
   "cell_type": "code",
   "execution_count": 10,
   "metadata": {},
   "outputs": [],
   "source": [
    "def swap_rows(mat, i, j):\n",
    "    n = len(mat[0])\n",
    "    for k in range(n):\n",
    "        temp = mat[i][k]\n",
    "        mat[i][k] = mat[j][k]\n",
    "        mat[j][k] = temp"
   ]
  },
  {
   "cell_type": "code",
   "execution_count": 42,
   "metadata": {},
   "outputs": [],
   "source": [
    "mat = [[1,2,3,6], [4,5,6,7],[2,3,4,9]]\n"
   ]
  },
  {
   "cell_type": "code",
   "execution_count": 25,
   "metadata": {},
   "outputs": [
    {
     "name": "stdout",
     "output_type": "stream",
     "text": [
      "[1 1 1 2]\n"
     ]
    }
   ],
   "source": [
    "print(np.argmax(mat, axis=0))"
   ]
  },
  {
   "cell_type": "code",
   "execution_count": 85,
   "metadata": {},
   "outputs": [],
   "source": [
    "def rozwiazanie(mat):\n",
    "    m = len(mat)\n",
    "    n = len(mat[0])\n",
    "    wyniki = np.zeros(5)\n",
    "    for i in range(m-1,-1,-1):\n",
    "        wyniki[i] = mat[i][m]\n",
    "        for j in range(i+1,m):\n",
    "            wyniki[i] -= mat[i][j] * wyniki[j]\n",
    "        wyniki[i] = (wyniki[i]/mat[i][i])\n",
    "    return wyniki"
   ]
  },
  {
   "cell_type": "code",
   "execution_count": 86,
   "metadata": {},
   "outputs": [],
   "source": [
    "def gauss(mat):\n",
    "    mat = np.array(mat)\n",
    "    m = len(mat)\n",
    "    n = len(mat[0])\n",
    "    h = 0\n",
    "    k = 0\n",
    "    while h < m and k < n:\n",
    "        i_max = np.argmax(np.abs(mat[h:, k])) + h\n",
    "        if mat[i_max, k] == 0:\n",
    "            k += 1\n",
    "        else:\n",
    "            if i_max != h:\n",
    "                swap_rows(mat, h, i_max)\n",
    "            for i in range(h+1, m):\n",
    "                f = mat[i, k] / mat[h, k]\n",
    "                mat[i, k] = 0\n",
    "                for j in range(k+1, n):\n",
    "                    mat[i,j] = mat[i,j] - mat[h,j] * f\n",
    "            h += 1\n",
    "            k += 1\n",
    "    return mat\n",
    "            \n",
    "    \n",
    "            \n"
   ]
  },
  {
   "cell_type": "code",
   "execution_count": 87,
   "metadata": {},
   "outputs": [
    {
     "name": "stdout",
     "output_type": "stream",
     "text": [
      "[[4 5 6 7]\n",
      " [0 0 1 4]\n",
      " [0 0 0 1]]\n"
     ]
    }
   ],
   "source": [
    "print(gauss(mat))"
   ]
  },
  {
   "cell_type": "markdown",
   "metadata": {},
   "source": [
    "Zadanie 4"
   ]
  },
  {
   "cell_type": "code",
   "execution_count": 88,
   "metadata": {},
   "outputs": [],
   "source": [
    "A = np.array([\n",
    "    [0, 0, 2, 1, 2],\n",
    "    [0, 1, 0, 2, -1],\n",
    "    [1, 2, 0, -2, 0],\n",
    "    [0, 0, 0, -1, 1],\n",
    "    [0, 1, -1, 1, -1]\n",
    "])\n",
    "\n",
    "b = np.array([1, 1, -4, -2, -1])\n",
    "\n",
    "augmented_matrix = np.column_stack((A, b))"
   ]
  },
  {
   "cell_type": "code",
   "execution_count": 89,
   "metadata": {},
   "outputs": [
    {
     "name": "stdout",
     "output_type": "stream",
     "text": [
      "[[ 1  2  0 -2  0 -4]\n",
      " [ 0  1  0  2 -1  1]\n",
      " [ 0  0  2  1  2  1]\n",
      " [ 0  0  0 -1  1 -2]\n",
      " [ 0  0  0  0  1 -1]]\n",
      "[ 2. -2.  1.  1. -1.]\n"
     ]
    }
   ],
   "source": [
    "\n",
    "print(gauss(augmented_matrix))\n",
    "print(rozwiazanie(gauss(augmented_matrix)))\n",
    "\n"
   ]
  },
  {
   "cell_type": "markdown",
   "metadata": {},
   "source": [
    "Zadanie 5"
   ]
  },
  {
   "cell_type": "code",
   "execution_count": 93,
   "metadata": {},
   "outputs": [],
   "source": [
    "A = np.array([\n",
    "    [1, 0, 0, 0, 0],\n",
    "    [1, 1, 1, 1, 1],\n",
    "    [1, 3, 9, 27, 81],\n",
    "    [1, 5, 25, 125, 625],\n",
    "    [1, 6, 36, 256, 1296]\n",
    "])\n",
    "\n",
    "b = np.array([-1, 1, 3, 2, -2])\n",
    "\n",
    "augmented_matrix = np.column_stack((A, b))"
   ]
  },
  {
   "cell_type": "code",
   "execution_count": 94,
   "metadata": {},
   "outputs": [
    {
     "name": "stdout",
     "output_type": "stream",
     "text": [
      "[[   1    0    0    0    0   -1]\n",
      " [   0    6   36  256 1296   -1]\n",
      " [   0    0   -9 -101 -567    4]\n",
      " [   0    0    0  -31 -140    0]\n",
      " [   0    0    0    0   32    0]]\n",
      "[-1.          2.5        -0.44444444 -0.          0.        ]\n"
     ]
    }
   ],
   "source": [
    "\n",
    "print(gauss(augmented_matrix))\n",
    "print(rozwiazanie(gauss(augmented_matrix)))\n",
    "\n"
   ]
  },
  {
   "cell_type": "code",
   "execution_count": 92,
   "metadata": {},
   "outputs": [
    {
     "name": "stdout",
     "output_type": "stream",
     "text": [
      "zad4\n",
      "[[ 1.  2.  0. -2.  0. -4.]\n",
      " [ 0.  1.  0.  2. -1.  1.]\n",
      " [ 0.  0.  2.  1.  2.  1.]\n",
      " [ 0.  0.  0. -1.  1. -2.]\n",
      " [ 0.  1. -1.  1. -1. -1.]]\n",
      "[[ 1.   2.   0.  -2.   0.  -4. ]\n",
      " [ 0.   1.   0.   2.  -1.   1. ]\n",
      " [ 0.   0.   2.   1.   2.   1. ]\n",
      " [ 0.   0.   0.  -1.   1.  -2. ]\n",
      " [ 0.   0.   0.   0.   0.5 -0.5]]\n",
      "x0=-4.0\n",
      "x1=1.0\n",
      "x2=0.25\n",
      "x3=2.0\n",
      "x4=-1.0\n",
      "zad6\n",
      "[[ 3.50000000e+00  2.77000000e+00 -7.60000000e-01  1.80000000e+00\n",
      "   7.31000000e+00]\n",
      " [ 2.22044605e-16  4.10457143e+00  3.04914286e+00  8.35714286e-01\n",
      "   7.98942857e+00]\n",
      " [-2.62711566e-16  0.00000000e+00  3.35104218e+00  4.82369414e-01\n",
      "   3.83341160e+00]\n",
      " [-2.20985318e-16  0.00000000e+00  0.00000000e+00 -4.69032638e-03\n",
      "  -4.69032638e-03]]\n",
      "x0=0.1704956268221574\n",
      "x1=0.4742202365792094\n",
      "x2=1.1439460882798778\n",
      "x3=0.9999999999999036\n",
      "[[ 1.00000000e+01 -2.00000000e+00 -1.00000000e+00  2.00000000e+00\n",
      "   3.00000000e+00  1.00000000e+00 -4.00000000e+00  7.00000000e+00\n",
      "   0.00000000e+00]\n",
      " [ 0.00000000e+00  1.20000000e+01  3.50000000e+00  9.00000000e+00\n",
      "  -4.50000000e+00  2.50000000e+00  5.00000000e+00 -7.50000000e+00\n",
      "   1.20000000e+01]\n",
      " [ 0.00000000e+00  0.00000000e+00 -2.20833333e+00 -6.45000000e+00\n",
      "   5.92500000e+00 -1.54916667e+01 -7.83333333e-01  6.47500000e+00\n",
      "  -1.84000000e+01]\n",
      " [ 0.00000000e+00  0.00000000e+00  0.00000000e+00  3.78113208e+00\n",
      "  -6.12452830e+00  2.54226415e+01  2.93207547e+00 -7.09811321e+00\n",
      "   2.52981132e+01]\n",
      " [ 0.00000000e+00 -1.77635684e-15  0.00000000e+00  0.00000000e+00\n",
      "   9.55089820e+00 -3.21616766e+01  1.25329341e+01  5.33532934e+00\n",
      "  -4.89101796e+01]\n",
      " [ 0.00000000e+00 -1.63770077e-15  0.00000000e+00  0.00000000e+00\n",
      "   0.00000000e+00  8.94854754e+01  3.38570533e+01 -2.05931034e+01\n",
      "   3.50353187e+01]\n",
      " [ 0.00000000e+00  1.93175923e-15  0.00000000e+00  0.00000000e+00\n",
      "   0.00000000e+00  0.00000000e+00 -2.12647389e+01 -1.01700655e+00\n",
      "   2.02477323e+01]\n",
      " [ 0.00000000e+00  3.98045852e-16 -4.44089210e-16  0.00000000e+00\n",
      "   0.00000000e+00  0.00000000e+00 -8.88178420e-16  7.20680865e+00\n",
      "   7.20680865e+00]]\n",
      "x0=0.0\n",
      "x1=4.0187757201646085e-06\n",
      "x2=0.35034399952273054\n",
      "x3=0.12376582505725375\n",
      "x4=-0.05613925037149096\n",
      "x5=0.004375230851010181\n",
      "x6=-0.9521740400597186\n",
      "x7=0.9999999999999987\n",
      "[[ 1.00000000e+00  0.00000000e+00  0.00000000e+00  0.00000000e+00\n",
      "   0.00000000e+00 -1.00000000e+00]\n",
      " [ 0.00000000e+00  1.00000000e+00  1.00000000e+00  1.00000000e+00\n",
      "   1.00000000e+00  2.00000000e+00]\n",
      " [ 0.00000000e+00  0.00000000e+00  6.00000000e+00  2.40000000e+01\n",
      "   7.80000000e+01 -2.00000000e+00]\n",
      " [ 0.00000000e+00  0.00000000e+00  0.00000000e+00  4.00000000e+01\n",
      "   3.60000000e+02 -3.33333333e-01]\n",
      " [ 0.00000000e+00  0.00000000e+00  0.00000000e+00  0.00000000e+00\n",
      "   9.00000000e+01 -2.25000000e+00]]\n",
      "x0=-1.0\n",
      "x1=2.0\n",
      "x2=-0.05555555555555555\n",
      "x3=-0.008333333333333326\n",
      "x4=-0.02500000000000001\n"
     ]
    }
   ],
   "source": [
    "#Pozostałe zadania powinny zostać rozwiązane przy pomocy własnej im- plementacji metody \n",
    "# eliminacji Gaussa z częściowym wyborem elementu podstawowego oraz dla porównania - przy \n",
    "# pomocy funkcji w bibliotece scipy.\n",
    " \n",
    "import numpy as np\n",
    " \n",
    "def gauSS(macierz_a,macierz_b):\n",
    "    pierwszy_a = macierz_a.shape[0]\n",
    "    if macierz_a.shape[1] != pierwszy_a:\n",
    "        print('Jesteś debilem')\n",
    "        return\n",
    "    if macierz_b.shape[1] > 1 or macierz_b.shape[0] != macierz_a.shape[0]:\n",
    "        print('Jesteś jeszcze większym debilem')\n",
    "        return\n",
    " \n",
    "    n = len(macierz_b)\n",
    "    m = n-1\n",
    "    i = 0\n",
    "    j = i-1 \n",
    "    x = np.zeros(n)\n",
    " \n",
    "    macierz_rozszerzona = np.concatenate((macierz_a,macierz_b),axis=1,dtype=float)\n",
    "    while i < n:\n",
    "        if macierz_rozszerzona[0][0] == 0.0:\n",
    "            for c in range(i+1,n):\n",
    "                nierzad = macierz_rozszerzona[c].copy()\n",
    "                szukana_wartosc = macierz_rozszerzona[c][0]\n",
    "                if szukana_wartosc != 0.0:\n",
    "                    macierz_rozszerzona[c] = macierz_rozszerzona[0]\n",
    "                    macierz_rozszerzona[0] = nierzad\n",
    "                    print(macierz_rozszerzona)\n",
    "                    break\n",
    "                else:\n",
    "                    if c == n-1:\n",
    "                        print('Coś nie pykło z przekątną')\n",
    "                        return \n",
    "        for j in range(i+1,n):\n",
    "            czynnik = macierz_rozszerzona[j][i]/macierz_rozszerzona[i][i]\n",
    "            macierz_rozszerzona[j] = macierz_rozszerzona[j] - (czynnik*macierz_rozszerzona[i])\n",
    "        i+=1\n",
    "    print(macierz_rozszerzona)\n",
    "    x[m] = macierz_rozszerzona[m][n]/macierz_rozszerzona[m][m]\n",
    "    for k in range(n-2,-1,-1):\n",
    "        x[k] = macierz_rozszerzona[k][n]\n",
    "        for j in range(k+1,n):\n",
    "            x[k] /= macierz_rozszerzona[k][k]\n",
    "    for p in range(n):\n",
    "        print(f'x{p}={x[p]}')\n",
    " \n",
    " \n",
    "#zad4\n",
    "print(\"zad4\")\n",
    "gauSS(np.array([[0,0,2,1,2],[0,1,0,2,-1],[1,2,0,-2,0],[0,0,0,-1,1],[0,1,-1,1,-1]]),np.array([[1],[1],[-4],[-2],[-1]]))\n",
    "#zad6\n",
    "print(\"zad6\")\n",
    "gauSS(np.array([[3.5,2.77,-0.76,1.8],[-1.8,2.68,3.44,-0.09],[0.27,5.07,6.9,1.61],[1.71,5.45,2.68,1.71]]),np.array([[7.31],[4.23],[13.85],[11.55]]))\n",
    "#zad7\n",
    "gauSS(np.array([[10,-2,-1,2,3,1,-4,7],[5,11,3,10,-3,3,3,-4],[7,12,1,5,3,-12,2,3],[8,7,-2,1,3,2,2,4],[2,-15,-1,1,4,-1,8,3],[4,2,9,1,12,-1,4,1],[-1,4,-7,-1,1,1,-1,-3],[-1,3,4,1,3,-4,7,6]]),np.array([[0],[12],[-5],[3],[-25],[-26],[9],[-7]]))\n",
    "#zad5\n",
    "gauSS(np.array([[1,0,0,0,0],[1,1,1,1,1],[1,3,9,27,81],[1,5,25,125,625],[1,6,36,216,1296]]),np.array([[-1],[1],[3],[2],[-2]]))"
   ]
  },
  {
   "cell_type": "code",
   "execution_count": null,
   "metadata": {},
   "outputs": [],
   "source": []
  }
 ],
 "metadata": {
  "kernelspec": {
   "display_name": "Python 3",
   "language": "python",
   "name": "python3"
  },
  "language_info": {
   "codemirror_mode": {
    "name": "ipython",
    "version": 3
   },
   "file_extension": ".py",
   "mimetype": "text/x-python",
   "name": "python",
   "nbconvert_exporter": "python",
   "pygments_lexer": "ipython3",
   "version": "3.13.0"
  }
 },
 "nbformat": 4,
 "nbformat_minor": 2
}
