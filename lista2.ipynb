{
 "cells": [
  {
   "cell_type": "code",
   "execution_count": 2,
   "metadata": {},
   "outputs": [],
   "source": [
    "import numpy as np\n",
    "import scipy"
   ]
  },
  {
   "cell_type": "code",
   "execution_count": 4,
   "metadata": {},
   "outputs": [],
   "source": [
    "def swap_rows(mat, i, j):\n",
    "    n = len(mat[0])\n",
    "    for k in range(n):\n",
    "        temp = mat[i][k]\n",
    "        mat[i][k] = mat[j][k]\n",
    "        mat[j][k] = temp"
   ]
  },
  {
   "cell_type": "code",
   "execution_count": 5,
   "metadata": {},
   "outputs": [],
   "source": [
    "def rozwiazanie(mat):\n",
    "    m = len(mat)\n",
    "    n = len(mat[0])\n",
    "    wyniki = np.zeros(m)\n",
    "    for i in range(m-1,-1,-1):\n",
    "        wyniki[i] = mat[i][m]\n",
    "        for j in range(i+1,m):\n",
    "            wyniki[i] -= mat[i][j] * wyniki[j]\n",
    "        wyniki[i] = (wyniki[i]/mat[i][i])\n",
    "    return wyniki\n"
   ]
  },
  {
   "cell_type": "code",
   "execution_count": 22,
   "metadata": {},
   "outputs": [],
   "source": [
    "def gauss(mat):\n",
    "    swap_count = 0\n",
    "    mat = np.array(mat, dtype=float)\n",
    "    m = len(mat)\n",
    "    n = len(mat[0])\n",
    "    h = 0\n",
    "    k = 0\n",
    "    while h < m and k < n:\n",
    "        i_max = np.argmax(np.abs(mat[h:, k])) + h\n",
    "        if mat[i_max, k] == 0:\n",
    "            k += 1\n",
    "        else:\n",
    "            if i_max != h:\n",
    "                swap_rows(mat, h, i_max)\n",
    "                swap_count += 1\n",
    "            for i in range(h+1, m):\n",
    "                f = mat[i, k] / mat[h, k]\n",
    "                mat[i, k] = 0\n",
    "                for j in range(k+1, n):\n",
    "                    mat[i,j] = mat[i,j] - mat[h,j] * f\n",
    "            h += 1\n",
    "            k += 1\n",
    "    return mat, swap_count\n",
    "            \n",
    "    \n",
    "            \n"
   ]
  },
  {
   "cell_type": "code",
   "execution_count": 28,
   "metadata": {},
   "outputs": [],
   "source": [
    "def determinant_of_triangular_matrix(mat, swap_count):\n",
    "    n = len(mat)\n",
    "    wynik = 1\n",
    "    for i in range(n):\n",
    "        wynik *= mat[i][i]\n",
    "    return wynik * (-1) ** swap_count"
   ]
  },
  {
   "cell_type": "markdown",
   "metadata": {},
   "source": [
    "Zadanie 4"
   ]
  },
  {
   "cell_type": "code",
   "execution_count": 23,
   "metadata": {},
   "outputs": [],
   "source": [
    "A = np.array([\n",
    "    [0, 0, 2, 1, 2],\n",
    "    [0, 1, 0, 2, -1],\n",
    "    [1, 2, 0, -2, 0],\n",
    "    [0, 0, 0, -1, 1],\n",
    "    [0, 1, -1, 1, -1]\n",
    "])\n",
    "\n",
    "b = np.array([1, 1, -4, -2, -1])\n",
    "\n",
    "augmented_matrix = np.column_stack((A, b))"
   ]
  },
  {
   "cell_type": "code",
   "execution_count": 25,
   "metadata": {},
   "outputs": [
    {
     "name": "stdout",
     "output_type": "stream",
     "text": [
      "(array([[ 1. ,  2. ,  0. , -2. ,  0. , -4. ],\n",
      "       [ 0. ,  1. ,  0. ,  2. , -1. ,  1. ],\n",
      "       [ 0. ,  0. ,  2. ,  1. ,  2. ,  1. ],\n",
      "       [ 0. ,  0. ,  0. , -1. ,  1. , -2. ],\n",
      "       [ 0. ,  0. ,  0. ,  0. ,  0.5, -0.5]]), 1)\n",
      "[ 2. -2.  1.  1. -1.]\n"
     ]
    }
   ],
   "source": [
    "\n",
    "print(gauss(augmented_matrix))\n",
    "print(rozwiazanie(gauss(augmented_matrix)[0]))\n",
    "\n"
   ]
  },
  {
   "cell_type": "markdown",
   "metadata": {},
   "source": [
    "Zadanie 5"
   ]
  },
  {
   "cell_type": "code",
   "execution_count": 26,
   "metadata": {},
   "outputs": [],
   "source": [
    "A = np.array([\n",
    "    [1, 0, 0, 0, 0],\n",
    "    [1, 1, 1, 1, 1],\n",
    "    [1, 3, 9, 27, 81],\n",
    "    [1, 5, 25, 125, 625],\n",
    "    [1, 6, 36, 216, 1296]\n",
    "])\n",
    "\n",
    "b = np.array([-1, 1, 3, 2, -2])\n",
    "\n",
    "augmented_matrix = np.column_stack((A, b))"
   ]
  },
  {
   "cell_type": "code",
   "execution_count": 27,
   "metadata": {},
   "outputs": [
    {
     "name": "stdout",
     "output_type": "stream",
     "text": [
      "(array([[ 1.00000000e+00,  0.00000000e+00,  0.00000000e+00,\n",
      "         0.00000000e+00,  0.00000000e+00, -1.00000000e+00],\n",
      "       [ 0.00000000e+00,  6.00000000e+00,  3.60000000e+01,\n",
      "         2.16000000e+02,  1.29600000e+03, -1.00000000e+00],\n",
      "       [ 0.00000000e+00,  0.00000000e+00, -9.00000000e+00,\n",
      "        -8.10000000e+01, -5.67000000e+02,  4.50000000e+00],\n",
      "       [ 0.00000000e+00,  0.00000000e+00,  0.00000000e+00,\n",
      "        -1.00000000e+01, -1.40000000e+02,  1.33333333e+00],\n",
      "       [ 0.00000000e+00,  0.00000000e+00,  0.00000000e+00,\n",
      "         0.00000000e+00, -4.00000000e+01,  1.00000000e+00]]), 1)\n",
      "[-1.          2.68333333 -0.875       0.21666667 -0.025     ]\n"
     ]
    }
   ],
   "source": [
    "\n",
    "print(gauss(augmented_matrix))\n",
    "print(rozwiazanie(gauss(augmented_matrix)[0]))\n",
    "\n"
   ]
  },
  {
   "cell_type": "markdown",
   "metadata": {},
   "source": [
    "Zadanie 6"
   ]
  },
  {
   "cell_type": "code",
   "execution_count": 35,
   "metadata": {},
   "outputs": [],
   "source": [
    "A = np.array([\n",
    "    [3.5, 2.77, -0.76, 1.8],\n",
    "    [-1.8, 2.68, 3.44, -0.09],\n",
    "    [0.27, 5.07, 6.9, 1.61],\n",
    "    [1.71, 5.45, 2.68, 1.71],\n",
    "], dtype=float)\n",
    "\n",
    "b = np.array([7.31, 4.23, 13.85, 11.55])\n",
    "\n",
    "augmented_matrix = np.column_stack((A, b))"
   ]
  },
  {
   "cell_type": "code",
   "execution_count": 36,
   "metadata": {},
   "outputs": [
    {
     "name": "stdout",
     "output_type": "stream",
     "text": [
      "(array([[ 3.50000000e+00,  2.77000000e+00, -7.60000000e-01,\n",
      "         1.80000000e+00,  7.31000000e+00],\n",
      "       [ 0.00000000e+00,  4.85631429e+00,  6.95862857e+00,\n",
      "         1.47114286e+00,  1.32860857e+01],\n",
      "       [ 0.00000000e+00,  0.00000000e+00, -2.83231092e+00,\n",
      "        -4.07700078e-01, -3.24001100e+00],\n",
      "       [ 0.00000000e+00,  0.00000000e+00,  0.00000000e+00,\n",
      "        -4.69032638e-03, -4.69032638e-03]]), 1)\n",
      "[1. 1. 1. 1.]\n"
     ]
    }
   ],
   "source": [
    "print(gauss(augmented_matrix))\n",
    "x = rozwiazanie(gauss(augmented_matrix)[0])\n",
    "print(x)"
   ]
  },
  {
   "cell_type": "code",
   "execution_count": 33,
   "metadata": {},
   "outputs": [
    {
     "name": "stdout",
     "output_type": "stream",
     "text": [
      "-0.22579734000000884\n"
     ]
    }
   ],
   "source": [
    "print(determinant_of_triangular_matrix(gauss(A)[0], gauss(A)[1]))"
   ]
  },
  {
   "cell_type": "code",
   "execution_count": 38,
   "metadata": {},
   "outputs": [
    {
     "name": "stdout",
     "output_type": "stream",
     "text": [
      "[ 7.31  4.23 13.85 11.55]\n"
     ]
    }
   ],
   "source": [
    "Ax = np.dot(A, x)\n",
    "print(Ax)"
   ]
  },
  {
   "cell_type": "code",
   "execution_count": 40,
   "metadata": {},
   "outputs": [
    {
     "name": "stdout",
     "output_type": "stream",
     "text": [
      "[8.88178420e-16 0.00000000e+00 1.77635684e-15 1.77635684e-15]\n"
     ]
    }
   ],
   "source": [
    "r = b - Ax\n",
    "print(r)"
   ]
  },
  {
   "cell_type": "markdown",
   "metadata": {},
   "source": [
    "Na podstawie wektora reszt można wywnioskować, że wszystkie wyniki są obliczone z dużą dokładnością (błąd jest mały, rzędu $10^{-15}$ i $10^{-16}$). Rozwiązanie $x_2$ jest najbardziej dokadne."
   ]
  },
  {
   "cell_type": "markdown",
   "metadata": {},
   "source": [
    "Zadanie 7"
   ]
  },
  {
   "cell_type": "code",
   "execution_count": null,
   "metadata": {},
   "outputs": [],
   "source": []
  }
 ],
 "metadata": {
  "kernelspec": {
   "display_name": "Python 3",
   "language": "python",
   "name": "python3"
  },
  "language_info": {
   "codemirror_mode": {
    "name": "ipython",
    "version": 3
   },
   "file_extension": ".py",
   "mimetype": "text/x-python",
   "name": "python",
   "nbconvert_exporter": "python",
   "pygments_lexer": "ipython3",
   "version": "3.13.0"
  }
 },
 "nbformat": 4,
 "nbformat_minor": 2
}
