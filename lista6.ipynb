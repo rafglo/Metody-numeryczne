{
 "cells": [
  {
   "cell_type": "markdown",
   "metadata": {},
   "source": [
    "### **Lista 6**\n",
    "##### Rafał Głodek\n",
    "***"
   ]
  },
  {
   "cell_type": "markdown",
   "metadata": {},
   "source": [
    "Zadanie 1"
   ]
  },
  {
   "cell_type": "code",
   "execution_count": 1,
   "metadata": {},
   "outputs": [],
   "source": [
    "import numpy as np\n",
    "import matplotlib.pyplot as plt\n",
    "import scipy\n",
    "import math"
   ]
  },
  {
   "cell_type": "code",
   "execution_count": 14,
   "metadata": {},
   "outputs": [],
   "source": [
    "def trapezoidal_rule(y, a, b):\n",
    "    h = b - a\n",
    "    return h / 2 * (y[0] + y[1])"
   ]
  },
  {
   "cell_type": "code",
   "execution_count": 18,
   "metadata": {},
   "outputs": [],
   "source": [
    "def chained_trapezoidal_rule(x,y):\n",
    "    result = 0\n",
    "    for i in range(1, len(x)):\n",
    "        result += trapezoidal_rule(y[i-1:i+1], x[i-1], x[i])\n",
    "    return result\n"
   ]
  },
  {
   "cell_type": "code",
   "execution_count": 19,
   "metadata": {},
   "outputs": [],
   "source": [
    "v = np.array([1.0, 1.8, 2.4, 3.5, 4.4, 5.1, 6.0])\n",
    "P = np.array([4.7, 12.2, 19.0, 31.8, 40.1, 43.8, 43.2]) * 1000\n",
    "v_div_P = v / P"
   ]
  },
  {
   "cell_type": "code",
   "execution_count": 20,
   "metadata": {},
   "outputs": [
    {
     "name": "stdout",
     "output_type": "stream",
     "text": [
      "1.2984952383952837\n"
     ]
    }
   ],
   "source": [
    "t = 2000 * chained_trapezoidal_rule(v, v_div_P)\n",
    "print(t)"
   ]
  },
  {
   "cell_type": "markdown",
   "metadata": {},
   "source": [
    "Zadanie 2"
   ]
  },
  {
   "cell_type": "code",
   "execution_count": 14,
   "metadata": {},
   "outputs": [],
   "source": [
    "def simpson_rule(y, a, b):\n",
    "    h = b - a\n",
    "    return h / 3 * (y[0] + 4 * y[1] + y[2])"
   ]
  },
  {
   "cell_type": "code",
   "execution_count": 15,
   "metadata": {},
   "outputs": [],
   "source": [
    "def chained_simpson_rule(f, a, b, n):\n",
    "    x = np.linspace(a,b,n)\n",
    "    y = f(x)\n",
    "    result = 0\n",
    "    for i in range(2, len(x),2):\n",
    "        result += simpson_rule(y[i-2:i+1], x[i-2], x[i-1])\n",
    "    return result"
   ]
  },
  {
   "cell_type": "code",
   "execution_count": 16,
   "metadata": {},
   "outputs": [],
   "source": [
    "func1 = lambda x: np.cos(2 * np.arccos(x))\n"
   ]
  },
  {
   "cell_type": "code",
   "execution_count": 17,
   "metadata": {},
   "outputs": [
    {
     "name": "stdout",
     "output_type": "stream",
     "text": [
      "-0.6666666666666666\n"
     ]
    }
   ],
   "source": [
    "print(chained_simpson_rule(func1,-1,1,3))"
   ]
  },
  {
   "cell_type": "code",
   "execution_count": 18,
   "metadata": {},
   "outputs": [
    {
     "name": "stdout",
     "output_type": "stream",
     "text": [
      "-0.6666666666666665\n"
     ]
    }
   ],
   "source": [
    "print(chained_simpson_rule(func1,-1,1,5))"
   ]
  },
  {
   "cell_type": "code",
   "execution_count": 19,
   "metadata": {},
   "outputs": [
    {
     "name": "stdout",
     "output_type": "stream",
     "text": [
      "-0.6666666666666667\n"
     ]
    }
   ],
   "source": [
    "print(chained_simpson_rule(func1,-1,1,7))"
   ]
  },
  {
   "cell_type": "code",
   "execution_count": null,
   "metadata": {},
   "outputs": [],
   "source": []
  }
 ],
 "metadata": {
  "kernelspec": {
   "display_name": "Python 3",
   "language": "python",
   "name": "python3"
  },
  "language_info": {
   "codemirror_mode": {
    "name": "ipython",
    "version": 3
   },
   "file_extension": ".py",
   "mimetype": "text/x-python",
   "name": "python",
   "nbconvert_exporter": "python",
   "pygments_lexer": "ipython3",
   "version": "3.13.0"
  }
 },
 "nbformat": 4,
 "nbformat_minor": 2
}
