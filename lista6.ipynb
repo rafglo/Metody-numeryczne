{
 "cells": [
  {
   "cell_type": "markdown",
   "metadata": {},
   "source": [
    "### **Lista 6**\n",
    "##### Rafał Głodek\n",
    "***"
   ]
  },
  {
   "cell_type": "markdown",
   "metadata": {},
   "source": [
    "Zadanie 1"
   ]
  },
  {
   "cell_type": "code",
   "execution_count": 5,
   "metadata": {},
   "outputs": [],
   "source": [
    "import numpy as np\n",
    "import matplotlib.pyplot as plt\n",
    "import scipy\n",
    "import math"
   ]
  },
  {
   "cell_type": "code",
   "execution_count": 21,
   "metadata": {},
   "outputs": [],
   "source": [
    "def trapezoidal_rule(y, a, b):\n",
    "    h = b - a\n",
    "    return h / 2 * (y[0] + y[1])"
   ]
  },
  {
   "cell_type": "code",
   "execution_count": 22,
   "metadata": {},
   "outputs": [],
   "source": [
    "def chained_trapezoidal_rule(x,y):\n",
    "    result = 0\n",
    "    for i in range(1, len(x)):\n",
    "        result += trapezoidal_rule(y[i-1:i+1], x[i-1], x[i])\n",
    "    return result\n"
   ]
  },
  {
   "cell_type": "code",
   "execution_count": 23,
   "metadata": {},
   "outputs": [],
   "source": [
    "v = np.array([1.0, 1.8, 2.4, 3.5, 4.4, 5.1, 6.0])\n",
    "P = np.array([4.7, 12.2, 19.0, 31.8, 40.1, 43.8, 43.2]) * 1000\n",
    "v_div_P = v / P"
   ]
  },
  {
   "cell_type": "code",
   "execution_count": 24,
   "metadata": {},
   "outputs": [
    {
     "name": "stdout",
     "output_type": "stream",
     "text": [
      "1.2984952383952837\n"
     ]
    }
   ],
   "source": [
    "t = 2000 * chained_trapezoidal_rule(v, v_div_P)\n",
    "print(t)"
   ]
  },
  {
   "cell_type": "markdown",
   "metadata": {},
   "source": [
    "Zadanie 2"
   ]
  },
  {
   "cell_type": "code",
   "execution_count": 1,
   "metadata": {},
   "outputs": [],
   "source": [
    "def simpson_rule(y, a, b):\n",
    "    h = b - a\n",
    "    return h / 3 * (y[0] + 4 * y[1] + y[2])"
   ]
  },
  {
   "cell_type": "code",
   "execution_count": 2,
   "metadata": {},
   "outputs": [],
   "source": [
    "def chained_simpson_rule(f, a, b, n):\n",
    "    x = np.linspace(a,b,n)\n",
    "    y = f(x)\n",
    "    result = 0\n",
    "    for i in range(2, len(x),2):\n",
    "        result += simpson_rule(y[i-2:i+1], x[i-2], x[i-1])\n",
    "    return result"
   ]
  },
  {
   "cell_type": "code",
   "execution_count": 10,
   "metadata": {},
   "outputs": [],
   "source": [
    "func1 = lambda x: np.cos(2 * np.arccos(x))"
   ]
  },
  {
   "cell_type": "code",
   "execution_count": 11,
   "metadata": {},
   "outputs": [
    {
     "name": "stdout",
     "output_type": "stream",
     "text": [
      "-0.6666666666666666\n"
     ]
    }
   ],
   "source": [
    "print(chained_simpson_rule(func1,-1,1,3))"
   ]
  },
  {
   "cell_type": "code",
   "execution_count": 12,
   "metadata": {},
   "outputs": [
    {
     "name": "stdout",
     "output_type": "stream",
     "text": [
      "-0.6666666666666665\n"
     ]
    }
   ],
   "source": [
    "print(chained_simpson_rule(func1,-1,1,5))"
   ]
  },
  {
   "cell_type": "code",
   "execution_count": 13,
   "metadata": {},
   "outputs": [
    {
     "name": "stdout",
     "output_type": "stream",
     "text": [
      "-0.6666666666666667\n"
     ]
    }
   ],
   "source": [
    "print(chained_simpson_rule(func1,-1,1,7))"
   ]
  },
  {
   "cell_type": "markdown",
   "metadata": {},
   "source": [
    "Zadanie 3"
   ]
  },
  {
   "cell_type": "markdown",
   "metadata": {},
   "source": [
    "Wykonujemy podstawienie $x^3 = \\frac{1}{t}$. A zatem\n",
    "\n",
    "$$\n",
    "t=\\frac{1}{x^3} \\\\\n",
    "$$\n",
    "$$\n",
    "x = t^{-\\frac{1}{3}} \\\\\n",
    "$$\n",
    "$$\n",
    "dx = -\\frac{t^{-\\frac{4}{3}}}{3} dt\n",
    "$$"
   ]
  },
  {
   "cell_type": "markdown",
   "metadata": {},
   "source": [
    "W miarę jak $x$ dąży do nieskończoności, $t$ dąży do zera. Natomiast gdy $x$ dąży do $1$, to $t$ również. Całkę po podstawieniu możemy zapisać zatem jako\n",
    "\n",
    "$$\n",
    "\\int_{0}^{1}\\frac{\\frac{1}{3}t^{-\\frac{4}{3}}}{1 + t^{-\\frac{4}{3}}}dt\n",
    "$$"
   ]
  },
  {
   "cell_type": "code",
   "execution_count": 14,
   "metadata": {},
   "outputs": [],
   "source": [
    "func2 = lambda t: 1/3 * t**(-4/3) / (1 + t**(-4/3))"
   ]
  },
  {
   "cell_type": "code",
   "execution_count": 25,
   "metadata": {},
   "outputs": [],
   "source": [
    "ts = np.linspace(10**(-8),1,6)\n",
    "ys = func2(ts)"
   ]
  },
  {
   "cell_type": "code",
   "execution_count": 26,
   "metadata": {},
   "outputs": [
    {
     "name": "stdout",
     "output_type": "stream",
     "text": [
      "0.24369830085228922\n"
     ]
    }
   ],
   "source": [
    "print(chained_trapezoidal_rule(ts,ys))"
   ]
  },
  {
   "cell_type": "markdown",
   "metadata": {},
   "source": [
    "Zadanie 4"
   ]
  },
  {
   "cell_type": "code",
   "execution_count": 41,
   "metadata": {},
   "outputs": [],
   "source": [
    "func15 = lambda x: 1 / np.sqrt(1 - np.sin(np.deg2rad(15)/2)**2 * np.sin(x)**2)\n",
    "func30 = lambda x: 1 / np.sqrt(1 - np.sin(np.deg2rad(30)/2)**2 * np.sin(x)**2)\n",
    "func45 = lambda x: 1 / np.sqrt(1 - np.sin(np.deg2rad(45)/2)**2 * np.sin(x)**2)\n",
    "func0 = lambda x: 1 / np.sqrt(1 - np.sin(np.deg2rad(0)/2)**2 * np.sin(x)**2)"
   ]
  },
  {
   "cell_type": "code",
   "execution_count": 38,
   "metadata": {},
   "outputs": [
    {
     "name": "stdout",
     "output_type": "stream",
     "text": [
      "1.5775515023286166\n"
     ]
    }
   ],
   "source": [
    "print(chained_simpson_rule(func15, 0, np.pi/2,10**7))"
   ]
  },
  {
   "cell_type": "code",
   "execution_count": 39,
   "metadata": {},
   "outputs": [
    {
     "name": "stdout",
     "output_type": "stream",
     "text": [
      "1.5981418394918425\n"
     ]
    }
   ],
   "source": [
    "print(chained_simpson_rule(func30,0,np.pi/2,10**7))"
   ]
  },
  {
   "cell_type": "code",
   "execution_count": 40,
   "metadata": {},
   "outputs": [
    {
     "name": "stdout",
     "output_type": "stream",
     "text": [
      "1.6335861374363974\n"
     ]
    }
   ],
   "source": [
    "print(chained_simpson_rule(func45,0,np.pi/2,10**7))"
   ]
  },
  {
   "cell_type": "code",
   "execution_count": 42,
   "metadata": {},
   "outputs": [
    {
     "name": "stdout",
     "output_type": "stream",
     "text": [
      "1.5707961697152477\n"
     ]
    }
   ],
   "source": [
    "print(chained_simpson_rule(func0, 0, np.pi/2, 10**7))"
   ]
  },
  {
   "cell_type": "code",
   "execution_count": 43,
   "metadata": {},
   "outputs": [
    {
     "name": "stdout",
     "output_type": "stream",
     "text": [
      "1.5707963267948966\n"
     ]
    }
   ],
   "source": [
    "print(np.pi/2)"
   ]
  },
  {
   "cell_type": "markdown",
   "metadata": {},
   "source": [
    "Zadanie 5"
   ]
  },
  {
   "cell_type": "code",
   "execution_count": 44,
   "metadata": {},
   "outputs": [],
   "source": [
    "from scipy.special import roots_legendre"
   ]
  },
  {
   "cell_type": "code",
   "execution_count": 45,
   "metadata": {},
   "outputs": [],
   "source": [
    "def gauss_legendre(f, a, b, n):\n",
    "    roots, weights = roots_legendre(n)\n",
    "    sum_result = 0\n",
    "    for i in range(n):\n",
    "        t = (b-a) / 2 * roots[i] + (b+a) / 2\n",
    "        sum_result += weights[i] * f(t)\n",
    "    return (b-a) / 2 * sum_result"
   ]
  },
  {
   "cell_type": "code",
   "execution_count": 46,
   "metadata": {},
   "outputs": [],
   "source": [
    "func5 = lambda x: np.log(x) / (x**2 - 2*x + 2)"
   ]
  },
  {
   "cell_type": "code",
   "execution_count": 47,
   "metadata": {},
   "outputs": [
    {
     "name": "stdout",
     "output_type": "stream",
     "text": [
      "0.6067250228624488\n"
     ]
    }
   ],
   "source": [
    "print(gauss_legendre(func5, 1, np.pi, 2))"
   ]
  },
  {
   "cell_type": "code",
   "execution_count": 48,
   "metadata": {},
   "outputs": [
    {
     "name": "stdout",
     "output_type": "stream",
     "text": [
      "0.5847680362127091\n"
     ]
    }
   ],
   "source": [
    "print(gauss_legendre(func5, 1, np.pi, 4))"
   ]
  },
  {
   "cell_type": "markdown",
   "metadata": {},
   "source": [
    "Zadanie 6"
   ]
  },
  {
   "cell_type": "code",
   "execution_count": 51,
   "metadata": {},
   "outputs": [],
   "source": [
    "f1 = lambda x: x**3 - 2 * x\n",
    "f2 = lambda x: np.sin(x)\n",
    "f3 = lambda x: np.exp(x)"
   ]
  },
  {
   "cell_type": "code",
   "execution_count": 58,
   "metadata": {},
   "outputs": [],
   "source": [
    "def forward(f, x, h):\n",
    "    return (f(x) - f(x-h)) / h"
   ]
  },
  {
   "cell_type": "code",
   "execution_count": 59,
   "metadata": {},
   "outputs": [],
   "source": [
    "def central(f, x, h):\n",
    "    return (f(x+h) - f(x-h)) / (2 * h)"
   ]
  },
  {
   "cell_type": "code",
   "execution_count": 60,
   "metadata": {},
   "outputs": [],
   "source": [
    "def central_fourth_order(f, x, h):\n",
    "    return (-f(x + 2*h) + 8*f(x + h) - 8*f(x - h) + f(x - 2*h)) / (12 * h)"
   ]
  },
  {
   "cell_type": "code",
   "execution_count": 78,
   "metadata": {},
   "outputs": [],
   "source": [
    "def tabela(f, x, f_p, hs):\n",
    "    rows = []\n",
    "    for h in hs:\n",
    "        diff1 = f_p - forward(f, x, h)\n",
    "        diff2 = float(f_p - central(f, x, h))\n",
    "        diff3 = float(f_p - central_fourth_order(f, x, h))\n",
    "        rows.append([diff1, diff2, diff3])\n",
    "    return rows"
   ]
  },
  {
   "cell_type": "code",
   "execution_count": 79,
   "metadata": {},
   "outputs": [],
   "source": [
    "hs = [0.1, 0.01, 0.001]"
   ]
  },
  {
   "cell_type": "code",
   "execution_count": 80,
   "metadata": {},
   "outputs": [],
   "source": [
    "rows1, rows2, rows3 = tabela(f1, 1, 1, hs), tabela(f2, np.pi/3, 0.5, hs), tabela(f3, 0, 1, hs)"
   ]
  },
  {
   "cell_type": "code",
   "execution_count": 81,
   "metadata": {},
   "outputs": [
    {
     "name": "stdout",
     "output_type": "stream",
     "text": [
      "f0\n",
      "h=0.1:[0.2900000000000005, -0.010000000000000897, -1.5543122344752192e-15]\n",
      "h=0.01:[0.029900000000004034, -0.00010000000000376374, -8.43769498715119e-15]\n",
      "h=0.001:[0.0029990000000026384, -9.99999972606247e-07, -8.881784197001252e-16]\n",
      "f1\n",
      "h=0.1:[np.float64(-0.04243228105752106), 0.0008329167658589487, 1.6646836966116574e-06]\n",
      "h=0.01:[np.float64(-0.004321757642989255), 8.333291661832831e-06, 1.6665790969483396e-10]\n",
      "h=0.001:[np.float64(-0.00043292933243943565), 8.333339529542627e-08, 9.209299989265674e-14]\n",
      "f2\n",
      "h=0.1:[np.float64(0.048374180359595176), -0.0016675001984409743, 3.3373039021178386e-06]\n",
      "h=0.01:[np.float64(0.004983374916810668), -1.6666749992122476e-05, 3.3334446314370325e-10]\n",
      "h=0.001:[np.float64(0.0004998333750219075), -1.6666668134490692e-07, 4.54081217071689e-14]\n"
     ]
    }
   ],
   "source": [
    "for i, rows in enumerate([rows1, rows2, rows3]):\n",
    "    print(f\"f{i}\")\n",
    "    for j,row in enumerate(rows):\n",
    "        print(f\"h={hs[j]}:{row}\")"
   ]
  },
  {
   "cell_type": "code",
   "execution_count": null,
   "metadata": {},
   "outputs": [],
   "source": []
  }
 ],
 "metadata": {
  "kernelspec": {
   "display_name": "Python 3",
   "language": "python",
   "name": "python3"
  },
  "language_info": {
   "codemirror_mode": {
    "name": "ipython",
    "version": 3
   },
   "file_extension": ".py",
   "mimetype": "text/x-python",
   "name": "python",
   "nbconvert_exporter": "python",
   "pygments_lexer": "ipython3",
   "version": "3.13.0"
  }
 },
 "nbformat": 4,
 "nbformat_minor": 2
}
