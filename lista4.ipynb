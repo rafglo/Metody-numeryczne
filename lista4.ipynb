{
 "cells": [
  {
   "cell_type": "markdown",
   "metadata": {},
   "source": [
    "### **Lista 4**\n",
    "##### Rafał Głodek\n",
    "***"
   ]
  },
  {
   "cell_type": "markdown",
   "metadata": {},
   "source": [
    "**Zadanie 1**"
   ]
  },
  {
   "cell_type": "markdown",
   "metadata": {},
   "source": [
    "Zauważmy że \n",
    "\n",
    "$$\n",
    "\\tan(\\pi - x) = -\\tan(x)\n",
    "$$\n",
    "\n",
    "Więc równanie sprowadza się do\n",
    "\n",
    "$$\n",
    "-\\tan(x) = x\n",
    "$$"
   ]
  },
  {
   "cell_type": "code",
   "execution_count": 52,
   "metadata": {},
   "outputs": [],
   "source": [
    "import numpy as np\n",
    "import matplotlib.pyplot as plt\n",
    "import scipy\n",
    "import math"
   ]
  },
  {
   "cell_type": "code",
   "execution_count": 14,
   "metadata": {},
   "outputs": [],
   "source": [
    "f1 = lambda x: np.tan(np.pi - x) - x"
   ]
  },
  {
   "cell_type": "code",
   "execution_count": null,
   "metadata": {},
   "outputs": [],
   "source": [
    "def bisection(f, a, b, atol=1e-8, rtol=1e-5):\n",
    "    fa, fb = f(a), f(b)\n",
    "    if fa == 0:\n",
    "        return a\n",
    "    if fb == 0:\n",
    "        return b\n",
    "    if fa * fb > 0:\n",
    "        raise(ValueError(\"Żle dobrany przedział. Miejsce zerowe znajduje się poza nim.\"))\n",
    "    else:\n",
    "        m = (a + b) / 2\n",
    "        fm = f(m)\n",
    "        num_iter = 1\n",
    "        num_add_mult = 9 #f(a) = 2, f(b) = 2 f*a * fb = 1, m = 2, fm = 2\n",
    "        while not np.isclose(fm, 0, rtol, atol): #fm != 0:\n",
    "            num_iter += 1\n",
    "            if fm * fb < 0:\n",
    "                a, b = m, b\n",
    "                fa = fm\n",
    "            elif fa * fm < 0:\n",
    "                a, b = a, m\n",
    "                fb = fm\n",
    "            m = (a + b) / 2\n",
    "            fm = f(m)\n",
    "            num_add_mult += 8 #sum_iter = 1, num_add_mult = 1, fm*fb = 1, fa * f, = 1, m = 2, fm = 2\n",
    "        return m, fm, num_iter, num_add_mult"
   ]
  },
  {
   "cell_type": "code",
   "execution_count": 60,
   "metadata": {},
   "outputs": [],
   "source": [
    "def bisection2(f, a, b, error):\n",
    "    fa, fb = f(a), f(b)\n",
    "    if fa == 0:\n",
    "        return a\n",
    "    if fb == 0:\n",
    "        return b\n",
    "    if fa * fb > 0:\n",
    "        raise(ValueError(\"Żle dobrany przedział. Miejsce zerowe znajduje się poza nim.\"))\n",
    "    else:\n",
    "        m = (a + b) / 2\n",
    "        fm = f(m)\n",
    "        num_iter = int(math.ceil(math.log(abs(a-b)/error, 2)))\n",
    "        num_add_mult = 9 #f(a) = 2, f(b) = 2 f*a * fb = 1, m = 2, fm = 2\n",
    "        for _ in range(num_iter):\n",
    "            if fm * fb < 0:\n",
    "                a, b = m, b\n",
    "                fa = fm\n",
    "            elif fa * fm < 0:\n",
    "                a, b = a, m\n",
    "                fb = fm\n",
    "            m = (a + b) / 2\n",
    "            fm = f(m)\n",
    "            num_add_mult += 8 #sum_iter = 1, num_add_mult = 1, fm*fb = 1, fa * f, = 1, m = 2, fm = 2\n",
    "        return m, fm, num_iter, num_add_mult"
   ]
  },
  {
   "cell_type": "code",
   "execution_count": 67,
   "metadata": {},
   "outputs": [],
   "source": [
    "x, fm, num1, num2 = bisection(f1, -1.2, 1, 1e-15, 1e-14)"
   ]
  },
  {
   "cell_type": "code",
   "execution_count": 141,
   "metadata": {},
   "outputs": [],
   "source": [
    "x, fm, num1, num2 = bisection2(f1, 1.7, 2.8, 1e-8)"
   ]
  },
  {
   "cell_type": "code",
   "execution_count": 142,
   "metadata": {},
   "outputs": [
    {
     "name": "stdout",
     "output_type": "stream",
     "text": [
      "Rozwiązanie to: x = 2.0288\n",
      "f(m) = 6.53308918074913e-09\n",
      "Liczba iteracji: 27\n",
      "Liczba dodawań i mnożeń: 225\n"
     ]
    }
   ],
   "source": [
    "print(f\"Rozwiązanie to: x = {x:6.4f}\\nf(m) = {fm}\\nLiczba iteracji: {num1}\\nLiczba dodawań i mnożeń: {num2}\")"
   ]
  },
  {
   "cell_type": "code",
   "execution_count": 170,
   "metadata": {},
   "outputs": [],
   "source": [
    "def brent(f, a, b, error):\n",
    "    fa, fb = f(a), f(b)\n",
    "    if fa == 0:\n",
    "        return a\n",
    "    if fb == 0:\n",
    "        return b\n",
    "    if fa * fb > 0:\n",
    "        raise ValueError(\"Źle dobrany przedział. Miejsce zerowe znajduje się poza nim.\")\n",
    "    c = a  \n",
    "    fc = fa\n",
    "    num_iter = 0\n",
    "    num_add_mult = 0\n",
    "\n",
    "    while abs(b - a) > error:\n",
    "        num_iter += 1\n",
    "        if fa != fc and fb != fc:\n",
    "            x = (a * fb * fc / ((fa - fb) * (fa - fc)) + b * fa * fc / ((fb - fa) * (fb - fc)) + c * fa * fb / ((fc - fa) * (fc - fb)))\n",
    "        else:\n",
    "            x = b - fb * (b-a)/(fb-fa) \n",
    "\n",
    "        if not (a < x < b):\n",
    "            x = (a + b) / 2\n",
    "            \n",
    "        fx = f(x)\n",
    "        num_add_mult += 8  \n",
    "        if fx == 0:\n",
    "            return x, fx, num_iter, num_add_mult\n",
    "        if fa * fx < 0:\n",
    "            b, fb = x, fx\n",
    "        else:\n",
    "            a, fa = x, fx\n",
    "        if abs(fa) < abs(fb):\n",
    "            c, fc = a, fa\n",
    "        else:\n",
    "            c, fc = b, fb\n",
    "    return (a + b) / 2, f((a + b) / 2), num_iter, num_add_mult\n"
   ]
  },
  {
   "cell_type": "code",
   "execution_count": 173,
   "metadata": {},
   "outputs": [],
   "source": [
    "x, fm, num1, num2 = brent(f1, 1.7, 2.8, 1e-8)"
   ]
  },
  {
   "cell_type": "code",
   "execution_count": 174,
   "metadata": {},
   "outputs": [
    {
     "name": "stdout",
     "output_type": "stream",
     "text": [
      "Rozwiązanie to: x = 2.0288\n",
      "f(m) = 0.0\n",
      "Liczba iteracji: 87\n",
      "Liczba dodawań i mnożeń: 696\n"
     ]
    }
   ],
   "source": [
    "print(f\"Rozwiązanie to: x = {x:6.4f}\\nf(m) = {fm}\\nLiczba iteracji: {num1}\\nLiczba dodawań i mnożeń: {num2}\")"
   ]
  },
  {
   "cell_type": "code",
   "execution_count": 199,
   "metadata": {},
   "outputs": [],
   "source": [
    "def falsi(f, a, b, max_i_num, tol=1e-8):\n",
    "    fa, fb = f(a), f(b)\n",
    "    if fa == 0:\n",
    "        return a\n",
    "    if fb == 0:\n",
    "        return b\n",
    "    if fa * fb > 0:\n",
    "        raise ValueError(\"Źle dobrany przedział. Miejsce zerowe znajduje się poza nim.\")\n",
    "    \n",
    "    for _ in range(max_i_num):\n",
    "        x = a - fa / (fb - fa) * (b - a)\n",
    "        fx = f(x)\n",
    "\n",
    "        if abs(fx) < tol:\n",
    "            return x\n",
    "        \n",
    "        if fa * fx < 0:\n",
    "            b, fb = x, fx\n",
    "        else:\n",
    "            a, fa = x, fx\n",
    "    return x\n",
    "    "
   ]
  },
  {
   "cell_type": "code",
   "execution_count": 200,
   "metadata": {},
   "outputs": [],
   "source": [
    "x = falsi(f1, 1.7, 2.8,1000)"
   ]
  },
  {
   "cell_type": "code",
   "execution_count": 201,
   "metadata": {},
   "outputs": [
    {
     "name": "stdout",
     "output_type": "stream",
     "text": [
      "Rozwiązanie to: x = 2.0288\n"
     ]
    }
   ],
   "source": [
    "print(f\"Rozwiązanie to: x = {x:6.4f}\")"
   ]
  },
  {
   "cell_type": "code",
   "execution_count": 257,
   "metadata": {},
   "outputs": [],
   "source": [
    "def newton(f, f_prime, x_0, max_i_num, tol=1e-8):\n",
    "    x = x_0 \n",
    "    for _ in range(max_i_num):\n",
    "        fx = f(x)\n",
    "        if abs(fx) < tol:\n",
    "            return x\n",
    "        fpx = f_prime(x)\n",
    "        h = - fx / fpx\n",
    "        x += h\n",
    "    return x\n",
    "    "
   ]
  },
  {
   "cell_type": "code",
   "execution_count": 258,
   "metadata": {},
   "outputs": [],
   "source": [
    "f_prime = lambda x: -1/math.cos(np.pi - x)**2 - 1"
   ]
  },
  {
   "cell_type": "code",
   "execution_count": 259,
   "metadata": {},
   "outputs": [],
   "source": [
    "x = newton(f1, f_prime, 2, 1000)"
   ]
  },
  {
   "cell_type": "code",
   "execution_count": 260,
   "metadata": {},
   "outputs": [
    {
     "name": "stdout",
     "output_type": "stream",
     "text": [
      "Rozwiązanie to: x = 2.0288\n"
     ]
    }
   ],
   "source": [
    "print(f\"Rozwiązanie to: x = {x:6.4f}\")"
   ]
  }
 ],
 "metadata": {
  "kernelspec": {
   "display_name": "Python 3",
   "language": "python",
   "name": "python3"
  },
  "language_info": {
   "codemirror_mode": {
    "name": "ipython",
    "version": 3
   },
   "file_extension": ".py",
   "mimetype": "text/x-python",
   "name": "python",
   "nbconvert_exporter": "python",
   "pygments_lexer": "ipython3",
   "version": "3.8.0"
  }
 },
 "nbformat": 4,
 "nbformat_minor": 2
}
