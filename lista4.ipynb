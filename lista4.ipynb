{
 "cells": [
  {
   "cell_type": "markdown",
   "metadata": {},
   "source": [
    "### **Lista 4**\n",
    "##### Rafał Głodek\n",
    "***"
   ]
  },
  {
   "cell_type": "markdown",
   "metadata": {},
   "source": [
    "**Zadanie 1**"
   ]
  },
  {
   "cell_type": "code",
   "execution_count": 1,
   "metadata": {},
   "outputs": [],
   "source": [
    "import numpy as np\n",
    "import matplotlib.pyplot as plt\n",
    "import scipy\n",
    "import math"
   ]
  },
  {
   "cell_type": "code",
   "execution_count": 2,
   "metadata": {},
   "outputs": [],
   "source": [
    "f1 = lambda x: np.tan(np.pi - x) - x"
   ]
  },
  {
   "cell_type": "code",
   "execution_count": 3,
   "metadata": {},
   "outputs": [],
   "source": [
    "def bisection(f, a, b, error):\n",
    "    fa, fb = f(a), f(b)\n",
    "    if fa == 0:\n",
    "        return a\n",
    "    if fb == 0:\n",
    "        return b\n",
    "    if fa * fb > 0:\n",
    "        raise(ValueError(\"Żle dobrany przedział. Miejsce zerowe znajduje się poza nim.\"))\n",
    "    else:\n",
    "        m = (a + b) / 2\n",
    "        fm = f(m)\n",
    "        max_iter = int(math.ceil(math.log(abs(a-b)/error, 2)))\n",
    "        num_add_mult = 11 #f(a) = 2, f(b) = 2 f*a * fb = 1, m = 2, fm = 2, max_iter = 2\n",
    "        num_iter = 1\n",
    "        for _ in range(max_iter):\n",
    "            if fm * fb < 0:\n",
    "                a, b = m, b\n",
    "                fa = fm\n",
    "            elif fa * fm < 0:\n",
    "                a, b = a, m\n",
    "                fb = fm\n",
    "            m = (a + b) / 2\n",
    "            fm = f(m)\n",
    "            num_iter += 1\n",
    "            num_add_mult += 6 #fm*fb = 1, fa * f, = 1, m = 2, fm = 2\n",
    "            if abs(fm) < error:\n",
    "                return m, fm, num_iter, num_add_mult\n",
    "        return m, fm, num_iter, num_add_mult"
   ]
  },
  {
   "cell_type": "code",
   "execution_count": 4,
   "metadata": {},
   "outputs": [],
   "source": [
    "x, fm, num1, num2 = bisection(f1, 1.7, 2.8, 1e-8)"
   ]
  },
  {
   "cell_type": "code",
   "execution_count": 5,
   "metadata": {},
   "outputs": [
    {
     "name": "stdout",
     "output_type": "stream",
     "text": [
      "Rozwiązanie to: x = 2.0288\n",
      "f(x) = 6.53308918074913e-09\n",
      "Liczba iteracji: 28\n",
      "Liczba dodawań i mnożeń: 173\n"
     ]
    }
   ],
   "source": [
    "print(f\"Rozwiązanie to: x = {x:6.4f}\\nf(x) = {fm}\\nLiczba iteracji: {num1}\\nLiczba dodawań i mnożeń: {num2}\")"
   ]
  },
  {
   "cell_type": "code",
   "execution_count": 6,
   "metadata": {},
   "outputs": [],
   "source": [
    "def brent(f, a, b, error):\n",
    "    fa, fb = f(a), f(b)\n",
    "    if fa == 0:\n",
    "        return a\n",
    "    if fb == 0:\n",
    "        return b\n",
    "    if fa * fb > 0:\n",
    "        raise ValueError(\"Źle dobrany przedział. Miejsce zerowe znajduje się poza nim.\")\n",
    "    c = a  \n",
    "    fc = fa\n",
    "    num_iter = 1\n",
    "    num_add_mult = 5 #f(a) = 2, f(b) = 2 f*a * fb = 1\n",
    "    while abs(b - a) > error:\n",
    "        num_add_mult += 1\n",
    "        if fa != fc and fb != fc:\n",
    "            x = (a * fb * fc / ((fa - fb) * (fa - fc)) + b * fa * fc / ((fb - fa) * (fb - fc)) + c * fa * fb / ((fc - fa) * (fc - fb)))\n",
    "            num_add_mult += 20\n",
    "        else:\n",
    "            x = b - fb * (b-a)/(fb-fa) \n",
    "            num_add_mult += 5\n",
    "\n",
    "        if not (a < x < b):\n",
    "            x = (a + b) / 2\n",
    "            num_add_mult += 2\n",
    "    \n",
    "        fx = f(x)\n",
    "        num_add_mult += 2\n",
    "        if abs(fx) < error:\n",
    "            return x, fx, num_iter, num_add_mult\n",
    "        if fa * fx < 0:\n",
    "            b, fb = x, fx\n",
    "        else:\n",
    "            a, fa = x, fx\n",
    "        if abs(fa) < abs(fb):\n",
    "            c, fc = a, fa\n",
    "        else:\n",
    "            c, fc = b, fb\n",
    "        num_iter += 1\n",
    "        num_add_mult += 1 \n",
    "    return (a + b) / 2, f((a + b) / 2), num_iter, num_add_mult + 6\n"
   ]
  },
  {
   "cell_type": "code",
   "execution_count": 7,
   "metadata": {},
   "outputs": [],
   "source": [
    "x, fm, num1, num2 = brent(f1, 1.7, 2.8, 1e-8)"
   ]
  },
  {
   "cell_type": "code",
   "execution_count": 8,
   "metadata": {},
   "outputs": [
    {
     "name": "stdout",
     "output_type": "stream",
     "text": [
      "Rozwiązanie to: x = 2.0288\n",
      "f(x) = -6.928547069406932e-09\n",
      "Liczba iteracji: 49\n",
      "Liczba dodawań i mnożeń: 445\n"
     ]
    }
   ],
   "source": [
    "print(f\"Rozwiązanie to: x = {x:6.4f}\\nf(x) = {fm}\\nLiczba iteracji: {num1}\\nLiczba dodawań i mnożeń: {num2}\")"
   ]
  },
  {
   "cell_type": "code",
   "execution_count": 9,
   "metadata": {},
   "outputs": [],
   "source": [
    "def falsi(f, a, b, max_i_num, tol=1e-8):\n",
    "    fa, fb = f(a), f(b)\n",
    "    if fa == 0:\n",
    "        return a\n",
    "    if fb == 0:\n",
    "        return b\n",
    "    if fa * fb > 0:\n",
    "        raise ValueError(\"Źle dobrany przedział. Miejsce zerowe znajduje się poza nim.\")\n",
    "    \n",
    "    num_iter = 1\n",
    "    num_add_mult = 5 #f(a) = 2, f(b) = 2 f*a * fb = 1\n",
    "    \n",
    "    for _ in range(max_i_num):\n",
    "        x = a - fa / (fb - fa) * (b - a)\n",
    "        fx = f(x)\n",
    "        num_add_mult += 7 # x=5 fx=2\n",
    "\n",
    "        if abs(fx) < tol:\n",
    "            return x, fx, num_iter, num_add_mult\n",
    "        \n",
    "        if fa * fx < 0:\n",
    "            b, fb = x, fx\n",
    "        else:\n",
    "            a, fa = x, fx\n",
    "        num_iter += 1\n",
    "        num_add_mult += 1\n",
    "\n",
    "    return x, fx, num_iter, num_add_mult\n",
    "    "
   ]
  },
  {
   "cell_type": "code",
   "execution_count": 10,
   "metadata": {},
   "outputs": [],
   "source": [
    "def sieczne(f, a, b, max_i_num, tol=1e-8):\n",
    "    fa, fb = f(a), f(b)\n",
    "    if fa == 0:\n",
    "        return a\n",
    "    if fb == 0:\n",
    "        return b\n",
    "    if fa * fb > 0:\n",
    "        raise ValueError(\"Źle dobrany przedział. Miejsce zerowe znajduje się poza nim.\")\n",
    "    \n",
    "    x_stare = a\n",
    "    fxs = f(x_stare)\n",
    "    x = a - fa / (fb - fa) * (b - a)\n",
    "    fx = f(x)\n",
    "\n",
    "    num_iter = 1\n",
    "    num_add_mult = 12  #f(a) = 2, f(b) = 2 f*a * fb = 1\n",
    "\n",
    "\n",
    "    for _ in range(max_i_num):\n",
    "        x_s_temp, fxs_temp = x.copy(), fx.copy()\n",
    "        x -= fx * (x - x_stare) / (fx - fxs)\n",
    "        fx = f(x)\n",
    "        x_stare, fxs = x_s_temp, fxs_temp\n",
    "        num_add_mult += 5 # x=5 fx=2\n",
    "\n",
    "        if abs(fx) < tol:\n",
    "            return x, fx, num_iter, num_add_mult\n",
    "   \n",
    "        num_iter += 1\n",
    "\n",
    "    return x, fx, num_iter, num_add_mult\n",
    "    "
   ]
  },
  {
   "cell_type": "code",
   "execution_count": 11,
   "metadata": {},
   "outputs": [],
   "source": [
    "x,fx, num1, num2 = sieczne(f1, 1.7, 2.8,1000)"
   ]
  },
  {
   "cell_type": "code",
   "execution_count": 12,
   "metadata": {},
   "outputs": [
    {
     "name": "stdout",
     "output_type": "stream",
     "text": [
      "Rozwiązanie to: x = 2.0288\n",
      "f(x) = 6.878808633814515e-11\n",
      "Liczba iteracji: 8\n",
      "Liczba dodawań i mnożeń: 52\n"
     ]
    }
   ],
   "source": [
    "print(f\"Rozwiązanie to: x = {x:6.4f}\\nf(x) = {fx}\\nLiczba iteracji: {num1}\\nLiczba dodawań i mnożeń: {num2}\")"
   ]
  },
  {
   "cell_type": "code",
   "execution_count": 13,
   "metadata": {},
   "outputs": [],
   "source": [
    "def newton(f, f_prime, x_0, max_i_num, tol=1e-8):\n",
    "    x = x_0 \n",
    "    num_iter = 1\n",
    "    num_add_mult = 0\n",
    "    for _ in range(max_i_num):\n",
    "        fx = f(x)\n",
    "        num_add_mult += 2\n",
    "        if abs(fx) < tol:\n",
    "            return x, fx, num_iter, num_add_mult\n",
    "        fpx = f_prime(x)\n",
    "        num_add_mult += 3\n",
    "        h = - fx / fpx\n",
    "        x += h\n",
    "        num_iter += 1\n",
    "        num_add_mult += 3\n",
    "    return x, fx, num_iter, num_add_mult\n",
    "    "
   ]
  },
  {
   "cell_type": "code",
   "execution_count": 14,
   "metadata": {},
   "outputs": [],
   "source": [
    "f_prime = lambda x: -1/math.cos(np.pi - x)**2 - 1"
   ]
  },
  {
   "cell_type": "code",
   "execution_count": 15,
   "metadata": {},
   "outputs": [],
   "source": [
    "x, fx, num1, num2 = newton(f1, f_prime, 2, 1000)"
   ]
  },
  {
   "cell_type": "code",
   "execution_count": 16,
   "metadata": {},
   "outputs": [
    {
     "name": "stdout",
     "output_type": "stream",
     "text": [
      "Rozwiązanie to: x = 2.0288\n",
      "f(x) = 1.300635155132568e-10\n",
      "Liczba iteracji: 4\n",
      "Liczba dodawań i mnożeń: 26\n"
     ]
    }
   ],
   "source": [
    "print(f\"Rozwiązanie to: x = {x:6.4f}\\nf(x) = {fx}\\nLiczba iteracji: {num1}\\nLiczba dodawań i mnożeń: {num2}\")"
   ]
  },
  {
   "cell_type": "markdown",
   "metadata": {},
   "source": [
    "\n",
    "\\begin{array}{|c|c|c|c|c|}\n",
    "\\hline\n",
    " & \\text{bisekcja} & \\text{m. Brenta} & \\text{m. siecznych} & \\text{m. Newtona} \\\\ \\hline\n",
    "x & 2.0288 & 2.0288 & 2.0288 & 2.0288 \\\\ \\hline\n",
    "f(x) & 6.53308918074913e-09 & -6.928547069406932e-09 & 6.878808633814515e-11 & 1.300635155132568e-10 \\\\ \\hline\n",
    "\\text{liczba iteracji} & 28 & 49 & 8 & 4 \\\\ \\hline\n",
    "\\text{liczba mnożeń i dodawań} & 173 & 445 & 52 & 26 \\\\ \\hline\n",
    "\\end{array}%\n",
    "\n"
   ]
  },
  {
   "cell_type": "code",
   "execution_count": 17,
   "metadata": {},
   "outputs": [],
   "source": [
    "f1_bis = lambda x: -2 * np.tan(x) * 1/np.cos(x)**2"
   ]
  },
  {
   "cell_type": "markdown",
   "metadata": {},
   "source": [
    "Zadanie 2"
   ]
  },
  {
   "cell_type": "code",
   "execution_count": 18,
   "metadata": {},
   "outputs": [],
   "source": [
    "f2 = lambda x: np.cosh(x) * np.cos(x) - 1\n",
    "xs = np.linspace(4,8,1000)"
   ]
  },
  {
   "cell_type": "code",
   "execution_count": 19,
   "metadata": {},
   "outputs": [],
   "source": [
    "f2_prime = lambda x: np.cos(x) * np.sinh(x) - np.sin(x) * np.cosh(x)\n",
    "f2_bis = lambda x: -2 * np.sin(x) * np.sinh(x)"
   ]
  },
  {
   "cell_type": "code",
   "execution_count": 21,
   "metadata": {},
   "outputs": [
    {
     "data": {
      "image/png": "[encoded data removed]",
      "text/plain": [
       "<Figure size 640x480 with 1 Axes>"
      ]
     },
     "metadata": {},
     "output_type": "display_data"
    }
   ],
   "source": [
    "plt.plot(xs, f2(xs), label=\"f(x) = $\\\\cosh(x) \\\\cdot \\\\cos(x) - 1$\")\n",
    "plt.axhline(0, color='black', linewidth=0.8, linestyle='--') \n",
    "plt.xlabel('x')\n",
    "plt.ylabel('f(x)')\n",
    "plt.title('Wykres funkcji f(x)')\n",
    "plt.grid(True, linestyle='--', alpha=0.6)\n",
    "plt.legend()\n",
    "plt.show()"
   ]
  },
  {
   "cell_type": "code",
   "execution_count": 22,
   "metadata": {},
   "outputs": [],
   "source": [
    "def iterative_newton(f, f_prime, f_bis, x_0, max_i_num, tol=1e-8):\n",
    "    x = x_0 \n",
    "    for _ in range(max_i_num):\n",
    "        fx = f(x)\n",
    "        if abs(fx) < tol:\n",
    "            return x\n",
    "        fpx = f_prime(x)\n",
    "        fbx = f_bis(x)\n",
    "        u = fx/fpx\n",
    "        t = fx*fbx/fpx**2\n",
    "        x -= u * 2/(1 + np.sqrt(1 - 2 * t))\n",
    "    return x\n",
    "    \n",
    "    "
   ]
  },
  {
   "cell_type": "code",
   "execution_count": 27,
   "metadata": {},
   "outputs": [],
   "source": [
    "x = iterative_newton(f2, f2_prime, f2_bis, 4, 1000)"
   ]
  },
  {
   "cell_type": "code",
   "execution_count": 28,
   "metadata": {},
   "outputs": [
    {
     "name": "stdout",
     "output_type": "stream",
     "text": [
      "Rozwiązanie modyfikowaną iteracyjną metodą Newtona startując od x0 = 4\n",
      "x = 4.730040744862704\n"
     ]
    }
   ],
   "source": [
    "print(f\"Rozwiązanie modyfikowaną iteracyjną metodą Newtona startując od x0 = 4\\nx = {x}\")"
   ]
  },
  {
   "cell_type": "code",
   "execution_count": 33,
   "metadata": {},
   "outputs": [],
   "source": [
    "x = newton(f2, f2_prime, 4, 1000)[0]"
   ]
  },
  {
   "cell_type": "code",
   "execution_count": 34,
   "metadata": {},
   "outputs": [
    {
     "name": "stdout",
     "output_type": "stream",
     "text": [
      "Rozwiązanie standardową iteracyjną metodą Newtona startując od x0 = 4\n",
      "x = 10.995607838001671\n"
     ]
    }
   ],
   "source": [
    "print(f\"Rozwiązanie standardową iteracyjną metodą Newtona startując od x0 = 4\\nx = {x}\")"
   ]
  },
  {
   "cell_type": "markdown",
   "metadata": {},
   "source": [
    "Zadanie 3"
   ]
  },
  {
   "cell_type": "code",
   "execution_count": 35,
   "metadata": {},
   "outputs": [],
   "source": [
    "f3 = lambda x: 2510 * np.log(2.8 * 10 ** 6 / (2.8 * 10 ** 6 - 13.3 * 10**3 * x)) - 9.81 * x - 335\n",
    "f3_prime = lambda x: 2510 / (210.526 - x) - 9.81"
   ]
  },
  {
   "cell_type": "code",
   "execution_count": 38,
   "metadata": {},
   "outputs": [],
   "source": [
    "t = newton(f3, f3_prime, 60, 1000)[0]"
   ]
  },
  {
   "cell_type": "code",
   "execution_count": 39,
   "metadata": {},
   "outputs": [
    {
     "name": "stdout",
     "output_type": "stream",
     "text": [
      "Rozwiązanie standardową iteracyjną metodą Newtona startując od x0 = 60\n",
      "t = 70.87797226808371\n"
     ]
    }
   ],
   "source": [
    "print(f\"Rozwiązanie standardową iteracyjną metodą Newtona startując od x0 = 60\\nt = {t}\")"
   ]
  },
  {
   "cell_type": "markdown",
   "metadata": {},
   "source": [
    "Zadanie 4"
   ]
  },
  {
   "cell_type": "code",
   "execution_count": 40,
   "metadata": {},
   "outputs": [],
   "source": [
    "f4 = lambda x: -8.31441 * x * np.log((x /  4.44418) ** (2.5)) + 10**5\n",
    "f4_prime = lambda x: 10.2183 - 8.31441 * np.log(x ** (2.5))"
   ]
  },
  {
   "cell_type": "code",
   "execution_count": 41,
   "metadata": {},
   "outputs": [],
   "source": [
    "T = newton(f4, f4_prime, 900, 1000)[0]"
   ]
  },
  {
   "cell_type": "code",
   "execution_count": 42,
   "metadata": {},
   "outputs": [
    {
     "name": "stdout",
     "output_type": "stream",
     "text": [
      "Rozwiązanie standardową iteracyjną metodą Newtona startując od x0 = 900\n",
      "T = 904.9425832328805\n"
     ]
    }
   ],
   "source": [
    "print(f\"Rozwiązanie standardową iteracyjną metodą Newtona startując od x0 = 900\\nT = {T}\")"
   ]
  },
  {
   "cell_type": "markdown",
   "metadata": {},
   "source": [
    "Zadanie 5"
   ]
  },
  {
   "cell_type": "code",
   "execution_count": 43,
   "metadata": {},
   "outputs": [],
   "source": [
    "def newton_nonlinear(F, F_prime, x_0, max_i_num, tol):\n",
    "    x = x_0\n",
    "    for _ in range(max_i_num):\n",
    "        Fx = F(x)\n",
    "        if np.linalg.norm(Fx) < tol:\n",
    "            return x\n",
    "        Fpx = F_prime(x)\n",
    "        delta_x = np.linalg.solve(Fpx, -Fx)\n",
    "        x = x + delta_x.flatten()\n",
    "    return x\n",
    "    "
   ]
  },
  {
   "cell_type": "code",
   "execution_count": 44,
   "metadata": {},
   "outputs": [],
   "source": [
    "F = lambda x: np.array([np.tan(x[0]) - x[1] - 1, np.cos(x[0]) - 3 * np.sin(x[1])])"
   ]
  },
  {
   "cell_type": "code",
   "execution_count": 45,
   "metadata": {},
   "outputs": [],
   "source": [
    "F_prime = lambda x: np.matrix([[1/np.cos(x[0])**2, -1], [-np.sin(x[0]), -3*np.cos(x[1])]])"
   ]
  },
  {
   "cell_type": "code",
   "execution_count": 49,
   "metadata": {},
   "outputs": [
    {
     "name": "stdout",
     "output_type": "stream",
     "text": [
      "Rozwiązanie za pomocą metody Newtona:\n",
      "x=0.8815925944959518\n",
      "y=0.2135947145716599\n"
     ]
    }
   ],
   "source": [
    "x, y = newton_nonlinear(F,F_prime, [0,0], 1000, 1e-8)\n",
    "print(f\"Rozwiązanie za pomocą metody Newtona:\\nx={x}\\ny={y}\")"
   ]
  },
  {
   "cell_type": "code",
   "execution_count": 50,
   "metadata": {},
   "outputs": [
    {
     "name": "stdout",
     "output_type": "stream",
     "text": [
      "Rozwiązanie za pomocą wbudowanej metody fsolve:\n",
      "x=0.8815925944959405\n",
      "y=0.21359471457166196\n"
     ]
    }
   ],
   "source": [
    "from scipy.optimize import fsolve\n",
    "\n",
    "def equations(vars):\n",
    "    x, y = vars\n",
    "    eq1 = np.tan(x) - y - 1\n",
    "    eq2 = np.cos(x) - 3*np.sin(y)\n",
    "    return [eq1, eq2]\n",
    "\n",
    "initial_guess = [0,0]\n",
    "x, y = fsolve(equations, initial_guess)\n",
    "print(f\"Rozwiązanie za pomocą wbudowanej metody fsolve:\\nx={x}\\ny={y}\")"
   ]
  },
  {
   "cell_type": "code",
   "execution_count": 51,
   "metadata": {},
   "outputs": [],
   "source": [
    "y1 = lambda x: np.tan(x) - 1\n",
    "y2 = lambda x: np.arcsin(np.cos(x)/3)\n",
    "xs = np.linspace(0, 1.5,1000)"
   ]
  },
  {
   "cell_type": "code",
   "execution_count": 52,
   "metadata": {},
   "outputs": [
    {
     "data": {
      "image/png": "[encoded data removed]",
      "text/plain": [
       "<Figure size 640x480 with 1 Axes>"
      ]
     },
     "metadata": {},
     "output_type": "display_data"
    }
   ],
   "source": [
    "plt.plot(xs, y1(xs), label=\"y = tan(x) - 1\")\n",
    "plt.plot(xs, y2(xs), label=\"y = arcsin(cos(x) / 3)\")\n",
    "plt.legend(loc=\"best\")\n",
    "plt.show()"
   ]
  },
  {
   "cell_type": "markdown",
   "metadata": {},
   "source": [
    "Zadanie 6"
   ]
  },
  {
   "cell_type": "code",
   "execution_count": 61,
   "metadata": {},
   "outputs": [],
   "source": [
    "def laguerre(w, x_0, n, max_i_num, tol):\n",
    "    x = x_0\n",
    "    w_prime = np.polyder(w, 1)\n",
    "    w_bis = np.polyder(w, 2)\n",
    "    for _ in range(max_i_num):\n",
    "        wx = w(x)\n",
    "        if abs(wx) < tol:\n",
    "            return x\n",
    "        wpx = w_prime(x)\n",
    "        wbx = w_bis(x)\n",
    "        G = wpx / wx\n",
    "        H = G ** 2 - wbx / wx\n",
    "        a1 = n / (G + np.sqrt((n-1) * (n * H - G ** 2)))\n",
    "        a2 = n / (G - np.sqrt((n-1) * (n * H - G ** 2)))\n",
    "        a = min(a1, a2)\n",
    "        x -= a\n",
    "    return x\n",
    "        \n",
    "        "
   ]
  },
  {
   "cell_type": "code",
   "execution_count": 62,
   "metadata": {},
   "outputs": [],
   "source": [
    "w = np.poly1d([1, 5+1j, -8+5j, 30-14j, -84])"
   ]
  },
  {
   "cell_type": "code",
   "execution_count": 63,
   "metadata": {},
   "outputs": [],
   "source": [
    "r = laguerre(w, 0, 4, 1000, 1e-8)"
   ]
  },
  {
   "cell_type": "code",
   "execution_count": 64,
   "metadata": {},
   "outputs": [],
   "source": [
    "def all_x(w, x_0, n, max_i_num, tol, x_num):\n",
    "    xs = []\n",
    "    for i in range(x_num):\n",
    "        res = laguerre(w, x_0, n, max_i_num, tol)\n",
    "        xs.append(res)\n",
    "        p = np.poly1d([1,-res])\n",
    "        w = np.polydiv(w, p)[0]\n",
    "        n -= 1\n",
    "    return xs"
   ]
  },
  {
   "cell_type": "code",
   "execution_count": 65,
   "metadata": {},
   "outputs": [
    {
     "name": "stdout",
     "output_type": "stream",
     "text": [
      "Znalezione pierwiastki to:\n",
      "x1 = (2.000000000006474+1.1957957410727027e-12j)\n",
      "x2 = (-4.487046584983334e-12+2.0000000000030282j)\n",
      "x3 = (-1.3211931548829426e-12-3.00000000000385j)\n",
      "x4 = (-7.000000000000665-3.743672039036028e-13j)\n"
     ]
    }
   ],
   "source": [
    "xs = all_x(w, 0, 4, 1000, 1e-8, 4)\n",
    "print(\"Znalezione pierwiastki to:\")\n",
    "for i,x in enumerate(xs):\n",
    "    print(f\"x{i+1} = {x}\")"
   ]
  }
 ],
 "metadata": {
  "kernelspec": {
   "display_name": "Python 3",
   "language": "python",
   "name": "python3"
  },
  "language_info": {
   "codemirror_mode": {
    "name": "ipython",
    "version": 3
   },
   "file_extension": ".py",
   "mimetype": "text/x-python",
   "name": "python",
   "nbconvert_exporter": "python",
   "pygments_lexer": "ipython3",
   "version": "3.13.0"
  }
 },
 "nbformat": 4,
 "nbformat_minor": 2
}
