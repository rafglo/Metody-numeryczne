{
 "cells": [
  {
   "cell_type": "markdown",
   "metadata": {},
   "source": [
    "### **Lista 4**\n",
    "##### Rafał Głodek\n",
    "***"
   ]
  },
  {
   "cell_type": "markdown",
   "metadata": {},
   "source": [
    "**Zadanie 1**"
   ]
  },
  {
   "cell_type": "markdown",
   "metadata": {},
   "source": [
    "Zauważmy że \n",
    "\n",
    "$$\n",
    "\\tan(\\pi - x) = -\\tan(x)\n",
    "$$\n",
    "\n",
    "Więc równanie sprowadza się do\n",
    "\n",
    "$$\n",
    "-\\tan(x) = x\n",
    "$$"
   ]
  },
  {
   "cell_type": "code",
   "execution_count": 52,
   "metadata": {},
   "outputs": [],
   "source": [
    "import numpy as np\n",
    "import matplotlib.pyplot as plt\n",
    "import scipy\n",
    "import math"
   ]
  },
  {
   "cell_type": "code",
   "execution_count": 14,
   "metadata": {},
   "outputs": [],
   "source": [
    "f1 = lambda x: np.tan(np.pi - x) - x"
   ]
  },
  {
   "cell_type": "code",
   "execution_count": 66,
   "metadata": {},
   "outputs": [],
   "source": [
    "def bisection(f, a, b, atol=1e-8, rtol=1e-5):\n",
    "    fa, fb = f(a), f(b)\n",
    "    if fa == 0:\n",
    "        return a\n",
    "    if fb == 0:\n",
    "        return b\n",
    "    if fa * fb > 0:\n",
    "        raise(ValueError(\"Żle dobrany przedział. Miejsce zerowe znajduje się poza nim.\"))\n",
    "    else:\n",
    "        m = (a + b) / 2\n",
    "        fm = f(m)\n",
    "        num_iter = 1\n",
    "        num_add_mult = 9 #f(a) = 2, f(b) = 2 f*a * fb = 1, m = 2, fm = 2\n",
    "        while fm != 0: #not np.isclose(fm, 0, rtol, atol):\n",
    "            num_iter += 1\n",
    "            if fm * fb < 0:\n",
    "                a, b = m, b\n",
    "                fa = fm\n",
    "            elif fa * fm < 0:\n",
    "                a, b = a, m\n",
    "                fb = fm\n",
    "            m = (a + b) / 2\n",
    "            fm = f(m)\n",
    "            num_add_mult += 8 #sum_iter = 1, num_add_mult = 1, fm*fb = 1, fa * f, = 1, m = 2, fm = 2\n",
    "        return m, fm, num_iter, num_add_mult"
   ]
  },
  {
   "cell_type": "code",
   "execution_count": 60,
   "metadata": {},
   "outputs": [],
   "source": [
    "def bisection2(f, a, b, error):\n",
    "    fa, fb = f(a), f(b)\n",
    "    if fa == 0:\n",
    "        return a\n",
    "    if fb == 0:\n",
    "        return b\n",
    "    if fa * fb > 0:\n",
    "        raise(ValueError(\"Żle dobrany przedział. Miejsce zerowe znajduje się poza nim.\"))\n",
    "    else:\n",
    "        m = (a + b) / 2\n",
    "        fm = f(m)\n",
    "        num_iter = int(math.ceil(math.log(abs(a-b)/error, 2)))\n",
    "        num_add_mult = 9 #f(a) = 2, f(b) = 2 f*a * fb = 1, m = 2, fm = 2\n",
    "        for _ in range(num_iter):\n",
    "            if fm * fb < 0:\n",
    "                a, b = m, b\n",
    "                fa = fm\n",
    "            elif fa * fm < 0:\n",
    "                a, b = a, m\n",
    "                fb = fm\n",
    "            m = (a + b) / 2\n",
    "            fm = f(m)\n",
    "            num_add_mult += 8 #sum_iter = 1, num_add_mult = 1, fm*fb = 1, fa * f, = 1, m = 2, fm = 2\n",
    "        return m, fm, num_iter, num_add_mult"
   ]
  },
  {
   "cell_type": "code",
   "execution_count": 67,
   "metadata": {},
   "outputs": [],
   "source": [
    "x, fm, num1, num2 = bisection(f1, -1.2, 1, 1e-15, 1e-14)"
   ]
  },
  {
   "cell_type": "code",
   "execution_count": 61,
   "metadata": {},
   "outputs": [],
   "source": [
    "x, fm, num1, num2 = bisection2(f1, -1.2, 1, 1e-8)"
   ]
  },
  {
   "cell_type": "code",
   "execution_count": 68,
   "metadata": {},
   "outputs": [
    {
     "name": "stdout",
     "output_type": "stream",
     "text": [
      "Rozwiązanie to: x = -0.0000\n",
      "f(m) = 0.0\n",
      "Liczba iteracji: 101\n",
      "Liczba dodawań i mnożeń: 809\n"
     ]
    }
   ],
   "source": [
    "print(f\"Rozwiązanie to: x = {x:6.4f}\\nf(m) = {fm}\\nLiczba iteracji: {num1}\\nLiczba dodawań i mnożeń: {num2}\")"
   ]
  },
  {
   "cell_type": "code",
   "execution_count": null,
   "metadata": {},
   "outputs": [],
   "source": [
    "def brent(f, a, b):\n",
    "    fa, fb = f(a), f(b)\n",
    "    if fa == 0:\n",
    "        return a\n",
    "    if fb == 0:\n",
    "        return b\n",
    "    if fa * fb > 0:\n",
    "        raise(ValueError(\"Żle dobrany przedział. Miejsce zerowe znajduje się poza nim.\"))\n",
    "    else:\n",
    "        m = (a + b) / 2\n",
    "        fm = f(m)\n",
    "        num_iter = 1\n",
    "        num_add_mult = 9 #f(a) = 2, f(b) = 2 f*a * fb = 1, m = 2, fm = 2\n",
    "        while fm != 0: #not np.isclose(fm, 0, rtol, atol):\n",
    "            num_iter += 1\n",
    "            if fm * fb < 0:\n",
    "                a, b = m, b\n",
    "                fa = fm\n",
    "            elif fa * fm < 0:\n",
    "                a, b = a, m\n",
    "                fb = fm\n",
    "            m = (a + b) / 2\n",
    "            fm = f(m)\n",
    "            num_add_mult += 8 #sum_iter = 1, num_add_mult = 1, fm*fb = 1, fa * f, = 1, m = 2, fm = 2\n",
    "        return m, fm, num_iter, num_add_mult"
   ]
  }
 ],
 "metadata": {
  "kernelspec": {
   "display_name": "Python 3",
   "language": "python",
   "name": "python3"
  },
  "language_info": {
   "codemirror_mode": {
    "name": "ipython",
    "version": 3
   },
   "file_extension": ".py",
   "mimetype": "text/x-python",
   "name": "python",
   "nbconvert_exporter": "python",
   "pygments_lexer": "ipython3",
   "version": "3.8.0"
  }
 },
 "nbformat": 4,
 "nbformat_minor": 2
}
