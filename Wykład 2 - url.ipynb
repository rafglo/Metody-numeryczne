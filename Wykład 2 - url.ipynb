{
 "cells": [
  {
   "cell_type": "markdown",
   "id": "ebcdcfc5",
   "metadata": {},
   "source": [
    "# Metody numeryczne\n",
    "## Wykład 2 - układy równań liniowych\n",
    "### Janusz Szwabiński"
   ]
  },
  {
   "cell_type": "markdown",
   "id": "97ba3e0a",
   "metadata": {},
   "source": [
    "## Eliminacja Gaussa"
   ]
  },
  {
   "cell_type": "code",
   "execution_count": 1,
   "id": "d5e9917f",
   "metadata": {},
   "outputs": [],
   "source": [
    "import numpy as np\n",
    "\n",
    "def gaussElimin(a,b):\n",
    "    n = len(b)\n",
    "    # Elimination phase\n",
    "    for k in range(0,n-1):\n",
    "        for i in range(k+1,n):\n",
    "            if a[i,k] != 0.0:\n",
    "                lam = a [i,k]/a[k,k]\n",
    "                a[i,k+1:n] = a[i,k+1:n] - lam*a[k,k+1:n]\n",
    "                b[i] = b[i] - lam*b[k]\n",
    "    # Back substitution\n",
    "    for k in range(n-1,-1,-1):\n",
    "        b[k] = (b[k] - np.dot(a[k,k+1:n],b[k+1:n]))/a[k,k]\n",
    "    return b"
   ]
  },
  {
   "cell_type": "code",
   "execution_count": 2,
   "id": "4d4097d8",
   "metadata": {},
   "outputs": [],
   "source": [
    "a = np.array([[4.0,-2,1],[-2,4,-2],[1,-2,4]],dtype='float64')"
   ]
  },
  {
   "cell_type": "code",
   "execution_count": 3,
   "id": "4aef43ba",
   "metadata": {},
   "outputs": [],
   "source": [
    "b = np.array([11.0,-16,17])"
   ]
  },
  {
   "cell_type": "code",
   "execution_count": 4,
   "id": "9f60bf40",
   "metadata": {},
   "outputs": [],
   "source": [
    "x = gaussElimin(np.copy(a),np.copy(b))"
   ]
  },
  {
   "cell_type": "code",
   "execution_count": 5,
   "id": "41ac8fc4",
   "metadata": {},
   "outputs": [
    {
     "data": {
      "text/plain": [
       "array([ 1., -2.,  3.])"
      ]
     },
     "execution_count": 5,
     "metadata": {},
     "output_type": "execute_result"
    }
   ],
   "source": [
    "x"
   ]
  },
  {
   "cell_type": "code",
   "execution_count": 6,
   "id": "aabd2b86",
   "metadata": {},
   "outputs": [
    {
     "data": {
      "text/plain": [
       "array([ 11., -16.,  17.])"
      ]
     },
     "execution_count": 6,
     "metadata": {},
     "output_type": "execute_result"
    }
   ],
   "source": [
    "np.dot(a,x)"
   ]
  },
  {
   "cell_type": "code",
   "execution_count": 7,
   "id": "375cb04f",
   "metadata": {},
   "outputs": [
    {
     "data": {
      "text/plain": [
       "array([ 1., -2.,  3.])"
      ]
     },
     "execution_count": 7,
     "metadata": {},
     "output_type": "execute_result"
    }
   ],
   "source": [
    "np.linalg.solve(a,b)"
   ]
  },
  {
   "cell_type": "markdown",
   "id": "d1557f13",
   "metadata": {},
   "source": [
    "## Brak niezawodności"
   ]
  },
  {
   "cell_type": "code",
   "execution_count": 8,
   "id": "ddd60023",
   "metadata": {},
   "outputs": [],
   "source": [
    "a2 = np.array([[1,0,1],[1,1,1],[1,-1,1]],dtype='float64')"
   ]
  },
  {
   "cell_type": "code",
   "execution_count": 9,
   "id": "1176e9e6",
   "metadata": {},
   "outputs": [],
   "source": [
    "b2 = np.array([2,3,1],dtype='float64')"
   ]
  },
  {
   "cell_type": "code",
   "execution_count": 10,
   "id": "27c26956",
   "metadata": {},
   "outputs": [
    {
     "data": {
      "text/plain": [
       "np.float64(0.0)"
      ]
     },
     "execution_count": 10,
     "metadata": {},
     "output_type": "execute_result"
    }
   ],
   "source": [
    "np.linalg.det(a2)"
   ]
  },
  {
   "cell_type": "code",
   "execution_count": 11,
   "id": "87f980ad",
   "metadata": {},
   "outputs": [
    {
     "name": "stderr",
     "output_type": "stream",
     "text": [
      "/tmp/ipykernel_22744/1085182043.py:14: RuntimeWarning: invalid value encountered in scalar divide\n",
      "  b[k] = (b[k] - np.dot(a[k,k+1:n],b[k+1:n]))/a[k,k]\n"
     ]
    }
   ],
   "source": [
    "x = gaussElimin(np.copy(a2),np.copy(b2))"
   ]
  },
  {
   "cell_type": "markdown",
   "id": "6b4ed710",
   "metadata": {},
   "source": [
    "## Układy niedookreślone"
   ]
  },
  {
   "cell_type": "code",
   "execution_count": 4,
   "id": "482781aa",
   "metadata": {},
   "outputs": [
    {
     "data": {
      "text/plain": [
       "matrix([[0.6],\n",
       "        [1.2]])"
      ]
     },
     "execution_count": 4,
     "metadata": {},
     "output_type": "execute_result"
    }
   ],
   "source": [
    "import scipy as sp\n",
    "import numpy as np\n",
    "b = np.mat('[3]')\n",
    "A = np.mat('[1 2]')\n",
    "AI = sp.linalg.pinv(A)\n",
    "AI*b\n"
   ]
  },
  {
   "cell_type": "markdown",
   "id": "f374bd65",
   "metadata": {},
   "source": [
    "## Układy nadokreślone"
   ]
  },
  {
   "cell_type": "code",
   "execution_count": 5,
   "id": "563a23fc",
   "metadata": {},
   "outputs": [
    {
     "data": {
      "text/plain": [
       "matrix([[0.9631014 ],\n",
       "        [0.98854334]])"
      ]
     },
     "execution_count": 5,
     "metadata": {},
     "output_type": "execute_result"
    }
   ],
   "source": [
    "c = np.mat ('[1.98; 0.95; 3.98; 0.92;2.90]')\n",
    "B = np.mat ('[1 1;2.05 -1;3.06 1; -1.02 2;4.08 -1]')\n",
    "BI = sp.linalg.pinv(B)\n",
    "BI*c"
   ]
  },
  {
   "cell_type": "code",
   "execution_count": 6,
   "id": "57bd081d",
   "metadata": {},
   "outputs": [
    {
     "data": {
      "text/plain": [
       "array([[0.9631014 ],\n",
       "       [0.98854334]])"
      ]
     },
     "execution_count": 6,
     "metadata": {},
     "output_type": "execute_result"
    }
   ],
   "source": [
    "#bezpośrednio z metody najmniejszych kwadratów\n",
    "x,res,rank,s = sp.linalg.lstsq(B,c)\n",
    "x"
   ]
  },
  {
   "cell_type": "code",
   "execution_count": 7,
   "id": "a2668d4d",
   "metadata": {},
   "outputs": [
    {
     "name": "stdout",
     "output_type": "stream",
     "text": [
      "Help on function lstsq in module scipy.linalg._basic:\n",
      "\n",
      "lstsq(a, b, cond=None, overwrite_a=False, overwrite_b=False, check_finite=True, lapack_driver=None)\n",
      "    Compute least-squares solution to equation Ax = b.\n",
      "    \n",
      "    Compute a vector x such that the 2-norm ``|b - A x|`` is minimized.\n",
      "    \n",
      "    Parameters\n",
      "    ----------\n",
      "    a : (M, N) array_like\n",
      "        Left-hand side array\n",
      "    b : (M,) or (M, K) array_like\n",
      "        Right hand side array\n",
      "    cond : float, optional\n",
      "        Cutoff for 'small' singular values; used to determine effective\n",
      "        rank of a. Singular values smaller than\n",
      "        ``cond * largest_singular_value`` are considered zero.\n",
      "    overwrite_a : bool, optional\n",
      "        Discard data in `a` (may enhance performance). Default is False.\n",
      "    overwrite_b : bool, optional\n",
      "        Discard data in `b` (may enhance performance). Default is False.\n",
      "    check_finite : bool, optional\n",
      "        Whether to check that the input matrices contain only finite numbers.\n",
      "        Disabling may give a performance gain, but may result in problems\n",
      "        (crashes, non-termination) if the inputs do contain infinities or NaNs.\n",
      "    lapack_driver : str, optional\n",
      "        Which LAPACK driver is used to solve the least-squares problem.\n",
      "        Options are ``'gelsd'``, ``'gelsy'``, ``'gelss'``. Default\n",
      "        (``'gelsd'``) is a good choice.  However, ``'gelsy'`` can be slightly\n",
      "        faster on many problems.  ``'gelss'`` was used historically.  It is\n",
      "        generally slow but uses less memory.\n",
      "    \n",
      "        .. versionadded:: 0.17.0\n",
      "    \n",
      "    Returns\n",
      "    -------\n",
      "    x : (N,) or (N, K) ndarray\n",
      "        Least-squares solution.\n",
      "    residues : (K,) ndarray or float\n",
      "        Square of the 2-norm for each column in ``b - a x``, if ``M > N`` and\n",
      "        ``ndim(A) == n`` (returns a scalar if ``b`` is 1-D). Otherwise a\n",
      "        (0,)-shaped array is returned.\n",
      "    rank : int\n",
      "        Effective rank of `a`.\n",
      "    s : (min(M, N),) ndarray or None\n",
      "        Singular values of `a`. The condition number of ``a`` is\n",
      "        ``s[0] / s[-1]``.\n",
      "    \n",
      "    Raises\n",
      "    ------\n",
      "    LinAlgError\n",
      "        If computation does not converge.\n",
      "    \n",
      "    ValueError\n",
      "        When parameters are not compatible.\n",
      "    \n",
      "    See Also\n",
      "    --------\n",
      "    scipy.optimize.nnls : linear least squares with non-negativity constraint\n",
      "    \n",
      "    Notes\n",
      "    -----\n",
      "    When ``'gelsy'`` is used as a driver, `residues` is set to a (0,)-shaped\n",
      "    array and `s` is always ``None``.\n",
      "    \n",
      "    Examples\n",
      "    --------\n",
      "    >>> import numpy as np\n",
      "    >>> from scipy.linalg import lstsq\n",
      "    >>> import matplotlib.pyplot as plt\n",
      "    \n",
      "    Suppose we have the following data:\n",
      "    \n",
      "    >>> x = np.array([1, 2.5, 3.5, 4, 5, 7, 8.5])\n",
      "    >>> y = np.array([0.3, 1.1, 1.5, 2.0, 3.2, 6.6, 8.6])\n",
      "    \n",
      "    We want to fit a quadratic polynomial of the form ``y = a + b*x**2``\n",
      "    to this data.  We first form the \"design matrix\" M, with a constant\n",
      "    column of 1s and a column containing ``x**2``:\n",
      "    \n",
      "    >>> M = x[:, np.newaxis]**[0, 2]\n",
      "    >>> M\n",
      "    array([[  1.  ,   1.  ],\n",
      "           [  1.  ,   6.25],\n",
      "           [  1.  ,  12.25],\n",
      "           [  1.  ,  16.  ],\n",
      "           [  1.  ,  25.  ],\n",
      "           [  1.  ,  49.  ],\n",
      "           [  1.  ,  72.25]])\n",
      "    \n",
      "    We want to find the least-squares solution to ``M.dot(p) = y``,\n",
      "    where ``p`` is a vector with length 2 that holds the parameters\n",
      "    ``a`` and ``b``.\n",
      "    \n",
      "    >>> p, res, rnk, s = lstsq(M, y)\n",
      "    >>> p\n",
      "    array([ 0.20925829,  0.12013861])\n",
      "    \n",
      "    Plot the data and the fitted curve.\n",
      "    \n",
      "    >>> plt.plot(x, y, 'o', label='data')\n",
      "    >>> xx = np.linspace(0, 9, 101)\n",
      "    >>> yy = p[0] + p[1]*xx**2\n",
      "    >>> plt.plot(xx, yy, label='least squares fit, $y = a + bx^2$')\n",
      "    >>> plt.xlabel('x')\n",
      "    >>> plt.ylabel('y')\n",
      "    >>> plt.legend(framealpha=1, shadow=True)\n",
      "    >>> plt.grid(alpha=0.25)\n",
      "    >>> plt.show()\n",
      "\n"
     ]
    }
   ],
   "source": [
    "help(sp.linalg.lstsq)"
   ]
  },
  {
   "cell_type": "code",
   "execution_count": null,
   "id": "2f04aeb0",
   "metadata": {},
   "outputs": [],
   "source": []
  }
 ],
 "metadata": {
  "kernelspec": {
   "display_name": "Python 3 (ipykernel)",
   "language": "python",
   "name": "python3"
  },
  "language_info": {
   "codemirror_mode": {
    "name": "ipython",
    "version": 3
   },
   "file_extension": ".py",
   "mimetype": "text/x-python",
   "name": "python",
   "nbconvert_exporter": "python",
   "pygments_lexer": "ipython3",
   "version": "3.12.3"
  }
 },
 "nbformat": 4,
 "nbformat_minor": 5
}
