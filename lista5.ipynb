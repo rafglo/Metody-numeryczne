{
 "cells": [
  {
   "cell_type": "markdown",
   "metadata": {},
   "source": [
    "### **Lista 5**\n",
    "##### Rafał Głodek\n",
    "***"
   ]
  },
  {
   "cell_type": "code",
   "execution_count": 25,
   "metadata": {},
   "outputs": [],
   "source": [
    "import numpy as np\n",
    "import matplotlib.pyplot as plt\n",
    "import scipy\n",
    "import math\n",
    "from scipy.optimize import fsolve\n",
    "from numpy.linalg import solve"
   ]
  },
  {
   "cell_type": "markdown",
   "metadata": {},
   "source": [
    "Zadanie 1"
   ]
  },
  {
   "cell_type": "code",
   "execution_count": 2,
   "metadata": {},
   "outputs": [],
   "source": [
    "def poly_interpol(x, y):\n",
    "    omega = np.poly1d([1])\n",
    "    n = len(x)\n",
    "    for i in range(n):\n",
    "        omega = np.polymul(omega, np.poly1d([1, -x[i]]))\n",
    "    w = np.poly1d([0])\n",
    "    omega_p = np.polyder(omega, 1)\n",
    "    for i in range(n):\n",
    "        omega_px = omega_p(x[i])\n",
    "        w = np.polyadd(w, y[i] * np.polydiv(omega, np.poly1d([1,-x[i]]) * omega_px)[0])\n",
    "    return w\n",
    "    "
   ]
  },
  {
   "cell_type": "code",
   "execution_count": 3,
   "metadata": {},
   "outputs": [
    {
     "name": "stdout",
     "output_type": "stream",
     "text": [
      "          2\n",
      "0.005389 x - 0.1328 x + 1.255\n"
     ]
    }
   ],
   "source": [
    "print(poly_interpol([0,3,6], [1.255, 0.905, 0.652]))"
   ]
  },
  {
   "cell_type": "markdown",
   "metadata": {},
   "source": [
    "Zadanie 2"
   ]
  },
  {
   "cell_type": "code",
   "execution_count": 4,
   "metadata": {},
   "outputs": [],
   "source": [
    "from scipy.interpolate import CubicSpline"
   ]
  },
  {
   "cell_type": "code",
   "execution_count": 5,
   "metadata": {},
   "outputs": [],
   "source": [
    "spl = CubicSpline([0.2, 2, 20, 200, 2000, 20000], [103, 13.9, 2.72, 0.8, 0.401, 0.433])"
   ]
  },
  {
   "cell_type": "code",
   "execution_count": 6,
   "metadata": {},
   "outputs": [
    {
     "name": "stdout",
     "output_type": "stream",
     "text": [
      "Wartość dla Re = 5:\n",
      "c = -84.02350372537349\n",
      "Wartość dla Re = 50:\n",
      "c = 436.413792186683\n",
      "Wartość dla Re = 5000:\n",
      "c = 54738.99116845934\n"
     ]
    }
   ],
   "source": [
    "Re = [5, 50, 5000]\n",
    "for r in Re:\n",
    "    print(f\"Wartość dla Re = {r}:\\nc = {spl(r)}\")"
   ]
  },
  {
   "cell_type": "markdown",
   "metadata": {},
   "source": [
    "Zadanie 3"
   ]
  },
  {
   "cell_type": "code",
   "execution_count": 7,
   "metadata": {},
   "outputs": [
    {
     "name": "stdout",
     "output_type": "stream",
     "text": [
      "Interpolacja wielomianowa (zad 1)\n",
      "Wartość dla Re = 5:\n",
      "c = -96.10046207185488\n",
      "Wartość dla Re = 50:\n",
      "c = 2581.144117967352\n",
      "Wartość dla Re = 5000:\n",
      "c = 1658455172.0854998\n"
     ]
    }
   ],
   "source": [
    "print(\"Interpolacja wielomianowa (zad 1)\")\n",
    "c_d = poly_interpol([0.2, 2, 20, 200, 2000, 20000], [103, 13.9, 2.72, 0.8, 0.401, 0.433])\n",
    "for r in Re:\n",
    "    print(f\"Wartość dla Re = {r}:\\nc = {c_d(r)}\")"
   ]
  },
  {
   "cell_type": "markdown",
   "metadata": {},
   "source": [
    "Zadanie 4"
   ]
  },
  {
   "cell_type": "markdown",
   "metadata": {},
   "source": [
    "Nakładamy logarytm na funkcję aproksymującą $f$\n",
    "$$\n",
    "g(x) = \\ln(f) = \\ln(ae ^ {bx}) = \\ln(a) + bx = c + bx\n",
    "$$"
   ]
  },
  {
   "cell_type": "markdown",
   "metadata": {},
   "source": [
    "I robimy klasyczną regresję liniową dla funkcji $g$. Wzory:\n",
    "$$\n",
    "b = \\frac{\\sum(X_i - \\overline{X})(Y_i - \\overline{Y})}{\\sum(X_i - \\overline{X})^{2}}\n",
    "$$\n",
    "$$\n",
    "c = \\overline{Y} - b\\overline{X}\n",
    "$$"
   ]
  },
  {
   "cell_type": "code",
   "execution_count": 8,
   "metadata": {},
   "outputs": [],
   "source": [
    "def linear_regression(x,y):\n",
    "    b = np.sum((x-np.mean(x)) * (y - np.mean(y)))/np.sum((x - np.mean(x))**2)\n",
    "    c = np.mean(y) - b * np.mean(x)\n",
    "    return b, c"
   ]
  },
  {
   "cell_type": "code",
   "execution_count": 9,
   "metadata": {},
   "outputs": [],
   "source": [
    "xs = np.array([1.2,2.8,4.3,5.4,6.8,7.9])\n",
    "ys = np.array([7.5,16.1,38.9,67.0,146.6,266.2])\n",
    "ys_log = np.log(ys)"
   ]
  },
  {
   "cell_type": "code",
   "execution_count": 17,
   "metadata": {},
   "outputs": [],
   "source": [
    "b, c = linear_regression(xs, ys_log)\n",
    "a = np.exp(c)\n",
    "f_approx = lambda x: a * np.exp(b * x)"
   ]
  },
  {
   "cell_type": "code",
   "execution_count": 21,
   "metadata": {},
   "outputs": [],
   "source": [
    "x_lin = np.linspace(1,9,1000)\n",
    "y_approx = f_approx(x_lin)"
   ]
  },
  {
   "cell_type": "code",
   "execution_count": 22,
   "metadata": {},
   "outputs": [
    {
     "data": {
      "image/png": "[encoded data removed]",
      "text/plain": [
       "<Figure size 640x480 with 1 Axes>"
      ]
     },
     "metadata": {},
     "output_type": "display_data"
    }
   ],
   "source": [
    "plt.scatter(xs, ys, c=\"r\")\n",
    "plt.plot(x_lin, y_approx)\n",
    "plt.ylim(0,300)\n",
    "plt.xlim(0,9)\n",
    "plt.show()"
   ]
  },
  {
   "cell_type": "code",
   "execution_count": 24,
   "metadata": {},
   "outputs": [
    {
     "name": "stdout",
     "output_type": "stream",
     "text": [
      "Odchylenie standardowe błędów: 1.6397439579596658\n"
     ]
    }
   ],
   "source": [
    "y_approx2 = f_approx(xs)\n",
    "errors = ys - y_approx2\n",
    "print(f\"Odchylenie standardowe błędów: {np.std(errors)}\")"
   ]
  },
  {
   "cell_type": "markdown",
   "metadata": {},
   "source": [
    "Zadanie 5"
   ]
  },
  {
   "cell_type": "code",
   "execution_count": 30,
   "metadata": {},
   "outputs": [],
   "source": [
    "def poly_approximation(m, x, y):\n",
    "    mat = np.zeros((m+1, m+1))\n",
    "    b = np.zeros(m+1)\n",
    "    for i in range(m+1):\n",
    "        for k in range(m+1):\n",
    "            mat[i][k] = np.sum(x ** (i + k))\n",
    "        b[i] = np.sum(y * x ** i)\n",
    "    coeffs = solve(mat, b)\n",
    "    return np.flip(coeffs)"
   ]
  },
  {
   "cell_type": "code",
   "execution_count": 34,
   "metadata": {},
   "outputs": [],
   "source": [
    "x, y = np.array([0,21.1,37.8,54.4, 71.1, 87.8, 100]), np.array([1.79,1.13,0.696,0.519,0.338, 0.321, 0.296])"
   ]
  },
  {
   "cell_type": "code",
   "execution_count": 35,
   "metadata": {},
   "outputs": [],
   "source": [
    "poly_approx = np.poly1d(poly_approximation(3, x, y))\n",
    "poly_approx_build_in = np.poly1d(np.polyfit(x, y, deg=3))"
   ]
  },
  {
   "cell_type": "code",
   "execution_count": null,
   "metadata": {},
   "outputs": [],
   "source": [
    "x2 = [10, 30, 60, 90]"
   ]
  },
  {
   "cell_type": "code",
   "execution_count": 37,
   "metadata": {},
   "outputs": [
    {
     "name": "stdout",
     "output_type": "stream",
     "text": [
      "Wynik aproksymacji własnej dla T = 10: 1.4345071783718424\n",
      "\n",
      "Wynik aproksymacji wbudowanej dla T = 10: 1.4345071783718335\n",
      "\n",
      "Wynik aproksymacji własnej dla T = 30: 0.8889438745121653\n",
      "\n",
      "Wynik aproksymacji wbudowanej dla T = 30: 0.8889438745121383\n",
      "\n",
      "Wynik aproksymacji własnej dla T = 60: 0.4365697400923958\n",
      "\n",
      "Wynik aproksymacji wbudowanej dla T = 60: 0.43656974009240557\n",
      "\n",
      "Wynik aproksymacji własnej dla T = 90: 0.3015529833900419\n",
      "\n",
      "Wynik aproksymacji wbudowanej dla T = 90: 0.30155298339005343\n",
      "\n"
     ]
    }
   ],
   "source": [
    "for x in x2:\n",
    "    print(f\"Wynik aproksymacji własnej dla T = {x}: {poly_approx(x)}\\n\")\n",
    "    print(f\"Wynik aproksymacji wbudowanej dla T = {x}: {poly_approx_build_in(x)}\\n\")"
   ]
  },
  {
   "cell_type": "markdown",
   "metadata": {},
   "source": [
    "Zadanie 6"
   ]
  },
  {
   "cell_type": "code",
   "execution_count": 38,
   "metadata": {},
   "outputs": [],
   "source": [
    "x = np.array([1.0, 2.5, 3.5, 4.0, 1.1, 1.8, 2.2, 3.7])\n",
    "y = np.array([6.008, 15.722, 27.13, 33.772, 5.257, 9.549, 11.098, 28.828])"
   ]
  },
  {
   "cell_type": "code",
   "execution_count": 39,
   "metadata": {},
   "outputs": [],
   "source": [
    "linear_approx = np.poly1d(poly_approximation(1, x, y))\n",
    "quadratic_approx = np.poly1d(poly_approximation(2, x, y))"
   ]
  },
  {
   "cell_type": "code",
   "execution_count": 43,
   "metadata": {},
   "outputs": [],
   "source": [
    "x_lin = np.arange(1, 4.1, 0.1)"
   ]
  },
  {
   "cell_type": "code",
   "execution_count": 44,
   "metadata": {},
   "outputs": [
    {
     "data": {
      "image/png": "[encoded data removed]",
      "text/plain": [
       "<Figure size 640x480 with 1 Axes>"
      ]
     },
     "metadata": {},
     "output_type": "display_data"
    }
   ],
   "source": [
    "plt.scatter(x, y)\n",
    "plt.plot(x_lin, linear_approx(x_lin), label=\"linear\")\n",
    "plt.plot(x_lin, quadratic_approx(x_lin), label=\"quadratic\")\n",
    "plt.legend(loc=\"best\")\n",
    "plt.show()"
   ]
  },
  {
   "cell_type": "code",
   "execution_count": 46,
   "metadata": {},
   "outputs": [
    {
     "data": {
      "image/png": "[encoded data removed]",
      "text/plain": [
       "<Figure size 640x480 with 1 Axes>"
      ]
     },
     "metadata": {},
     "output_type": "display_data"
    }
   ],
   "source": [
    "linear_approx_values = linear_approx(x)\n",
    "quadratic_approx_values = quadratic_approx(x)\n",
    "errors_linear = abs(linear_approx_values - y)\n",
    "errors_quadratic = abs(quadratic_approx_values - y)\n",
    "plt.scatter(x, errors_linear, label=\"linear approximation errors\")\n",
    "plt.scatter(x, errors_quadratic, label=\"quadratic approximation errors\")\n",
    "plt.legend(loc=\"best\")\n",
    "plt.show()"
   ]
  },
  {
   "cell_type": "code",
   "execution_count": 47,
   "metadata": {},
   "outputs": [
    {
     "name": "stdout",
     "output_type": "stream",
     "text": [
      "MSE dla aproksymacji liniowej: 3.7752\n",
      "MSE dla aproksymacji kwadratowej: 0.4130\n"
     ]
    }
   ],
   "source": [
    "mse_linear = np.mean((y - linear_approx_values)**2)\n",
    "mse_quadratic = np.mean((y - quadratic_approx_values)**2)\n",
    "\n",
    "print(f\"MSE dla aproksymacji liniowej: {mse_linear:.4f}\")\n",
    "print(f\"MSE dla aproksymacji kwadratowej: {mse_quadratic:.4f}\")"
   ]
  }
 ],
 "metadata": {
  "kernelspec": {
   "display_name": "Python 3",
   "language": "python",
   "name": "python3"
  },
  "language_info": {
   "codemirror_mode": {
    "name": "ipython",
    "version": 3
   },
   "file_extension": ".py",
   "mimetype": "text/x-python",
   "name": "python",
   "nbconvert_exporter": "python",
   "pygments_lexer": "ipython3",
   "version": "3.8.0"
  }
 },
 "nbformat": 4,
 "nbformat_minor": 2
}
