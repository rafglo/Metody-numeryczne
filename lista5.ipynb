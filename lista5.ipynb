{
 "cells": [
  {
   "cell_type": "markdown",
   "metadata": {},
   "source": [
    "### **Lista 5**\n",
    "##### Rafał Głodek\n",
    "***"
   ]
  },
  {
   "cell_type": "code",
   "execution_count": 1,
   "metadata": {},
   "outputs": [],
   "source": [
    "import numpy as np\n",
    "import matplotlib.pyplot as plt\n",
    "import scipy\n",
    "import math\n",
    "from scipy.optimize import fsolve"
   ]
  },
  {
   "cell_type": "markdown",
   "metadata": {},
   "source": [
    "Zadanie 1"
   ]
  },
  {
   "cell_type": "code",
   "execution_count": 17,
   "metadata": {},
   "outputs": [],
   "source": [
    "def poly_interpol(x, y):\n",
    "    omega = np.poly1d([1])\n",
    "    n = len(x)\n",
    "    for i in range(n):\n",
    "        omega = np.polymul(omega, np.poly1d([1, -x[i]]))\n",
    "    w = np.poly1d([0])\n",
    "    omega_p = np.polyder(omega, 1)\n",
    "    for i in range(n):\n",
    "        omega_px = omega_p(x[i])\n",
    "        w = np.polyadd(w, y[i] * np.polydiv(omega, np.poly1d([1,-x[i]]) * omega_px)[0])\n",
    "    return w\n",
    "    "
   ]
  },
  {
   "cell_type": "code",
   "execution_count": 19,
   "metadata": {},
   "outputs": [
    {
     "name": "stdout",
     "output_type": "stream",
     "text": [
      "          2\n",
      "0.005389 x - 0.1328 x + 1.255\n"
     ]
    }
   ],
   "source": [
    "print(poly_interpol([0,3,6], [1.255, 0.905, 0.652]))"
   ]
  },
  {
   "cell_type": "code",
   "execution_count": null,
   "metadata": {},
   "outputs": [],
   "source": []
  }
 ],
 "metadata": {
  "kernelspec": {
   "display_name": "Python 3",
   "language": "python",
   "name": "python3"
  },
  "language_info": {
   "codemirror_mode": {
    "name": "ipython",
    "version": 3
   },
   "file_extension": ".py",
   "mimetype": "text/x-python",
   "name": "python",
   "nbconvert_exporter": "python",
   "pygments_lexer": "ipython3",
   "version": "3.13.0"
  }
 },
 "nbformat": 4,
 "nbformat_minor": 2
}
