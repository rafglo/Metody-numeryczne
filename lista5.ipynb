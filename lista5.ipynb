{
 "cells": [
  {
   "cell_type": "markdown",
   "metadata": {},
   "source": [
    "### **Lista 5**\n",
    "##### Rafał Głodek\n",
    "***"
   ]
  },
  {
   "cell_type": "code",
   "execution_count": 2,
   "metadata": {},
   "outputs": [],
   "source": [
    "import numpy as np\n",
    "import matplotlib.pyplot as plt\n",
    "import scipy\n",
    "import math\n",
    "from scipy.optimize import fsolve"
   ]
  },
  {
   "cell_type": "markdown",
   "metadata": {},
   "source": [
    "Zadanie 1"
   ]
  },
  {
   "cell_type": "code",
   "execution_count": 8,
   "metadata": {},
   "outputs": [],
   "source": [
    "def poly_interpol(x, y):\n",
    "    omega = np.poly1d([1])\n",
    "    n = len(x)\n",
    "    for i in range(n):\n",
    "        omega = np.polymul(omega, np.poly1d([1, -x[i]]))\n",
    "    w = np.poly1d([0])\n",
    "    omega_p = np.polyder(omega, 1)\n",
    "    for i in range(n):\n",
    "        omega_px = omega_p(x[i])\n",
    "        w = np.polyadd(w, y[i] * np.polydiv(omega, np.poly1d([1,-x[i]]) * omega_px)[0])\n",
    "    return w\n",
    "    "
   ]
  },
  {
   "cell_type": "code",
   "execution_count": 19,
   "metadata": {},
   "outputs": [
    {
     "name": "stdout",
     "output_type": "stream",
     "text": [
      "          2\n",
      "0.005389 x - 0.1328 x + 1.255\n"
     ]
    }
   ],
   "source": [
    "print(poly_interpol([0,3,6], [1.255, 0.905, 0.652]))"
   ]
  },
  {
   "cell_type": "markdown",
   "metadata": {},
   "source": [
    "Zadanie 2"
   ]
  },
  {
   "cell_type": "code",
   "execution_count": 1,
   "metadata": {},
   "outputs": [],
   "source": [
    "from scipy.interpolate import CubicSpline"
   ]
  },
  {
   "cell_type": "code",
   "execution_count": 3,
   "metadata": {},
   "outputs": [],
   "source": [
    "spl = CubicSpline([0.2, 2, 20, 200, 2000, 20000], [103, 13.9, 2.72, 0.8, 0.401, 0.433])"
   ]
  },
  {
   "cell_type": "code",
   "execution_count": null,
   "metadata": {},
   "outputs": [
    {
     "name": "stdout",
     "output_type": "stream",
     "text": [
      "Wartość dla Re = 5:\n",
      "c = -84.02350372537349\n",
      "Wartość dla Re = 50:\n",
      "c = 436.413792186683\n",
      "Wartość dla Re = 5000:\n",
      "c = 54738.99116845934\n"
     ]
    }
   ],
   "source": [
    "Re = [5, 50, 5000]\n",
    "for r in Re:\n",
    "    print(f\"Wartość dla Re = {r}:\\nc = {spl(r)}\")"
   ]
  },
  {
   "cell_type": "markdown",
   "metadata": {},
   "source": [
    "Zadanie 3"
   ]
  },
  {
   "cell_type": "code",
   "execution_count": 9,
   "metadata": {},
   "outputs": [
    {
     "name": "stdout",
     "output_type": "stream",
     "text": [
      "Interpolacja wielomianowa (zad 1)\n",
      "Wartość dla Re = 5:\n",
      "c = -96.10046207185488\n",
      "Wartość dla Re = 50:\n",
      "c = 2581.144117967352\n",
      "Wartość dla Re = 5000:\n",
      "c = 1658455172.0854998\n"
     ]
    }
   ],
   "source": [
    "print(\"Interpolacja wielomianowa (zad 1)\")\n",
    "c_d = poly_interpol([0.2, 2, 20, 200, 2000, 20000], [103, 13.9, 2.72, 0.8, 0.401, 0.433])\n",
    "for r in Re:\n",
    "    print(f\"Wartość dla Re = {r}:\\nc = {c_d(r)}\")"
   ]
  },
  {
   "cell_type": "markdown",
   "metadata": {},
   "source": [
    "Zadanie 4"
   ]
  },
  {
   "cell_type": "markdown",
   "metadata": {},
   "source": [
    "Nakładamy logarytm na funkcję aproksymującą $f$\n",
    "$$\n",
    "g(x) = \\ln(f) = \\ln(ae ^ {bx}) = \\ln(a) + bx = c + bx\n",
    "$$"
   ]
  },
  {
   "cell_type": "markdown",
   "metadata": {},
   "source": [
    "I robimy klasyczną regresję liniową dla funkcji $g$. Wzory:\n",
    "$$\n",
    "b = \\frac{\\sum(X_i - \\overline{X})(Y_i - \\overline{Y})}{\\sum(X_i - \\overline{X})^{2}}\n",
    "$$\n",
    "$$\n",
    "c = \\overline{Y} - b\\overline{X}\n",
    "$$"
   ]
  },
  {
   "cell_type": "code",
   "execution_count": 3,
   "metadata": {},
   "outputs": [],
   "source": [
    "def linear_regression(x,y):\n",
    "    b = np.sum((x-np.mean(x)) * (y - np.mean(y)))/np.sum((x - np.mean(x))**2)\n",
    "    c = np.mean(y) - b * np.mean(x)\n",
    "    return b, c"
   ]
  },
  {
   "cell_type": "code",
   "execution_count": 5,
   "metadata": {},
   "outputs": [],
   "source": [
    "xs = np.array([1.2,2.8,4.3,5.4,6.8,7.9])\n",
    "ys = np.array([7.5,16.1,38.9,67.0,146.6,266.2])\n",
    "ys_log = np.log(ys)"
   ]
  },
  {
   "cell_type": "code",
   "execution_count": 8,
   "metadata": {},
   "outputs": [],
   "source": [
    "b, c = linear_regression(xs, ys)\n",
    "a = np.exp(c)\n",
    "f_aprox = lambda x: a * np.exp(b * x)"
   ]
  },
  {
   "cell_type": "code",
   "execution_count": 19,
   "metadata": {},
   "outputs": [
    {
     "data": {
      "image/png": "[encoded data removed]",
      "text/plain": [
       "<Figure size 640x480 with 1 Axes>"
      ]
     },
     "metadata": {},
     "output_type": "display_data"
    }
   ],
   "source": [
    "x_lin = np.linspace(1,9,1000)\n",
    "plt.scatter(xs, ys, c=\"r\")\n",
    "plt.plot(x_lin, f_aprox(x_lin))\n",
    "plt.ylim(0,300)\n",
    "plt.xlim(0,9)\n",
    "plt.show()"
   ]
  },
  {
   "cell_type": "code",
   "execution_count": null,
   "metadata": {},
   "outputs": [],
   "source": []
  }
 ],
 "metadata": {
  "kernelspec": {
   "display_name": "Python 3",
   "language": "python",
   "name": "python3"
  },
  "language_info": {
   "codemirror_mode": {
    "name": "ipython",
    "version": 3
   },
   "file_extension": ".py",
   "mimetype": "text/x-python",
   "name": "python",
   "nbconvert_exporter": "python",
   "pygments_lexer": "ipython3",
   "version": "3.13.0"
  }
 },
 "nbformat": 4,
 "nbformat_minor": 2
}
