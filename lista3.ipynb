{
 "cells": [
  {
   "cell_type": "markdown",
   "metadata": {},
   "source": [
    "Lista 3"
   ]
  },
  {
   "cell_type": "code",
   "execution_count": 1,
   "metadata": {},
   "outputs": [],
   "source": [
    "import numpy as np\n",
    "from scipy.linalg import solve"
   ]
  },
  {
   "cell_type": "code",
   "execution_count": 187,
   "metadata": {},
   "outputs": [],
   "source": [
    "A = np.array([\n",
    "    [1, 1/2, 1/3, 1/4, 1/5],\n",
    "    [1/2, 1/3, 1/4, 1/5, 1/6],\n",
    "    [1/3, 1/4, 1/5, 1/6, 1/7],\n",
    "    [1/4, 1/5, 1/6, 1/7, 1/8],\n",
    "    [1/5, 1/6, 1/7, 1/8, 1/9]\n",
    "])\n",
    "\n",
    "b = np.array([5,4,3,2,1])\n",
    "\n",
    "augmented_matrix = np.column_stack((A, b))"
   ]
  },
  {
   "cell_type": "code",
   "execution_count": 188,
   "metadata": {},
   "outputs": [],
   "source": [
    "def lu(mat):\n",
    "    mat = mat.astype(float)\n",
    "    n = len(mat)\n",
    "    L, U = np.zeros((n,n)), np.zeros((n,n))\n",
    "\n",
    "    for i in range(n):\n",
    "        for k in range(i, n):\n",
    "            sum_ = 0\n",
    "            for j in range(i):\n",
    "                sum_ += (L[i][j] * U[j][k])\n",
    "            U[i][k] = mat[i][k] - sum_\n",
    "\n",
    "        for k in range(i, n):\n",
    "            if (i == k):\n",
    "                L[i][i] = 1 \n",
    "            else:\n",
    "                sum_ = 0\n",
    "                for j in range(i):\n",
    "                    sum_ += (L[k][j] * U[j][i])\n",
    "                L[k][i] = (mat[k][i] - sum_) / U[i][i]\n",
    "    return L, U\n"
   ]
  },
  {
   "cell_type": "code",
   "execution_count": 189,
   "metadata": {},
   "outputs": [],
   "source": [
    "L,U = lu(A)"
   ]
  },
  {
   "cell_type": "code",
   "execution_count": 190,
   "metadata": {},
   "outputs": [],
   "source": [
    "y = solve(L, b).astype(float)"
   ]
  },
  {
   "cell_type": "code",
   "execution_count": 191,
   "metadata": {},
   "outputs": [],
   "source": [
    "x = solve(U, y).astype(float)"
   ]
  },
  {
   "cell_type": "code",
   "execution_count": 192,
   "metadata": {},
   "outputs": [
    {
     "name": "stdout",
     "output_type": "stream",
     "text": [
      "[   -95.           2159.99999999 -10709.99999998  17919.99999997\n",
      "  -9449.99999999]\n"
     ]
    }
   ],
   "source": [
    "print(x)"
   ]
  },
  {
   "cell_type": "code",
   "execution_count": 193,
   "metadata": {},
   "outputs": [],
   "source": [
    "Ax = np.dot(A, x).astype(float)"
   ]
  },
  {
   "cell_type": "code",
   "execution_count": 194,
   "metadata": {},
   "outputs": [],
   "source": [
    "r = b.astype(float) - Ax.astype(float)"
   ]
  },
  {
   "cell_type": "code",
   "execution_count": 195,
   "metadata": {},
   "outputs": [
    {
     "name": "stdout",
     "output_type": "stream",
     "text": [
      "[ 1.42108547e-14 -3.90798505e-13 -3.34843264e-13  4.54747351e-13\n",
      "  1.94400052e-13]\n"
     ]
    }
   ],
   "source": [
    "print(r)"
   ]
  },
  {
   "cell_type": "code",
   "execution_count": 196,
   "metadata": {},
   "outputs": [],
   "source": [
    "norma_r = np.linalg.norm(r,np.inf).astype(float)\n",
    "norma_Ax = np.linalg.norm(Ax, np.inf).astype(float)"
   ]
  },
  {
   "cell_type": "code",
   "execution_count": 197,
   "metadata": {},
   "outputs": [
    {
     "name": "stdout",
     "output_type": "stream",
     "text": [
      "4.547473508864641e-13 4.999999999999986\n"
     ]
    }
   ],
   "source": [
    "print(norma_r, norma_Ax)"
   ]
  },
  {
   "cell_type": "code",
   "execution_count": 198,
   "metadata": {},
   "outputs": [],
   "source": [
    "def dokladnosc_maszynowa(x_0):\n",
    "    x = x_0\n",
    "    while x + 1 != 1:\n",
    "        x /= 2\n",
    "    return x"
   ]
  },
  {
   "cell_type": "code",
   "execution_count": 199,
   "metadata": {},
   "outputs": [],
   "source": [
    "u = dokladnosc_maszynowa(1) * 10**2"
   ]
  },
  {
   "cell_type": "code",
   "execution_count": 200,
   "metadata": {},
   "outputs": [
    {
     "name": "stdout",
     "output_type": "stream",
     "text": [
      "1.1102230246251565e-14\n"
     ]
    }
   ],
   "source": [
    "print(u)"
   ]
  },
  {
   "cell_type": "code",
   "execution_count": 201,
   "metadata": {},
   "outputs": [],
   "source": [
    "delta_x = solve(A, r)"
   ]
  },
  {
   "cell_type": "code",
   "execution_count": 274,
   "metadata": {},
   "outputs": [],
   "source": [
    "def iteracyjne_poprawianie_rozwiazan(A, b):\n",
    "    L,U = lu(A)#rozkład LU\n",
    "    y = solve(L, b)#rozwiązujemy za pomocą LU\n",
    "    x = [1,1,1,1,1]\n",
    "    x_0 = x\n",
    "    Ax = np.dot(A, x)\n",
    "    r = (b.astype(np.float64) - Ax.astype(np.float64))#reszty\n",
    "    u = dokladnosc_maszynowa(1) * 10**(-10)\n",
    "    while np.linalg.norm(r,np.inf) > np.linalg.norm(Ax, np.inf) * u:\n",
    "        delta_x = solve(A, r)\n",
    "        x += (delta_x * x)\n",
    "        r = b.astype(np.float64) - np.dot(A, x).astype(np.float64)\n",
    "    return x, x_0"
   ]
  },
  {
   "cell_type": "code",
   "execution_count": 275,
   "metadata": {},
   "outputs": [
    {
     "name": "stderr",
     "output_type": "stream",
     "text": [
      "C:\\Users\\rafal\\AppData\\Local\\Temp\\ipykernel_36612\\2916120735.py:11: RuntimeWarning: overflow encountered in multiply\n",
      "  x += (delta_x * x)\n"
     ]
    },
    {
     "ename": "ValueError",
     "evalue": "array must not contain infs or NaNs",
     "output_type": "error",
     "traceback": [
      "\u001b[1;31m---------------------------------------------------------------------------\u001b[0m",
      "\u001b[1;31mValueError\u001b[0m                                Traceback (most recent call last)",
      "Cell \u001b[1;32mIn[275], line 1\u001b[0m\n\u001b[1;32m----> 1\u001b[0m \u001b[38;5;28mprint\u001b[39m(\u001b[43miteracyjne_poprawianie_rozwiazan\u001b[49m\u001b[43m(\u001b[49m\u001b[43mA\u001b[49m\u001b[43m,\u001b[49m\u001b[43m \u001b[49m\u001b[43mb\u001b[49m\u001b[43m)\u001b[49m)\n",
      "Cell \u001b[1;32mIn[274], line 10\u001b[0m, in \u001b[0;36miteracyjne_poprawianie_rozwiazan\u001b[1;34m(A, b)\u001b[0m\n\u001b[0;32m      8\u001b[0m u \u001b[38;5;241m=\u001b[39m dokladnosc_maszynowa(\u001b[38;5;241m1\u001b[39m) \u001b[38;5;241m*\u001b[39m \u001b[38;5;241m10\u001b[39m\u001b[38;5;241m*\u001b[39m\u001b[38;5;241m*\u001b[39m(\u001b[38;5;241m-\u001b[39m\u001b[38;5;241m10\u001b[39m)\n\u001b[0;32m      9\u001b[0m \u001b[38;5;28;01mwhile\u001b[39;00m np\u001b[38;5;241m.\u001b[39mlinalg\u001b[38;5;241m.\u001b[39mnorm(r,np\u001b[38;5;241m.\u001b[39minf) \u001b[38;5;241m>\u001b[39m np\u001b[38;5;241m.\u001b[39mlinalg\u001b[38;5;241m.\u001b[39mnorm(Ax, np\u001b[38;5;241m.\u001b[39minf) \u001b[38;5;241m*\u001b[39m u:\n\u001b[1;32m---> 10\u001b[0m     delta_x \u001b[38;5;241m=\u001b[39m \u001b[43msolve\u001b[49m\u001b[43m(\u001b[49m\u001b[43mA\u001b[49m\u001b[43m,\u001b[49m\u001b[43m \u001b[49m\u001b[43mr\u001b[49m\u001b[43m)\u001b[49m\n\u001b[0;32m     11\u001b[0m     x \u001b[38;5;241m+\u001b[39m\u001b[38;5;241m=\u001b[39m (delta_x \u001b[38;5;241m*\u001b[39m x)\n\u001b[0;32m     12\u001b[0m     r \u001b[38;5;241m=\u001b[39m b\u001b[38;5;241m.\u001b[39mastype(np\u001b[38;5;241m.\u001b[39mfloat64) \u001b[38;5;241m-\u001b[39m np\u001b[38;5;241m.\u001b[39mdot(A, x)\u001b[38;5;241m.\u001b[39mastype(np\u001b[38;5;241m.\u001b[39mfloat64)\n",
      "File \u001b[1;32mc:\\Users\\rafal\\AppData\\Local\\Programs\\Python\\Python313\\Lib\\site-packages\\scipy\\linalg\\_basic.py:148\u001b[0m, in \u001b[0;36msolve\u001b[1;34m(a, b, lower, overwrite_a, overwrite_b, check_finite, assume_a, transposed)\u001b[0m\n\u001b[0;32m    145\u001b[0m b_is_1D \u001b[38;5;241m=\u001b[39m \u001b[38;5;28;01mFalse\u001b[39;00m\n\u001b[0;32m    147\u001b[0m a1 \u001b[38;5;241m=\u001b[39m atleast_2d(_asarray_validated(a, check_finite\u001b[38;5;241m=\u001b[39mcheck_finite))\n\u001b[1;32m--> 148\u001b[0m b1 \u001b[38;5;241m=\u001b[39m atleast_1d(\u001b[43m_asarray_validated\u001b[49m\u001b[43m(\u001b[49m\u001b[43mb\u001b[49m\u001b[43m,\u001b[49m\u001b[43m \u001b[49m\u001b[43mcheck_finite\u001b[49m\u001b[38;5;241;43m=\u001b[39;49m\u001b[43mcheck_finite\u001b[49m\u001b[43m)\u001b[49m)\n\u001b[0;32m    149\u001b[0m n \u001b[38;5;241m=\u001b[39m a1\u001b[38;5;241m.\u001b[39mshape[\u001b[38;5;241m0\u001b[39m]\n\u001b[0;32m    151\u001b[0m overwrite_a \u001b[38;5;241m=\u001b[39m overwrite_a \u001b[38;5;129;01mor\u001b[39;00m _datacopied(a1, a)\n",
      "File \u001b[1;32mc:\\Users\\rafal\\AppData\\Local\\Programs\\Python\\Python313\\Lib\\site-packages\\scipy\\_lib\\_util.py:321\u001b[0m, in \u001b[0;36m_asarray_validated\u001b[1;34m(a, check_finite, sparse_ok, objects_ok, mask_ok, as_inexact)\u001b[0m\n\u001b[0;32m    319\u001b[0m         \u001b[38;5;28;01mraise\u001b[39;00m \u001b[38;5;167;01mValueError\u001b[39;00m(\u001b[38;5;124m'\u001b[39m\u001b[38;5;124mmasked arrays are not supported\u001b[39m\u001b[38;5;124m'\u001b[39m)\n\u001b[0;32m    320\u001b[0m toarray \u001b[38;5;241m=\u001b[39m np\u001b[38;5;241m.\u001b[39masarray_chkfinite \u001b[38;5;28;01mif\u001b[39;00m check_finite \u001b[38;5;28;01melse\u001b[39;00m np\u001b[38;5;241m.\u001b[39masarray\n\u001b[1;32m--> 321\u001b[0m a \u001b[38;5;241m=\u001b[39m \u001b[43mtoarray\u001b[49m\u001b[43m(\u001b[49m\u001b[43ma\u001b[49m\u001b[43m)\u001b[49m\n\u001b[0;32m    322\u001b[0m \u001b[38;5;28;01mif\u001b[39;00m \u001b[38;5;129;01mnot\u001b[39;00m objects_ok:\n\u001b[0;32m    323\u001b[0m     \u001b[38;5;28;01mif\u001b[39;00m a\u001b[38;5;241m.\u001b[39mdtype \u001b[38;5;129;01mis\u001b[39;00m np\u001b[38;5;241m.\u001b[39mdtype(\u001b[38;5;124m'\u001b[39m\u001b[38;5;124mO\u001b[39m\u001b[38;5;124m'\u001b[39m):\n",
      "File \u001b[1;32mc:\\Users\\rafal\\AppData\\Local\\Programs\\Python\\Python313\\Lib\\site-packages\\numpy\\lib\\_function_base_impl.py:656\u001b[0m, in \u001b[0;36masarray_chkfinite\u001b[1;34m(a, dtype, order)\u001b[0m\n\u001b[0;32m    654\u001b[0m a \u001b[38;5;241m=\u001b[39m asarray(a, dtype\u001b[38;5;241m=\u001b[39mdtype, order\u001b[38;5;241m=\u001b[39morder)\n\u001b[0;32m    655\u001b[0m \u001b[38;5;28;01mif\u001b[39;00m a\u001b[38;5;241m.\u001b[39mdtype\u001b[38;5;241m.\u001b[39mchar \u001b[38;5;129;01min\u001b[39;00m typecodes[\u001b[38;5;124m'\u001b[39m\u001b[38;5;124mAllFloat\u001b[39m\u001b[38;5;124m'\u001b[39m] \u001b[38;5;129;01mand\u001b[39;00m \u001b[38;5;129;01mnot\u001b[39;00m np\u001b[38;5;241m.\u001b[39misfinite(a)\u001b[38;5;241m.\u001b[39mall():\n\u001b[1;32m--> 656\u001b[0m     \u001b[38;5;28;01mraise\u001b[39;00m \u001b[38;5;167;01mValueError\u001b[39;00m(\n\u001b[0;32m    657\u001b[0m         \u001b[38;5;124m\"\u001b[39m\u001b[38;5;124marray must not contain infs or NaNs\u001b[39m\u001b[38;5;124m\"\u001b[39m)\n\u001b[0;32m    658\u001b[0m \u001b[38;5;28;01mreturn\u001b[39;00m a\n",
      "\u001b[1;31mValueError\u001b[0m: array must not contain infs or NaNs"
     ]
    }
   ],
   "source": [
    "print(iteracyjne_poprawianie_rozwiazan(A, b))"
   ]
  },
  {
   "cell_type": "code",
   "execution_count": 182,
   "metadata": {},
   "outputs": [
    {
     "name": "stdout",
     "output_type": "stream",
     "text": [
      "Refined solution: [   -95.14292   2162.6323  -10721.137    17936.541    -9457.98   ]\n"
     ]
    }
   ],
   "source": [
    "import numpy as np\n",
    "from scipy.linalg import lu, solve\n",
    "\n",
    "def iteracyjne_poprawianie_rozwiazan(A, b):\n",
    "    # Work with single precision for the initial matrix and vector\n",
    "    A = A.astype(np.float32)\n",
    "    b = b.astype(np.float32)\n",
    "    \n",
    "    # Perform LU decomposition in double precision\n",
    "    A_double = A.astype(np.float64)\n",
    "    L, U = lu(A_double, permute_l=True)  # LU in double precision\n",
    "    \n",
    "    # Initial solution in single precision\n",
    "    y = solve(L, b.astype(np.float64))\n",
    "    x = solve(U, y).astype(np.float32)\n",
    "    \n",
    "    # Machine epsilon for single precision\n",
    "    u = np.finfo(np.float32).eps\n",
    "\n",
    "    # Iterative refinement\n",
    "    while True:\n",
    "        # Compute the residual in double precision\n",
    "        r = (b - A @ x).astype(np.float64)\n",
    "        \n",
    "        # Check if the residual is within the tolerance\n",
    "        if np.linalg.norm(r, np.inf) <= np.linalg.norm(A, np.inf) * u:\n",
    "            break\n",
    "        \n",
    "        # Solve for correction term in double precision\n",
    "        delta_x = solve(A_double, r).astype(np.float32)\n",
    "        \n",
    "        # Update x in single precision\n",
    "        x += delta_x\n",
    "    \n",
    "    return x\n",
    "\n",
    "# Define the Hilbert matrix and vector b in single precision\n",
    "A = np.array([\n",
    "    [1, 1/2, 1/3, 1/4, 1/5],\n",
    "    [1/2, 1/3, 1/4, 1/5, 1/6],\n",
    "    [1/3, 1/4, 1/5, 1/6, 1/7],\n",
    "    [1/4, 1/5, 1/6, 1/7, 1/8],\n",
    "    [1/5, 1/6, 1/7, 1/8, 1/9]\n",
    "], dtype=np.float32)\n",
    "\n",
    "b = np.array([5, 4, 3, 2, 1], dtype=np.float32)\n",
    "\n",
    "# Call the iterative refinement function\n",
    "solution = iteracyjne_poprawianie_rozwiazan(A, b)\n",
    "print(\"Refined solution:\", solution)\n"
   ]
  },
  {
   "cell_type": "code",
   "execution_count": null,
   "metadata": {},
   "outputs": [],
   "source": []
  }
 ],
 "metadata": {
  "kernelspec": {
   "display_name": "Python 3",
   "language": "python",
   "name": "python3"
  },
  "language_info": {
   "codemirror_mode": {
    "name": "ipython",
    "version": 3
   },
   "file_extension": ".py",
   "mimetype": "text/x-python",
   "name": "python",
   "nbconvert_exporter": "python",
   "pygments_lexer": "ipython3",
   "version": "3.13.0"
  }
 },
 "nbformat": 4,
 "nbformat_minor": 2
}
