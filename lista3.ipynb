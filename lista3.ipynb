{
 "cells": [
  {
   "cell_type": "markdown",
   "metadata": {},
   "source": [
    "Lista 3"
   ]
  },
  {
   "cell_type": "code",
   "execution_count": 4,
   "metadata": {},
   "outputs": [],
   "source": [
    "import numpy as np\n",
    "from scipy.linalg import solve"
   ]
  },
  {
   "cell_type": "code",
   "execution_count": 36,
   "metadata": {},
   "outputs": [],
   "source": [
    "def Lu(mat):\n",
    "    mat = mat.astype(float)\n",
    "    n = len(mat)\n",
    "    L, U = np.zeros((n,n)), np.zeros((n,n))\n",
    "\n",
    "    for i in range(n):\n",
    "        for k in range(i, n):\n",
    "            sum_ = 0\n",
    "            for j in range(i):\n",
    "                sum_ += (L[i][j] * U[j][k])\n",
    "            U[i][k] = mat[i][k] - sum_\n",
    "\n",
    "        for k in range(i, n):\n",
    "            if (i == k):\n",
    "                L[i][i] = 1 \n",
    "            else:\n",
    "                sum_ = 0\n",
    "                for j in range(i):\n",
    "                    sum_ += (L[k][j] * U[j][i])\n",
    "                L[k][i] = (mat[k][i] - sum_) / U[i][i]\n",
    "    return L, U\n"
   ]
  },
  {
   "cell_type": "code",
   "execution_count": 37,
   "metadata": {},
   "outputs": [],
   "source": [
    "def dokladnosc_maszynowa(x_0):\n",
    "    x = x_0\n",
    "    while x + 1 != 1:\n",
    "        x /= 2\n",
    "    return x"
   ]
  },
  {
   "cell_type": "code",
   "execution_count": 38,
   "metadata": {},
   "outputs": [],
   "source": [
    "A = np.array([\n",
    "    [1, 1/2, 1/3, 1/4, 1/5],\n",
    "    [1/2, 1/3, 1/4, 1/5, 1/6],\n",
    "    [1/3, 1/4, 1/5, 1/6, 1/7],\n",
    "    [1/4, 1/5, 1/6, 1/7, 1/8],\n",
    "    [1/5, 1/6, 1/7, 1/8, 1/9]\n",
    "])\n",
    "\n",
    "b = np.array([5,4,3,2,1])\n",
    "\n",
    "augmented_matrix = np.column_stack((A, b))"
   ]
  },
  {
   "cell_type": "code",
   "execution_count": 39,
   "metadata": {},
   "outputs": [],
   "source": [
    "def iteracyjne_poprawianie_rozwiazan(A, b):\n",
    "    L,U = Lu(A)#rozkład LU\n",
    "    y = solve(L, b)#rozwiązujemy za pomocą LU\n",
    "    x =  [1,1,1,1,1]\n",
    "    x_0 = x\n",
    "    Ax = np.dot(A, x)\n",
    "    r = (b.astype(np.float64) - Ax.astype(np.float64))#reszty\n",
    "    u = np.finfo(np.float64).eps * 10**2\n",
    "    while np.linalg.norm(r,np.inf) > np.linalg.norm(np.dot(A,x), np.inf) * u:\n",
    "        delta_x = solve(A, r)\n",
    "        x += delta_x\n",
    "        r = b.astype(np.float64) - np.dot(A, x).astype(np.float64)\n",
    "    return x, x_0"
   ]
  },
  {
   "cell_type": "code",
   "execution_count": 40,
   "metadata": {},
   "outputs": [
    {
     "name": "stdout",
     "output_type": "stream",
     "text": [
      "(array([   -95.        ,   2160.00000001, -10710.00000003,  17920.00000004,\n",
      "        -9450.00000002]), [1, 1, 1, 1, 1])\n"
     ]
    }
   ],
   "source": [
    "print(iteracyjne_poprawianie_rozwiazan(A, b))"
   ]
  },
  {
   "cell_type": "code",
   "execution_count": 41,
   "metadata": {},
   "outputs": [],
   "source": [
    "from scipy.linalg import lu, solve\n",
    "\n",
    "def iterative_refinement(A, b):\n",
    "    P, L, U = lu(A)\n",
    "    y = solve(L, np.dot(P, b))  \n",
    "    x = solve(U, y)              \n",
    "    x_0 = x.copy()            \n",
    "\n",
    "    r = b - np.dot(A, x)\n",
    "    u = np.finfo(np.float64).eps * 10**2\n",
    "    \n",
    "    while np.linalg.norm(r, np.inf) > np.linalg.norm(np.dot(A, x), np.inf) * u:\n",
    "        delta_x = solve(A, r)\n",
    "        x += delta_x \n",
    "        r = b - np.dot(A, x)\n",
    "        \n",
    "    return x, x_0\n"
   ]
  },
  {
   "cell_type": "code",
   "execution_count": 49,
   "metadata": {},
   "outputs": [
    {
     "name": "stdout",
     "output_type": "stream",
     "text": [
      "Metoda 1: \n",
      "Rozwiązanie początkowe: [1, 1, 1, 1, 1]\n",
      "Rozwiązanie końcowe: [   -95.           2160.00000001 -10710.00000003  17920.00000004\n",
      "  -9450.00000002]\n"
     ]
    }
   ],
   "source": [
    "x_nowe, x_stare = iteracyjne_poprawianie_rozwiazan(A,b)\n",
    "print(f\"Metoda 1: \\nRozwiązanie początkowe: {x_stare}\\nRozwiązanie końcowe: {x_nowe}\")"
   ]
  },
  {
   "cell_type": "code",
   "execution_count": 50,
   "metadata": {},
   "outputs": [
    {
     "name": "stdout",
     "output_type": "stream",
     "text": [
      "Metoda 2: \n",
      "Rozwiązanie początkowe: [   -95.           2160.00000002 -10710.00000008  17920.00000012\n",
      "  -9450.00000006]\n",
      "Rozwiązanie końcowe: [   -95.           2160.         -10710.00000001  17920.00000002\n",
      "  -9450.00000001]\n"
     ]
    }
   ],
   "source": [
    "x_nowe2, x_stare2 = iterative_refinement(A,b)\n",
    "print(f\"Metoda 2: \\nRozwiązanie początkowe: {x_stare2}\\nRozwiązanie końcowe: {x_nowe2}\")"
   ]
  },
  {
   "cell_type": "markdown",
   "metadata": {},
   "source": [
    "Zadanie 2"
   ]
  },
  {
   "cell_type": "code",
   "execution_count": 17,
   "metadata": {},
   "outputs": [],
   "source": [
    "def generate_matrix_A(n):\n",
    "    mat = np.zeros((n,n))\n",
    "    for i in range(n):\n",
    "        mat[i][i] = 4\n",
    "        if i - 1 >= 0:\n",
    "            mat[i][i-1] = -1\n",
    "        if i + 1 < n:\n",
    "            mat[i][i+1] = -1\n",
    "        mat[0][-1] = 1\n",
    "        mat[-1][0] = 1\n",
    "    return mat\n",
    "                     "
   ]
  },
  {
   "cell_type": "code",
   "execution_count": 18,
   "metadata": {},
   "outputs": [],
   "source": [
    "def generate_matrix_b(n):\n",
    "    b = np.zeros(n)\n",
    "    b[-1] = 100\n",
    "    return b"
   ]
  },
  {
   "cell_type": "code",
   "execution_count": 6,
   "metadata": {},
   "outputs": [],
   "source": [
    "def ldu(mat):\n",
    "    n = len(mat)\n",
    "    l, d, u = mat.copy(), mat.copy(), mat.copy()\n",
    "    for i in range(n):\n",
    "        for j in range(n):\n",
    "            if j > i:\n",
    "                l[i][j] = 0\n",
    "                d[i][j] = 0\n",
    "            if j == i:\n",
    "                l[i][j] = 0\n",
    "                u[i][j] = 0\n",
    "            if i > j:\n",
    "                u[i][j] = 0\n",
    "                d[i][j] = 0\n",
    "    return l, d, u "
   ]
  },
  {
   "cell_type": "code",
   "execution_count": 19,
   "metadata": {},
   "outputs": [],
   "source": [
    "A,b = generate_matrix_A(5), generate_matrix_b(5)"
   ]
  },
  {
   "cell_type": "code",
   "execution_count": 31,
   "metadata": {},
   "outputs": [],
   "source": [
    "def gauss_siedel(A, b, error):\n",
    "    L, D, U = ldu(A)\n",
    "    n = len(A)\n",
    "    N = np.linalg.inv(D + L)\n",
    "    M = np.dot(-N, U)\n",
    "    x_0 = np.zeros(n)\n",
    "    x = np.dot(M, x_0) + np.dot(N, b)\n",
    "    while np.linalg.norm(x-x_0, np.inf) > error:\n",
    "        x_0 = x\n",
    "        x = np.dot(M, x_0) + np.dot(N, b)\n",
    "    if_converges = max(np.linalg.eig(M)[0]) < 1\n",
    "    return x, if_converges\n",
    "\n"
   ]
  },
  {
   "cell_type": "code",
   "execution_count": 33,
   "metadata": {},
   "outputs": [],
   "source": [
    "error = 10**(-4)"
   ]
  },
  {
   "cell_type": "code",
   "execution_count": 34,
   "metadata": {},
   "outputs": [
    {
     "name": "stdout",
     "output_type": "stream",
     "text": [
      "Rozwiązanie dla błędu 0.0001: x = [-7.57576481 -1.51513633  1.51517289  7.57577322 28.78788451]\n",
      "Zbieżność rozwiązania: True\n"
     ]
    }
   ],
   "source": [
    "result, convergence = gauss_siedel(A, b, error)\n",
    "print(f\"Rozwiązanie dla błędu {error}: x = {result}\")\n",
    "print(f\"Zbieżność rozwiązania: {convergence}\")"
   ]
  },
  {
   "cell_type": "code",
   "execution_count": null,
   "metadata": {},
   "outputs": [],
   "source": []
  }
 ],
 "metadata": {
  "kernelspec": {
   "display_name": "Python 3",
   "language": "python",
   "name": "python3"
  },
  "language_info": {
   "codemirror_mode": {
    "name": "ipython",
    "version": 3
   },
   "file_extension": ".py",
   "mimetype": "text/x-python",
   "name": "python",
   "nbconvert_exporter": "python",
   "pygments_lexer": "ipython3",
   "version": "3.13.0"
  }
 },
 "nbformat": 4,
 "nbformat_minor": 2
}
