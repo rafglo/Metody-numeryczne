{
 "cells": [
  {
   "cell_type": "markdown",
   "metadata": {},
   "source": [
    "Lista 3"
   ]
  },
  {
   "cell_type": "code",
   "execution_count": 146,
   "metadata": {},
   "outputs": [],
   "source": [
    "import numpy as np\n",
    "from scipy.linalg import solve"
   ]
  },
  {
   "cell_type": "code",
   "execution_count": 164,
   "metadata": {},
   "outputs": [],
   "source": [
    "A = np.array([\n",
    "    [1, 1/2, 1/3, 1/4, 1/5],\n",
    "    [1/2, 1/3, 1/4, 1/5, 1/6],\n",
    "    [1/3, 1/4, 1/5, 1/6, 1/7],\n",
    "    [1/4, 1/5, 1/6, 1/7, 1/8],\n",
    "    [1/5, 1/6, 1/7, 1/8, 1/9]\n",
    "])\n",
    "\n",
    "b = np.array([5,4,3,2,1])\n",
    "\n",
    "augmented_matrix = np.column_stack((A, b))"
   ]
  },
  {
   "cell_type": "code",
   "execution_count": 173,
   "metadata": {},
   "outputs": [],
   "source": [
    "def lu(mat):\n",
    "    n = len(mat)\n",
    "    L, U = np.zeros((n,n)), np.zeros((n,n))\n",
    "\n",
    "    for i in range(n):\n",
    "        for k in range(i, n):\n",
    "            sum_ = 0\n",
    "            for j in range(i):\n",
    "                sum_ += (L[i][j] * U[j][k])\n",
    "            U[i][k] = mat[i][k] - sum_\n",
    "\n",
    "        for k in range(i, n):\n",
    "            if (i == k):\n",
    "                L[i][i] = 1 \n",
    "            else:\n",
    "                sum_ = 0\n",
    "                for j in range(i):\n",
    "                    sum_ += (L[k][j] * U[j][i])\n",
    "                L[k][i] = (mat[k][i] - sum_) / U[i][i]\n",
    "    return L, U\n"
   ]
  },
  {
   "cell_type": "code",
   "execution_count": 174,
   "metadata": {},
   "outputs": [],
   "source": [
    "L,U = lu(A)"
   ]
  },
  {
   "cell_type": "code",
   "execution_count": 186,
   "metadata": {},
   "outputs": [
    {
     "name": "stdout",
     "output_type": "stream",
     "text": [
      "[[1.         0.         0.         0.         0.        ]\n",
      " [0.5        1.         0.         0.         0.        ]\n",
      " [0.33333333 1.         1.         0.         0.        ]\n",
      " [0.25       0.9        1.5        1.         0.        ]\n",
      " [0.2        0.8        1.71428571 2.         1.        ]] [[1.00000000e+00 5.00000000e-01 3.33333333e-01 2.50000000e-01\n",
      "  2.00000000e-01]\n",
      " [0.00000000e+00 8.33333333e-02 8.33333333e-02 7.50000000e-02\n",
      "  6.66666667e-02]\n",
      " [0.00000000e+00 0.00000000e+00 5.55555556e-03 8.33333333e-03\n",
      "  9.52380952e-03]\n",
      " [0.00000000e+00 0.00000000e+00 0.00000000e+00 3.57142857e-04\n",
      "  7.14285714e-04]\n",
      " [0.00000000e+00 0.00000000e+00 0.00000000e+00 0.00000000e+00\n",
      "  2.26757370e-05]]\n"
     ]
    }
   ],
   "source": [
    "print(L,U)"
   ]
  },
  {
   "cell_type": "code",
   "execution_count": 187,
   "metadata": {},
   "outputs": [],
   "source": [
    "y = solve(L, b)"
   ]
  },
  {
   "cell_type": "code",
   "execution_count": 188,
   "metadata": {},
   "outputs": [],
   "source": [
    "x = solve(U, y)"
   ]
  },
  {
   "cell_type": "code",
   "execution_count": 202,
   "metadata": {},
   "outputs": [
    {
     "name": "stdout",
     "output_type": "stream",
     "text": [
      "[   -95.           2159.99999999 -10709.99999998  17919.99999997\n",
      "  -9449.99999999]\n"
     ]
    }
   ],
   "source": [
    "print(x)"
   ]
  },
  {
   "cell_type": "code",
   "execution_count": 190,
   "metadata": {},
   "outputs": [],
   "source": [
    "Ax = np.dot(A, x)"
   ]
  },
  {
   "cell_type": "code",
   "execution_count": 191,
   "metadata": {},
   "outputs": [],
   "source": [
    "r = b - Ax"
   ]
  },
  {
   "cell_type": "code",
   "execution_count": 192,
   "metadata": {},
   "outputs": [
    {
     "name": "stdout",
     "output_type": "stream",
     "text": [
      "[ 1.42108547e-14 -3.90798505e-13 -3.34843264e-13  4.54747351e-13\n",
      "  1.94400052e-13]\n"
     ]
    }
   ],
   "source": [
    "print(r)"
   ]
  },
  {
   "cell_type": "code",
   "execution_count": 207,
   "metadata": {},
   "outputs": [],
   "source": [
    "norma_r = np.linalg.norm(r,np.inf)\n",
    "norma_Ax = np.linalg.norm(Ax, np.inf)"
   ]
  },
  {
   "cell_type": "code",
   "execution_count": 208,
   "metadata": {},
   "outputs": [
    {
     "name": "stdout",
     "output_type": "stream",
     "text": [
      "4.547473508864641e-13 4.999999999999986\n"
     ]
    }
   ],
   "source": [
    "print(norma_r, norma_Ax)"
   ]
  },
  {
   "cell_type": "code",
   "execution_count": 197,
   "metadata": {},
   "outputs": [],
   "source": [
    "def dokladnosc_maszynowa(x_0):\n",
    "    x = x_0\n",
    "    while x + 1 != 1:\n",
    "        x /= 2\n",
    "    return x"
   ]
  },
  {
   "cell_type": "code",
   "execution_count": 198,
   "metadata": {},
   "outputs": [],
   "source": [
    "u = dokladnosc_maszynowa(1)"
   ]
  },
  {
   "cell_type": "code",
   "execution_count": 199,
   "metadata": {},
   "outputs": [],
   "source": [
    "delta_x = solve(A, r)"
   ]
  },
  {
   "cell_type": "code",
   "execution_count": 206,
   "metadata": {},
   "outputs": [],
   "source": [
    "def iteracyjne_poprawianie_rozwiazan(A, b):\n",
    "    L,U = lu(A) #rozkład LU\n",
    "    y = solve(L, b) #rozwiązujemy za pomocą LU\n",
    "    x = solve(U, y)\n",
    "    Ax = np.dot(A, x)\n",
    "    r = b - Ax #reszty\n",
    "    u = dokladnosc_maszynowa(1)\n",
    "    while np.linalg.norm(r,np.inf) < np.linalg.norm(Ax, np.inf) * u:\n",
    "        delta_x = solve(A, r)\n",
    "        x += delta_x\n",
    "        r = b - np.dot(A, x)\n",
    "    return x"
   ]
  },
  {
   "cell_type": "code",
   "execution_count": 205,
   "metadata": {},
   "outputs": [
    {
     "name": "stdout",
     "output_type": "stream",
     "text": [
      "[   -95.           2159.99999999 -10709.99999998  17919.99999997\n",
      "  -9449.99999999]\n"
     ]
    }
   ],
   "source": [
    "print(iteracyjne_poprawianie_rozwiazan(A, b))"
   ]
  }
 ],
 "metadata": {
  "kernelspec": {
   "display_name": "Python 3",
   "language": "python",
   "name": "python3"
  },
  "language_info": {
   "codemirror_mode": {
    "name": "ipython",
    "version": 3
   },
   "file_extension": ".py",
   "mimetype": "text/x-python",
   "name": "python",
   "nbconvert_exporter": "python",
   "pygments_lexer": "ipython3",
   "version": "3.8.0"
  }
 },
 "nbformat": 4,
 "nbformat_minor": 2
}
