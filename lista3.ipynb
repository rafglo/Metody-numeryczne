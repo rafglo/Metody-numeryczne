{
 "cells": [
  {
   "cell_type": "markdown",
   "metadata": {},
   "source": [
    "### **Lista 3**\n",
    "##### Rafał Głodek\n",
    "***"
   ]
  },
  {
   "cell_type": "markdown",
   "metadata": {},
   "source": [
    "**Zadanie 1**"
   ]
  },
  {
   "cell_type": "code",
   "execution_count": 1,
   "metadata": {},
   "outputs": [],
   "source": [
    "import numpy as np\n",
    "from scipy.linalg import solve"
   ]
  },
  {
   "cell_type": "code",
   "execution_count": 36,
   "metadata": {},
   "outputs": [],
   "source": [
    "def Lu(mat):\n",
    "    mat = mat.astype(float)\n",
    "    n = len(mat)\n",
    "    L, U = np.zeros((n,n)), np.zeros((n,n))\n",
    "\n",
    "    for i in range(n):\n",
    "        for k in range(i, n):\n",
    "            sum_ = 0\n",
    "            for j in range(i):\n",
    "                sum_ += (L[i][j] * U[j][k])\n",
    "            U[i][k] = mat[i][k] - sum_\n",
    "\n",
    "        for k in range(i, n):\n",
    "            if (i == k):\n",
    "                L[i][i] = 1 \n",
    "            else:\n",
    "                sum_ = 0\n",
    "                for j in range(i):\n",
    "                    sum_ += (L[k][j] * U[j][i])\n",
    "                L[k][i] = (mat[k][i] - sum_) / U[i][i]\n",
    "    return L, U\n"
   ]
  },
  {
   "cell_type": "code",
   "execution_count": 37,
   "metadata": {},
   "outputs": [],
   "source": [
    "def dokladnosc_maszynowa(x_0):\n",
    "    x = x_0\n",
    "    while x + 1 != 1:\n",
    "        x /= 2\n",
    "    return x"
   ]
  },
  {
   "cell_type": "code",
   "execution_count": 38,
   "metadata": {},
   "outputs": [],
   "source": [
    "A = np.array([\n",
    "    [1, 1/2, 1/3, 1/4, 1/5],\n",
    "    [1/2, 1/3, 1/4, 1/5, 1/6],\n",
    "    [1/3, 1/4, 1/5, 1/6, 1/7],\n",
    "    [1/4, 1/5, 1/6, 1/7, 1/8],\n",
    "    [1/5, 1/6, 1/7, 1/8, 1/9]\n",
    "])\n",
    "\n",
    "b = np.array([5,4,3,2,1])\n",
    "\n",
    "augmented_matrix = np.column_stack((A, b))"
   ]
  },
  {
   "cell_type": "code",
   "execution_count": 39,
   "metadata": {},
   "outputs": [],
   "source": [
    "def iteracyjne_poprawianie_rozwiazan(A, b):\n",
    "    L,U = Lu(A)#rozkład LU\n",
    "    y = solve(L, b)#rozwiązujemy za pomocą LU\n",
    "    x =  [1,1,1,1,1]\n",
    "    x_0 = x\n",
    "    Ax = np.dot(A, x)\n",
    "    r = (b.astype(np.float64) - Ax.astype(np.float64))#reszty\n",
    "    u = np.finfo(np.float64).eps * 10**2\n",
    "    while np.linalg.norm(r,np.inf) > np.linalg.norm(np.dot(A,x), np.inf) * u:\n",
    "        delta_x = solve(A, r)\n",
    "        x += delta_x\n",
    "        r = b.astype(np.float64) - np.dot(A, x).astype(np.float64)\n",
    "    return x, x_0"
   ]
  },
  {
   "cell_type": "code",
   "execution_count": 40,
   "metadata": {},
   "outputs": [
    {
     "name": "stdout",
     "output_type": "stream",
     "text": [
      "(array([   -95.        ,   2160.00000001, -10710.00000003,  17920.00000004,\n",
      "        -9450.00000002]), [1, 1, 1, 1, 1])\n"
     ]
    }
   ],
   "source": [
    "print(iteracyjne_poprawianie_rozwiazan(A, b))"
   ]
  },
  {
   "cell_type": "code",
   "execution_count": 41,
   "metadata": {},
   "outputs": [],
   "source": [
    "from scipy.linalg import lu, solve\n",
    "\n",
    "def iterative_refinement(A, b):\n",
    "    P, L, U = lu(A)\n",
    "    y = solve(L, np.dot(P, b))  \n",
    "    x = solve(U, y)              \n",
    "    x_0 = x.copy()            \n",
    "\n",
    "    r = b - np.dot(A, x)\n",
    "    u = np.finfo(np.float64).eps * 10**2\n",
    "    \n",
    "    while np.linalg.norm(r, np.inf) > np.linalg.norm(np.dot(A, x), np.inf) * u:\n",
    "        delta_x = solve(A, r)\n",
    "        x += delta_x \n",
    "        r = b - np.dot(A, x)\n",
    "        \n",
    "    return x, x_0\n"
   ]
  },
  {
   "cell_type": "code",
   "execution_count": 49,
   "metadata": {},
   "outputs": [
    {
     "name": "stdout",
     "output_type": "stream",
     "text": [
      "Metoda 1: \n",
      "Rozwiązanie początkowe: [1, 1, 1, 1, 1]\n",
      "Rozwiązanie końcowe: [   -95.           2160.00000001 -10710.00000003  17920.00000004\n",
      "  -9450.00000002]\n"
     ]
    }
   ],
   "source": [
    "x_nowe, x_stare = iteracyjne_poprawianie_rozwiazan(A,b)\n",
    "print(f\"Metoda 1: \\nRozwiązanie początkowe: {x_stare}\\nRozwiązanie końcowe: {x_nowe}\")"
   ]
  },
  {
   "cell_type": "code",
   "execution_count": 50,
   "metadata": {},
   "outputs": [
    {
     "name": "stdout",
     "output_type": "stream",
     "text": [
      "Metoda 2: \n",
      "Rozwiązanie początkowe: [   -95.           2160.00000002 -10710.00000008  17920.00000012\n",
      "  -9450.00000006]\n",
      "Rozwiązanie końcowe: [   -95.           2160.         -10710.00000001  17920.00000002\n",
      "  -9450.00000001]\n"
     ]
    }
   ],
   "source": [
    "x_nowe2, x_stare2 = iterative_refinement(A,b)\n",
    "print(f\"Metoda 2: \\nRozwiązanie początkowe: {x_stare2}\\nRozwiązanie końcowe: {x_nowe2}\")"
   ]
  },
  {
   "cell_type": "markdown",
   "metadata": {},
   "source": [
    "***\n",
    "**Zadanie 2**"
   ]
  },
  {
   "cell_type": "code",
   "execution_count": 5,
   "metadata": {},
   "outputs": [],
   "source": [
    "def generate_matrix_A(n):\n",
    "    mat = np.zeros((n,n))\n",
    "    for i in range(n):\n",
    "        mat[i][i] = 4\n",
    "        if i - 1 >= 0:\n",
    "            mat[i][i-1] = -1\n",
    "        if i + 1 < n:\n",
    "            mat[i][i+1] = -1\n",
    "        mat[0][-1] = 1\n",
    "        mat[-1][0] = 1\n",
    "    return mat\n",
    "                     "
   ]
  },
  {
   "cell_type": "code",
   "execution_count": 6,
   "metadata": {},
   "outputs": [],
   "source": [
    "def generate_matrix_b(n):\n",
    "    b = np.zeros(n)\n",
    "    b[-1] = 100\n",
    "    return b"
   ]
  },
  {
   "cell_type": "code",
   "execution_count": 7,
   "metadata": {},
   "outputs": [],
   "source": [
    "def ldu(mat):\n",
    "    n = len(mat)\n",
    "    l, d, u = mat.copy(), mat.copy(), mat.copy()\n",
    "    for i in range(n):\n",
    "        for j in range(n):\n",
    "            if j > i:\n",
    "                l[i][j] = 0\n",
    "                d[i][j] = 0\n",
    "            if j == i:\n",
    "                l[i][j] = 0\n",
    "                u[i][j] = 0\n",
    "            if i > j:\n",
    "                u[i][j] = 0\n",
    "                d[i][j] = 0\n",
    "    return l, d, u "
   ]
  },
  {
   "cell_type": "code",
   "execution_count": 22,
   "metadata": {},
   "outputs": [],
   "source": [
    "n = 20\n",
    "A,b = generate_matrix_A(n), generate_matrix_b(n)"
   ]
  },
  {
   "cell_type": "code",
   "execution_count": 23,
   "metadata": {},
   "outputs": [],
   "source": [
    "def gauss_siedel(A, b, error):\n",
    "    L, D, U = ldu(A)\n",
    "    n = len(A)\n",
    "    N = np.linalg.inv(D + L)\n",
    "    M = np.dot(-N, U)\n",
    "    x_0 = np.zeros(n)\n",
    "    x = np.dot(M, x_0) + np.dot(N, b)\n",
    "    while np.linalg.norm(x-x_0, np.inf) > error:\n",
    "        x_0 = x\n",
    "        x = np.dot(M, x_0) + np.dot(N, b)\n",
    "    if_converges = max(np.linalg.eig(M)[0]) < 1\n",
    "    return x, if_converges\n",
    "\n"
   ]
  },
  {
   "cell_type": "code",
   "execution_count": 24,
   "metadata": {},
   "outputs": [],
   "source": [
    "error = 10**(-4)"
   ]
  },
  {
   "cell_type": "code",
   "execution_count": 30,
   "metadata": {},
   "outputs": [
    {
     "name": "stdout",
     "output_type": "stream",
     "text": [
      "Rozwiązanie dla błędu 0.0001: \n",
      "x = [-7.73502629e+00 -2.07259392e+00 -5.55349816e-01 -1.48805513e-01\n",
      " -3.98723081e-02 -1.06837493e-02 -2.86270063e-03 -7.67057804e-04\n",
      " -1.99571861e-04 -1.33488979e-05  1.75233293e-04  7.48182125e-04\n",
      "  2.84927656e-03  1.06743492e-02  3.98661297e-02  1.48801747e-01\n",
      "  5.55347733e-01  2.07259300e+00  7.73502629e+00  2.88675131e+01]\n",
      "Zbieżność rozwiązania: True\n"
     ]
    }
   ],
   "source": [
    "result, convergence = gauss_siedel(A, b, error)\n",
    "print(f\"Rozwiązanie dla błędu {error}: \\nx = {result}\")\n",
    "print(f\"Zbieżność rozwiązania: {convergence}\")"
   ]
  },
  {
   "cell_type": "markdown",
   "metadata": {},
   "source": [
    "***\n",
    "**Zadanie 3**"
   ]
  },
  {
   "cell_type": "code",
   "execution_count": 32,
   "metadata": {},
   "outputs": [],
   "source": [
    "from ipynb.fs.full.lista2 import gauss,rozwiazanie\n",
    "import cProfile"
   ]
  },
  {
   "cell_type": "code",
   "execution_count": 27,
   "metadata": {},
   "outputs": [],
   "source": [
    "augmented_matrix = np.column_stack((A, b))"
   ]
  },
  {
   "cell_type": "code",
   "execution_count": 31,
   "metadata": {},
   "outputs": [
    {
     "name": "stdout",
     "output_type": "stream",
     "text": [
      "Rozwiązanie metodą eliminacji Gaussa: \n",
      "x = [-7.73502692e+00 -2.07259421e+00 -5.55349941e-01 -1.48805549e-01\n",
      " -3.98722562e-02 -1.06834753e-02 -2.86164518e-03 -7.63105381e-04\n",
      " -1.90776345e-04 -3.63138871e-20  1.90776345e-04  7.63105381e-04\n",
      "  2.86164518e-03  1.06834753e-02  3.98722562e-02  1.48805549e-01\n",
      "  5.55349941e-01  2.07259421e+00  7.73502692e+00  2.88675135e+01]\n"
     ]
    }
   ],
   "source": [
    "print(f\"Rozwiązanie metodą eliminacji Gaussa: \\nx = {rozwiazanie(gauss(augmented_matrix)[0])}\")"
   ]
  },
  {
   "cell_type": "code",
   "execution_count": 33,
   "metadata": {},
   "outputs": [
    {
     "name": "stdout",
     "output_type": "stream",
     "text": [
      "         108 function calls in 0.001 seconds\n",
      "\n",
      "   Ordered by: standard name\n",
      "\n",
      "   ncalls  tottime  percall  cumtime  percall filename:lineno(function)\n",
      "        1    0.000    0.000    0.001    0.001 2449507993.py:1(main)\n",
      "        1    0.000    0.000    0.001    0.001 <string>:1(<module>)\n",
      "       20    0.000    0.000    0.000    0.000 fromnumeric.py:1264(_argmax_dispatcher)\n",
      "       20    0.000    0.000    0.000    0.000 fromnumeric.py:1268(argmax)\n",
      "       20    0.000    0.000    0.000    0.000 fromnumeric.py:51(_wrapfunc)\n",
      "        1    0.001    0.001    0.001    0.001 lista2.ipynb:126(gauss)\n",
      "        1    0.000    0.000    0.001    0.001 {built-in method builtins.exec}\n",
      "       20    0.000    0.000    0.000    0.000 {built-in method builtins.getattr}\n",
      "        2    0.000    0.000    0.000    0.000 {built-in method builtins.len}\n",
      "        1    0.000    0.000    0.000    0.000 {built-in method numpy.array}\n",
      "       20    0.000    0.000    0.000    0.000 {method 'argmax' of 'numpy.ndarray' objects}\n",
      "        1    0.000    0.000    0.000    0.000 {method 'disable' of '_lsprof.Profiler' objects}\n",
      "\n",
      "\n"
     ]
    }
   ],
   "source": [
    "def main():\n",
    "    gauss(augmented_matrix)\n",
    "\n",
    "if __name__ == '__main__':\n",
    "    cProfile.run('main()')"
   ]
  },
  {
   "cell_type": "code",
   "execution_count": 36,
   "metadata": {},
   "outputs": [
    {
     "name": "stdout",
     "output_type": "stream",
     "text": [
      "         280 function calls in 0.001 seconds\n",
      "\n",
      "   Ordered by: standard name\n",
      "\n",
      "   ncalls  tottime  percall  cumtime  percall filename:lineno(function)\n",
      "        1    0.000    0.000    0.001    0.001 1615432520.py:1(main)\n",
      "        1    0.000    0.000    0.000    0.000 1713615400.py:1(ldu)\n",
      "        1    0.000    0.000    0.000    0.000 2136754797.py:1(gauss_siedel)\n",
      "        1    0.000    0.000    0.000    0.000 <string>:1(<lambda>)\n",
      "        1    0.000    0.000    0.001    0.001 <string>:1(<module>)\n",
      "        2    0.000    0.000    0.000    0.000 _linalg.py:123(_makearray)\n",
      "        5    0.000    0.000    0.000    0.000 _linalg.py:128(isComplexType)\n",
      "        1    0.000    0.000    0.000    0.000 _linalg.py:1345(eig)\n",
      "        2    0.000    0.000    0.000    0.000 _linalg.py:142(_realType)\n",
      "        1    0.000    0.000    0.000    0.000 _linalg.py:145(_complexType)\n",
      "        2    0.000    0.000    0.000    0.000 _linalg.py:148(_commonType)\n",
      "        2    0.000    0.000    0.000    0.000 _linalg.py:192(_assert_stacked_2d)\n",
      "        2    0.000    0.000    0.000    0.000 _linalg.py:198(_assert_stacked_square)\n",
      "        1    0.000    0.000    0.000    0.000 _linalg.py:204(_assert_finite)\n",
      "       12    0.000    0.000    0.000    0.000 _linalg.py:2620(_norm_dispatcher)\n",
      "       12    0.000    0.000    0.000    0.000 _linalg.py:2624(norm)\n",
      "        2    0.000    0.000    0.000    0.000 _linalg.py:495(_unary_dispatcher)\n",
      "        1    0.000    0.000    0.000    0.000 _linalg.py:499(inv)\n",
      "       12    0.000    0.000    0.000    0.000 _methods.py:43(_amax)\n",
      "        1    0.000    0.000    0.000    0.000 _methods.py:68(_all)\n",
      "        2    0.000    0.000    0.000    0.000 _ufunc_config.py:431(__init__)\n",
      "        2    0.000    0.000    0.000    0.000 _ufunc_config.py:441(__enter__)\n",
      "        2    0.000    0.000    0.000    0.000 _ufunc_config.py:457(__exit__)\n",
      "        6    0.000    0.000    0.000    0.000 enum.py:1145(__new__)\n",
      "       18    0.000    0.000    0.000    0.000 enum.py:1574(_get_value)\n",
      "        6    0.000    0.000    0.000    0.000 enum.py:1581(__or__)\n",
      "        6    0.000    0.000    0.000    0.000 enum.py:691(__call__)\n",
      "        1    0.000    0.000    0.000    0.000 fromnumeric.py:2606(_all_dispatcher)\n",
      "        1    0.000    0.000    0.000    0.000 fromnumeric.py:2611(all)\n",
      "        1    0.000    0.000    0.000    0.000 fromnumeric.py:89(_wrapreduction_any_all)\n",
      "        1    0.000    0.000    0.000    0.000 iostream.py:213(_is_master_process)\n",
      "        1    0.000    0.000    0.000    0.000 iostream.py:216(_check_mp_mode)\n",
      "        1    0.000    0.000    0.000    0.000 iostream.py:255(closed)\n",
      "       25    0.000    0.000    0.000    0.000 multiarray.py:757(dot)\n",
      "        6    0.000    0.000    0.000    0.000 socket.py:626(send)\n",
      "        1    0.000    0.000    0.000    0.000 {built-in method __new__ of type object at 0x00007FF8AC6708A0}\n",
      "        1    0.000    0.000    0.001    0.001 {built-in method builtins.exec}\n",
      "        2    0.000    0.000    0.000    0.000 {built-in method builtins.getattr}\n",
      "       37    0.000    0.000    0.000    0.000 {built-in method builtins.isinstance}\n",
      "       19    0.000    0.000    0.000    0.000 {built-in method builtins.issubclass}\n",
      "       14    0.000    0.000    0.000    0.000 {built-in method builtins.len}\n",
      "        1    0.000    0.000    0.000    0.000 {built-in method builtins.max}\n",
      "        1    0.000    0.000    0.000    0.000 {built-in method nt.getpid}\n",
      "        2    0.000    0.000    0.000    0.000 {built-in method numpy._core._multiarray_umath._make_extobj}\n",
      "       14    0.000    0.000    0.000    0.000 {built-in method numpy.asarray}\n",
      "        1    0.000    0.000    0.000    0.000 {built-in method numpy.zeros}\n",
      "        2    0.000    0.000    0.000    0.000 {method '__array_wrap__' of 'numpy.ndarray' objects}\n",
      "        1    0.000    0.000    0.000    0.000 {method 'all' of 'numpy.ndarray' objects}\n",
      "        3    0.000    0.000    0.000    0.000 {method 'astype' of 'numpy.ndarray' objects}\n",
      "        3    0.000    0.000    0.000    0.000 {method 'copy' of 'numpy.ndarray' objects}\n",
      "        1    0.000    0.000    0.000    0.000 {method 'disable' of '_lsprof.Profiler' objects}\n",
      "        3    0.000    0.000    0.000    0.000 {method 'get' of 'dict' objects}\n",
      "        1    0.000    0.000    0.000    0.000 {method 'items' of 'dict' objects}\n",
      "       12    0.000    0.000    0.000    0.000 {method 'max' of 'numpy.ndarray' objects}\n",
      "        1    0.000    0.000    0.000    0.000 {method 'popleft' of 'collections.deque' objects}\n",
      "       14    0.000    0.000    0.000    0.000 {method 'reduce' of 'numpy.ufunc' objects}\n",
      "        2    0.000    0.000    0.000    0.000 {method 'reset' of '_contextvars.ContextVar' objects}\n",
      "        2    0.000    0.000    0.000    0.000 {method 'set' of '_contextvars.ContextVar' objects}\n",
      "\n",
      "\n"
     ]
    }
   ],
   "source": [
    "def main():\n",
    "    gauss_siedel(A,b, error)\n",
    "\n",
    "if __name__ == '__main__':\n",
    "    cProfile.run('main()')"
   ]
  },
  {
   "cell_type": "markdown",
   "metadata": {},
   "source": [
    "Złożoność obliczeniowa:\n",
    "1. Gauss-Seidel:\n",
    "- ldu() ma złożoność $O(n^2)$ - dwie pętle of 1 do n\n",
    "- każda operacja na macierzach ma złożoność $O(n^2)$, ponieważ wykonujemy je na każdym wierszu, iterując po każdej kolumnie, całkowita złożonośc tych operacji zależy jednak od liczby iteracji $k$, którą ustalimy (wybierając odpowiednią wielkość błędu)\n",
    "- całkowity nakład obliczeń w tym wypadku wynosi $O(k\\cdot n^2)$\n",
    "- dla szybko zbiegających rozwiązań $k$ będzie małe, a co za tym idzie - złożoność będzie rzędu $O(n^2)$\n",
    "- w najgroszym wypadku $(k=n)$ osiągniemy nakład rzędu $O(n^3)$\n",
    "\n",
    "2. Gauss\n",
    "- Dla każdego wiersza wykonujemy operacje o złożoności $O(n)$, a dla każdego kroku wiersza $k$ (których jest $n$) wykonujemy $n$ takich kroków. \n",
    "- Całkowita złożoność tej metody jest równa $O(n^3)$ (dla każdej macierzy)\n",
    "\n",
    "3. Porównanie \n",
    "- Metoda Gaussa-Seidla jest bardziej efektywna dla układów równań (w szczególności dużych macierzy) z szybko zbiegającymi rozwiązaniami"
   ]
  },
  {
   "cell_type": "code",
   "execution_count": null,
   "metadata": {},
   "outputs": [],
   "source": []
  }
 ],
 "metadata": {
  "kernelspec": {
   "display_name": "Python 3",
   "language": "python",
   "name": "python3"
  },
  "language_info": {
   "codemirror_mode": {
    "name": "ipython",
    "version": 3
   },
   "file_extension": ".py",
   "mimetype": "text/x-python",
   "name": "python",
   "nbconvert_exporter": "python",
   "pygments_lexer": "ipython3",
   "version": "3.13.0"
  }
 },
 "nbformat": 4,
 "nbformat_minor": 2
}
